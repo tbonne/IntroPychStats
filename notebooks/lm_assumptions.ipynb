{
  "nbformat": 4,
  "nbformat_minor": 0,
  "metadata": {
    "colab": {
      "name": "lm_assumptions.ipynb",
      "provenance": [],
      "collapsed_sections": [],
      "authorship_tag": "ABX9TyOFY/hzHo62eiLO1EJmyHOS",
      "include_colab_link": true
    },
    "kernelspec": {
      "name": "ir",
      "display_name": "R"
    },
    "language_info": {
      "name": "R"
    }
  },
  "cells": [
    {
      "cell_type": "markdown",
      "metadata": {
        "id": "view-in-github",
        "colab_type": "text"
      },
      "source": [
        "<a href=\"https://colab.research.google.com/github/tbonne/IntroPychStats/blob/main/notebooks/lm_assumptions.ipynb\" target=\"_parent\"><img src=\"https://colab.research.google.com/assets/colab-badge.svg\" alt=\"Open In Colab\"/></a>"
      ]
    },
    {
      "cell_type": "markdown",
      "metadata": {
        "id": "trouKhmEw-ii"
      },
      "source": [
        "<img src='http://drive.google.com/uc?export=view&id=1Kn0ZllPYV8NAxE4lDukMecpRQ088GjwY' width=300>"
      ]
    },
    {
      "cell_type": "markdown",
      "metadata": {
        "id": "5Z2vKe5lxjuk"
      },
      "source": [
        "#<font color='darkorange'>Is our model making good estimates of intercepts (a) and slopes (b)</font>"
      ]
    },
    {
      "cell_type": "markdown",
      "metadata": {
        "id": "_QeNGJdGx3tD"
      },
      "source": [
        "In this notebook we'll use the happiness data to start to understand when our model is likely to make good estimates of the intercepts and slopes? We'll learn about some of the assumptions we are making when we fit a linear regression, and how when these assumptions are not met we can get poor estimates of intercepts and slopes.  \n"
      ]
    },
    {
      "cell_type": "markdown",
      "metadata": {
        "id": "GNz8wsU5jsPk"
      },
      "source": [
        "### 1. Load in the data"
      ]
    },
    {
      "cell_type": "markdown",
      "metadata": {
        "id": "h5dkpbBqARsC"
      },
      "source": [
        "Lets load in some packages. These have functions that other people have made, and will hopefully make our lives a lot easier!"
      ]
    },
    {
      "cell_type": "code",
      "metadata": {
        "id": "NMCdcYmyAQNB"
      },
      "source": [
        "install.packages(\"jtools\")\n",
        "install.packages(\"ggstance\")\n",
        "library(jtools)"
      ],
      "execution_count": null,
      "outputs": []
    },
    {
      "cell_type": "markdown",
      "metadata": {
        "id": "FvGBLDcmW8YG"
      },
      "source": [
        "Then let's load in the [world happiness data](https://worldhappiness.report/faq/)."
      ]
    },
    {
      "cell_type": "code",
      "metadata": {
        "id": "W4l2Cb0PzjGW"
      },
      "source": [
        "#here we will read in a csv file and place it into something called df\n",
        "df_happy <- read.csv(\"https://raw.githubusercontent.com/tbonne/IntroPychStats/main/data/worldHappiness.csv\", header = T)\n",
        "\n",
        "#let's take a look at the data\n",
        "head(df_happy)"
      ],
      "execution_count": null,
      "outputs": []
    },
    {
      "cell_type": "markdown",
      "metadata": {
        "id": "-lze8JTlc74F"
      },
      "source": [
        "Now that we can see the data, think about a question you might like to ask about what might lead to some contries having higher/lower happiness than others. \n",
        "\n",
        "> E.g., what predicts a countries happiness?"
      ]
    },
    {
      "cell_type": "markdown",
      "metadata": {
        "id": "87dWXJj-dIvS"
      },
      "source": [
        "Write out your question in words here: \n",
        "> How is individual freedom associated with happiness in a country?"
      ]
    },
    {
      "cell_type": "markdown",
      "metadata": {
        "id": "AMbKrM93zjGX"
      },
      "source": [
        "### 2. Visualize our data\n",
        "\n",
        "Then let's plot the scatterplot. Here we will choose: \n",
        "> What we'd like to predict and put it on the y-axis.\n",
        "\n",
        "> What we'd like to use to help make those predictions and put it on the x-axis.\n",
        "\n",
        "> The choice of these variables should follow from the question you're asking above!\n"
      ]
    },
    {
      "cell_type": "markdown",
      "metadata": {
        "id": "1RyfZwaKAFmq"
      },
      "source": [
        "<font color = \"darkred\"> (?) for the question mark below you should replace it with the column name that you'd like to use to make predictions about happiness of a country (i.e., LifeLadder variable). </font>"
      ]
    },
    {
      "cell_type": "code",
      "metadata": {
        "id": "YCT-75fRzjGX"
      },
      "source": [
        "plot(x=df_happy$GDP,y=df_happy$LifeLadder) "
      ],
      "execution_count": null,
      "outputs": []
    },
    {
      "cell_type": "markdown",
      "metadata": {
        "id": "K9X0c24QzjGX"
      },
      "source": [
        "### 3. Define and fit our model\n",
        "\n",
        "Now we can speficy the model we'd like to fit.\n",
        "> Remember, here we use the formula: \"what we'd like to predict\" ~ \"what we'd like to use to help make those predictions.\"\n",
        "  "
      ]
    },
    {
      "cell_type": "markdown",
      "metadata": {
        "id": "Er24y1fOAe03"
      },
      "source": [
        "<font color = \"darkred\"> (?) for the question mark below you should replace it with the formula that will help you answer your question. </font>"
      ]
    },
    {
      "cell_type": "code",
      "metadata": {
        "id": "g0-O08LrzjGY"
      },
      "source": [
        "#fit a linear model\n",
        "model_happy <- lm(LifeLadder ~ GDP, data=df_happy)\n"
      ],
      "execution_count": null,
      "outputs": []
    },
    {
      "cell_type": "markdown",
      "metadata": {
        "id": "svHTbyO12Guk"
      },
      "source": [
        "This bit of code then use our inputs to find the best fit linear equation for :\n",
        "> LifeLadder ~ Normal(mu, sd) \n",
        "\n",
        "> mu = a + b*Freedom\n"
      ]
    },
    {
      "cell_type": "markdown",
      "metadata": {
        "id": "lGtlgt5I0fJ4"
      },
      "source": [
        "Let's use the summ function to tell us what values of a and b it found for the best fit line. \n",
        "> Note: we'll also calculate our 95% confidence interval here too!"
      ]
    },
    {
      "cell_type": "code",
      "metadata": {
        "id": "32dy8P1A0fiu"
      },
      "source": [
        "#What does the best fit model look like?\n",
        "summ(model_happy, confint=TRUE)"
      ],
      "execution_count": null,
      "outputs": []
    },
    {
      "cell_type": "markdown",
      "metadata": {
        "id": "4KCh21RJzjGZ"
      },
      "source": [
        "We can see from this output that the model is pretty certain that the slope of the population is somewhere between ? and ?. \n",
        "> Those are the range of population values that are compatible with our sample!\n",
        "  \n",
        "We can also get a sense of how well your model predictions reflect the observed values using R2."
      ]
    },
    {
      "cell_type": "markdown",
      "metadata": {
        "id": "odCSqr1BZv_u"
      },
      "source": [
        "### 4. Visualize the results"
      ]
    },
    {
      "cell_type": "markdown",
      "metadata": {
        "id": "XdjGuaFZ_jYT"
      },
      "source": [
        "Let's take a look at the estimates a little more visually"
      ]
    },
    {
      "cell_type": "code",
      "metadata": {
        "id": "r4fj57a7_mRa"
      },
      "source": [
        "#plot the estimates of the slopes\n",
        "plot_summs(model_happy)"
      ],
      "execution_count": null,
      "outputs": []
    },
    {
      "cell_type": "markdown",
      "metadata": {
        "id": "qhxESbN27BNZ"
      },
      "source": [
        "Let's take a look at the regression line a little more visually"
      ]
    },
    {
      "cell_type": "markdown",
      "metadata": {
        "id": "VPzC25sMA8uk"
      },
      "source": [
        "<font color = \"darkred\"> (?) for the question mark below you should replace it with the variable that you used to help make your predictions. </font>"
      ]
    },
    {
      "cell_type": "code",
      "metadata": {
        "id": "t68PheeXo7F9"
      },
      "source": [
        "#plot line on the data\n",
        "effect_plot(model_happy, pred = GDP, interval = TRUE, plot.points = TRUE)"
      ],
      "execution_count": null,
      "outputs": []
    },
    {
      "cell_type": "markdown",
      "metadata": {
        "id": "ahoXU8HzYzlM"
      },
      "source": [
        "### 5. Checking assumptions"
      ]
    },
    {
      "cell_type": "markdown",
      "metadata": {
        "id": "FcO_XSKdfdyr"
      },
      "source": [
        "**Assumption 1**\n",
        "\n",
        "Let's check the assumption that the errors (residuals) are normally distributed."
      ]
    },
    {
      "cell_type": "code",
      "metadata": {
        "id": "ASugh5jufsY5"
      },
      "source": [
        "hist(model_happy$residuals)"
      ],
      "execution_count": null,
      "outputs": []
    },
    {
      "cell_type": "markdown",
      "metadata": {
        "id": "EtBUci2VkxRS"
      },
      "source": [
        "The above plot is just like the histograms we've looked at in the past. Now we are looking at how errors are distributed.\n",
        "\n",
        "> If the errors do not look to have many small errors and few large errors (both positive and negative) then a normal distribution might not be the best model of the data. We might also be missing an important variable..."
      ]
    },
    {
      "cell_type": "markdown",
      "metadata": {
        "id": "58GItzyDhntE"
      },
      "source": [
        "**Assumption 2** - no patterns in the residuals\n",
        "  \n",
        "Let's check the assumption that the variance in the errors is constant."
      ]
    },
    {
      "cell_type": "code",
      "metadata": {
        "id": "2yUMbAxyhuy7"
      },
      "source": [
        "plot(y=model_happy$residuals, x=model_happy$fitted.values)\n",
        "abline(h = 0, lty=3)"
      ],
      "execution_count": null,
      "outputs": []
    },
    {
      "cell_type": "markdown",
      "metadata": {
        "id": "nm3ciXHmj88J"
      },
      "source": [
        "The above plot shows you all the errors (residuals) for each value that the model predicts. Ideally, we'd like to see errors evenly distributed around 0 (i.e., the dashed line).\n",
        "\n",
        "> If there is more variance in the errors for some prediction values then this means the model is better at predicting some values than others. "
      ]
    },
    {
      "cell_type": "markdown",
      "metadata": {
        "id": "B7sq7l6wl4KZ"
      },
      "source": [
        "**Assumption 2** - no patterns in the residuals\n",
        "   \n",
        "Let's check the assumption that the relationship between your variables is linear (i.e., that a straight line and not a curvy line fit the data best). We can see this intuatively in the origianl scatter plot, or we can look at the residuals!"
      ]
    },
    {
      "cell_type": "code",
      "metadata": {
        "id": "U3V5fD6JmUg9"
      },
      "source": [
        "plot(y=model_happy$residuals, x=model_happy$fitted.values)\n",
        "abline(h = 0, lty=3)"
      ],
      "execution_count": null,
      "outputs": []
    },
    {
      "cell_type": "markdown",
      "metadata": {
        "id": "E-q2qacNmZdH"
      },
      "source": [
        "The plot above is just the line fit to the scatterplot we saw before. Intuatively you can check to see if the straight line fits the data, or if a curvy line might fit better."
      ]
    },
    {
      "cell_type": "markdown",
      "metadata": {
        "id": "6k_jpW3Em3Oq"
      },
      "source": [
        "There are two things to keep in mind when checking the assumptions of the linear regression.\n",
        "\n",
        "> The first is that the assumptions do not need to be perfect to give you a resonable estimate.\n",
        "\n",
        "> The second is that often the way the model fails can help you build a better model."
      ]
    },
    {
      "cell_type": "markdown",
      "metadata": {
        "id": "dVm_EGLicEd2"
      },
      "source": [
        "### 6. Interpret the results"
      ]
    },
    {
      "cell_type": "markdown",
      "metadata": {
        "id": "paxXBaCUcGbn"
      },
      "source": [
        "From the results above what can you answer the question you posed in section 1?  \n",
        "> What is the association between the two variables that you tested?\n",
        "\n",
        "> What does the confidence interval tell you about how certain you are in the sign and magnitude of that association?\n",
        "\n",
        "> How \"good\" are your model predictions?\n",
        "\n",
        "> Think about internal validity of our results: can we say what causes what?\n",
        "\n",
        "> Think about the external validity of our results: can we generalize from our sample to real differences between countries?\n",
        "  \n",
        "> Feel free to post some of these answers to Slack as you go!\n",
        "  \n",
        "If you've finished this section, try going back up and asking another question!"
      ]
    }
  ]
}