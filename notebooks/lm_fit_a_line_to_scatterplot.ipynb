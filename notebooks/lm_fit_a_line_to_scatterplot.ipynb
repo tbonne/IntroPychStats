{
  "nbformat": 4,
  "nbformat_minor": 0,
  "metadata": {
    "colab": {
      "name": "lm_fit_a_line_to_scatterplot.ipynb",
      "provenance": [],
      "collapsed_sections": [],
      "authorship_tag": "ABX9TyNu1wnweVLC6yWYu5UHkcE2",
      "include_colab_link": true
    },
    "kernelspec": {
      "name": "ir",
      "display_name": "R"
    },
    "language_info": {
      "name": "R"
    }
  },
  "cells": [
    {
      "cell_type": "markdown",
      "metadata": {
        "id": "view-in-github",
        "colab_type": "text"
      },
      "source": [
        "<a href=\"https://colab.research.google.com/github/tbonne/IntroPychStats/blob/main/notebooks/lm_fit_a_line_to_scatterplot.ipynb\" target=\"_parent\"><img src=\"https://colab.research.google.com/assets/colab-badge.svg\" alt=\"Open In Colab\"/></a>"
      ]
    },
    {
      "cell_type": "markdown",
      "metadata": {
        "id": "trouKhmEw-ii"
      },
      "source": [
        "<img src='http://drive.google.com/uc?export=view&id=1VwLYFU_RpimHn-ApqqcH95EVIe00-UTE' width=500>"
      ]
    },
    {
      "cell_type": "markdown",
      "metadata": {
        "id": "5Z2vKe5lxjuk"
      },
      "source": [
        "#<font color='darkorange'>Fitting a line to data</font>"
      ]
    },
    {
      "cell_type": "markdown",
      "metadata": {
        "id": "_QeNGJdGx3tD"
      },
      "source": [
        "In this notebook we'll learn how to fit a line to data using a linear equation. This is the one equation in the class that i'd like you to be very familar with. It'll be very useful througout the rest of the class. So let's take a look!\n"
      ]
    },
    {
      "cell_type": "markdown",
      "metadata": {
        "id": "gXa7ZC11VSZn"
      },
      "source": [
        "y = a + b*x"
      ]
    },
    {
      "cell_type": "markdown",
      "metadata": {
        "id": "ZzFbmTd1VXte"
      },
      "source": [
        "In this equation we have variables (the data we are going to use: e.g., the columns in a spreadsheet).\n",
        "\n",
        "> Here the \"y\" is the values of the response variable. This is the thing you'd like to predict! So in the case of the IQ dataset this could be child IQ values.\n",
        "  \n",
        "> The \"x\" in the equation is the values you'd like to use to help make those predictions. Again in the case of the IQ dataset this could be the mom's IQ score.\n",
        "\n",
        "In this equation we also have parameters (these are learnt from the data)\n",
        "  \n",
        "> The \"a\" is the intercept, and measures where the linear line crosses the y-axis on the plot.\n",
        "\n",
        "> The \"b\" is the slope, and measures how the x value is predicted to change the y value. Positive slopes suggest that when x goes up so does y, and negative slopes suggest that when x goes up y goes down."
      ]
    },
    {
      "cell_type": "markdown",
      "metadata": {
        "id": "l8WO2IgVWmds"
      },
      "source": [
        "  \n",
        "  \n",
        "\n",
        "Now that we've looked at all the pieces of the equation, let's try to use it! This will help us better understand what variables we should use as inputs and what the parameters really mean. To do this let's try and fit a line to a scatterplot!"
      ]
    },
    {
      "cell_type": "markdown",
      "metadata": {
        "id": "FvGBLDcmW8YG"
      },
      "source": [
        "First let's load in the IQ data"
      ]
    },
    {
      "cell_type": "code",
      "metadata": {
        "id": "kfAX1xTcPuyy"
      },
      "source": [
        "#here we will read in a csv file and place it into something called df\n",
        "df_IQ <- read.csv(\"https://raw.githubusercontent.com/tbonne/IntroPychStats/main/data/kidIQ.csv\", header = T)\n",
        "\n",
        "#let's take a look at the data\n",
        "df_IQ"
      ],
      "execution_count": null,
      "outputs": []
    },
    {
      "cell_type": "markdown",
      "metadata": {
        "id": "yMuqlA5oXA_v"
      },
      "source": [
        "Then let's plot the scatterplot. Here we will choose: \n",
        "> what we'd like to predict (child IQ) and put it on the y-axis.\n",
        "> What we'd like to use to help make those predictions (mom IQ) and put it on the x-axis."
      ]
    },
    {
      "cell_type": "code",
      "metadata": {
        "id": "cOwAVA9EXAXj"
      },
      "source": [
        "plot(x=df_IQ$mom_iq,y=df_IQ$kid_score) "
      ],
      "execution_count": null,
      "outputs": []
    },
    {
      "cell_type": "markdown",
      "metadata": {
        "id": "fKFWbr7uXJsK"
      },
      "source": [
        "And let's choose what we will use for the intercept (a) and the slope (b) of the line. Let's try a couple of values and see what we think the best line is!"
      ]
    },
    {
      "cell_type": "code",
      "metadata": {
        "id": "hUaRpuZCXSXT"
      },
      "source": [
        "a = 10\n",
        "b = 0.2"
      ],
      "execution_count": null,
      "outputs": []
    },
    {
      "cell_type": "markdown",
      "metadata": {
        "id": "cejz_bgpn1qx"
      },
      "source": [
        "Now let's plot the scatterplot and the line to see if the line fits the scatter plot. Try out different values of a and b and see how that shifts and rotates the line! Remember:\n",
        "> \"a\" is where the line intercepts the y-axis\n",
        "  \n",
        "> \"b\" is the slope of the line"
      ]
    },
    {
      "cell_type": "code",
      "metadata": {
        "id": "899wXhZenzMt"
      },
      "source": [
        "plot(x=df_IQ$mom_iq,y=df_IQ$kid_score) \n",
        "abline(a=a,b=b)"
      ],
      "execution_count": null,
      "outputs": []
    },
    {
      "cell_type": "markdown",
      "metadata": {
        "id": "OdZTeeNqXetM"
      },
      "source": [
        "Once you've found the line that you think fits the data best, enter the parameter values you found work best in [this google form](https://docs.google.com/forms/d/e/1FAIpQLSfcEO5xySAfpVDcvXXQ9dcLzgABPV5hbSJFM5DionPsYBrDfA/viewform?usp=sf_link). We'll use these numbers to see if as a class we got close to the best-fit-line calculated by something called ordinary least squares in the next part of the class."
      ]
    }
  ]
}