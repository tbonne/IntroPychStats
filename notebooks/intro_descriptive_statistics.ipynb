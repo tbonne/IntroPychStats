{
  "nbformat": 4,
  "nbformat_minor": 0,
  "metadata": {
    "colab": {
      "name": "intro_descriptive_statistics.ipynb",
      "provenance": [],
      "collapsed_sections": [
        "vcS77d4uTEln"
      ],
      "authorship_tag": "ABX9TyNHCHJMQCBKPAkJwTlOZNNh",
      "include_colab_link": true
    },
    "kernelspec": {
      "name": "ir",
      "display_name": "R"
    },
    "language_info": {
      "name": "R"
    }
  },
  "cells": [
    {
      "cell_type": "markdown",
      "metadata": {
        "id": "view-in-github",
        "colab_type": "text"
      },
      "source": [
        "<a href=\"https://colab.research.google.com/github/tbonne/IntroPychStats/blob/main/notebooks/intro_descriptive_statistics.ipynb\" target=\"_parent\"><img src=\"https://colab.research.google.com/assets/colab-badge.svg\" alt=\"Open In Colab\"/></a>"
      ]
    },
    {
      "cell_type": "markdown",
      "metadata": {
        "id": "trouKhmEw-ii"
      },
      "source": [
        "<img src='http://drive.google.com/uc?export=view&id=1Jr9LVU3XrsXvTum3iqRn3SWkClHyNvmt' width=1500>\n"
      ]
    },
    {
      "cell_type": "markdown",
      "metadata": {
        "id": "5Z2vKe5lxjuk"
      },
      "source": [
        "#<font color='darkorange'>Normal Distribution</font>"
      ]
    },
    {
      "cell_type": "markdown",
      "metadata": {
        "id": "FqFEIuCj7Waq"
      },
      "source": [
        "In this exercise we'll learn about doing descriptive statistics in R. To do so we'll use heights of baseball players in the US. "
      ]
    },
    {
      "cell_type": "markdown",
      "metadata": {
        "id": "67SEgLD-7mSq"
      },
      "source": [
        "First let's bring the data into R and take a look at it!"
      ]
    },
    {
      "cell_type": "code",
      "metadata": {
        "id": "IVdr2qziGBuE"
      },
      "source": [
        "#read in the data using the read.cvs function\n",
        "df_heights <- read.csv(\"https://raw.githubusercontent.com/tbonne/IntroPychStats/main/data/height_weight_players.csv\")\n",
        "\n",
        "#take a look\n",
        "df_heights"
      ],
      "execution_count": null,
      "outputs": []
    },
    {
      "cell_type": "markdown",
      "metadata": {
        "id": "UcaktdEAGp90"
      },
      "source": [
        "Next let's do some descriptive statistics and calculate the mean and standard deviation of heights."
      ]
    },
    {
      "cell_type": "markdown",
      "metadata": {
        "id": "-ZFzKWiUGyKm"
      },
      "source": [
        "> Let's first calculate the mean!"
      ]
    },
    {
      "cell_type": "code",
      "metadata": {
        "id": "DH7jyMf0G1S2"
      },
      "source": [
        "mean(df_heights$Height)"
      ],
      "execution_count": null,
      "outputs": []
    },
    {
      "cell_type": "markdown",
      "metadata": {
        "id": "Ub4Wo5f3G9dw"
      },
      "source": [
        "> Then let's first calculate the standard deviation!"
      ]
    },
    {
      "cell_type": "code",
      "metadata": {
        "id": "OqOF6YoIHCWc"
      },
      "source": [
        "sd(df_heights$Height)"
      ],
      "execution_count": null,
      "outputs": []
    },
    {
      "cell_type": "markdown",
      "metadata": {
        "id": "3AvAHBb9StEm"
      },
      "source": [
        "Finally we can visualize heights using a histogram (very useful for numeric data!)"
      ]
    },
    {
      "cell_type": "code",
      "metadata": {
        "id": "BeGz0Jf4S3CI"
      },
      "source": [
        "?(df_heights$Height)"
      ],
      "execution_count": null,
      "outputs": []
    },
    {
      "cell_type": "markdown",
      "metadata": {
        "id": "vcS77d4uTEln"
      },
      "source": [
        "###<font color='darkorange'>Bonus</font>\n",
        "  \n",
        "If you have finished this exercise in class, or would like to become more familar with descriptive statistics in R, try getting the mean, sd, and histogram for weight (i.e., the \"Weight\" column).\n",
        "> Note: Try to add code blocks and text blocks below to keep your analysis organized."
      ]
    }
  ]
}