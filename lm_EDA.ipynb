{
  "nbformat": 4,
  "nbformat_minor": 0,
  "metadata": {
    "colab": {
      "name": "lm_EDA.ipynb",
      "provenance": [],
      "collapsed_sections": [],
      "authorship_tag": "ABX9TyNR1S+1aEAt66v78C1pBjKE",
      "include_colab_link": true
    },
    "kernelspec": {
      "name": "ir",
      "display_name": "R"
    },
    "language_info": {
      "name": "R"
    }
  },
  "cells": [
    {
      "cell_type": "markdown",
      "metadata": {
        "id": "view-in-github",
        "colab_type": "text"
      },
      "source": [
        "<a href=\"https://colab.research.google.com/github/tbonne/IntroPychStats/blob/main/lm_EDA.ipynb\" target=\"_parent\"><img src=\"https://colab.research.google.com/assets/colab-badge.svg\" alt=\"Open In Colab\"/></a>"
      ]
    },
    {
      "cell_type": "markdown",
      "metadata": {
        "id": "trouKhmEw-ii"
      },
      "source": [
        "<img src='http://drive.google.com/uc?export=view&id=1fDQUuaVfjkpHK2MpaeIQBe4UBME7l4SP' width=500>\n",
        "\n"
      ]
    },
    {
      "cell_type": "markdown",
      "metadata": {
        "id": "5Z2vKe5lxjuk"
      },
      "source": [
        "#<font color='darkorange'>Exploritory Data Analysis</font>"
      ]
    },
    {
      "cell_type": "markdown",
      "metadata": {
        "id": "_QeNGJdGx3tD"
      },
      "source": [
        "In this notebook we'll do some exploratory data analysis! You'll split into groups and choose a dataset to work on. I've place a few in this colab document so you can choose whichever one your group finds the most interesting. \n"
      ]
    },
    {
      "cell_type": "markdown",
      "metadata": {
        "id": "GNz8wsU5jsPk"
      },
      "source": [
        "### 1. Load in the data"
      ]
    },
    {
      "cell_type": "markdown",
      "metadata": {
        "id": "h5dkpbBqARsC"
      },
      "source": [
        "Lets load in some packages. These have functions that other people have made, and will hopefully make our lives a lot easier!"
      ]
    },
    {
      "cell_type": "code",
      "metadata": {
        "id": "NMCdcYmyAQNB"
      },
      "source": [
        "install.packages(\"jtools\")\n",
        "install.packages(\"ggstance\")\n",
        "library(jtools)"
      ],
      "execution_count": null,
      "outputs": []
    },
    {
      "cell_type": "markdown",
      "metadata": {
        "id": "FvGBLDcmW8YG"
      },
      "source": [
        "Below i've put in a few datasets that you might want to work with. Choose the one you find most interesting by removing the hashtag at the start of the line. \n",
        "\n",
        "To read more about each option:\n",
        "> [Boston house prices](https://www.kaggle.com/vikrishnan/boston-house-prices)\n",
        "\n",
        "> [Country happiness levels](https://www.kaggle.com/unsdsn/world-happiness)\n",
        "\n",
        "> [Student drinking behaviour on grades](https://www.kaggle.com/larsen0966/student-performance-data-set)\n",
        "\n",
        "> [Impact of female/male hurrican names](https://www.pnas.org/content/111/24/8782)\n",
        "\n",
        "> [Impact of a lunch program on student performance](https://www.kaggle.com/spscientist/students-performance-in-exams)\n",
        "\n",
        "> [Belief in fate replication](https://journals.sagepub.com/doi/10.1177/2515245918810225) (section 18. Reluctance to tempt fate )\n",
        "\n",
        "> [Level of crime in US states](https://www.sheffield.ac.uk/mash/statistics/datasets)\n",
        "\n",
        "> [Level of happiness and alcohol consumption](https://www.kaggle.com/marcospessotto/happiness-and-alcohol-consumption)\n",
        "\n",
        "> [Well-being and sociometric status](https://journals.sagepub.com/doi/10.1177/2515245918810225) (section 12. Sociometric status and well-being)\n",
        "\n",
        "\n"
      ]
    },
    {
      "cell_type": "markdown",
      "metadata": {
        "id": "l5wIgtzAxJPM"
      },
      "source": [
        "If none of these datasets intrest your group and you are feeling adventurous check out [kaggle.com/datasets](https://www.kaggle.com/datasets)!\n",
        "\n",
        "You might have to create an account and log in, but you'll get access to a lot of data. To bring the data into colab, just:\n",
        "\n",
        "> Download the data from kaggle (csv format if possible)\n",
        "> Click on the folder icon (top left of your screen)\n",
        "> Drag and drop your file into the files\n",
        "> Right click on your new file, then copy path\n",
        "> Finally, paste the path into read.csv(\"paste_your_path_here\", header=T)\n",
        "\n",
        "You should then be able to see the data!\n"
      ]
    },
    {
      "cell_type": "code",
      "metadata": {
        "id": "W4l2Cb0PzjGW"
      },
      "source": [
        "#Work with the boston house prices\n",
        "df_EDA <- read.csv(\"https://raw.githubusercontent.com/tbonne/IntroPychStats/main/data/BostonHousesPrices.csv\", header = T)\n",
        "\n",
        "#Work with the country happiness dataset\n",
        "#df_EDA <- read.csv(\"https://raw.githubusercontent.com/tbonne/IntroPychStats/main/data/worldHappiness.csv\", header = T)\n",
        "\n",
        "#student drinking behaviour and grades\n",
        "#df_EDA <- read.csv(\"https://raw.githubusercontent.com/tbonne/IntroPychStats/main/data/student_alcohol.csv\", header = T)\n",
        "\n",
        "#Impact of female/male hurrican names on death and damage\n",
        "#df_EDA <- read.csv(\"https://raw.githubusercontent.com/tbonne/IntroPychStats/main/data/hurricane_names.csv\", header = T)\n",
        "\n",
        "#student performance related to preperation and lunch programs\n",
        "#df_EDA <- read.csv(\"https://raw.githubusercontent.com/tbonne/IntroPychStats/main/data/StudentsPerformance.csv\", header = T)\n",
        "\n",
        "#belife in fate dataset\n",
        "#df_EDA <- read.csv(\"https://raw.githubusercontent.com/tbonne/IntroPychStats/main/data/Risen_study.csv\", header = T)\n",
        "\n",
        "#Level of crime in US states\n",
        "#df_EDA <- read.csv(\"https://raw.githubusercontent.com/tbonne/IntroPychStats/main/data/Crime_R.csv\", header = T)\n",
        "\n",
        "#Country happiness and alchohol consumption\n",
        "#df_EDA <- read.csv(\"https://raw.githubusercontent.com/tbonne/IntroPychStats/main/data/HappinessAlcoholConsumption.csv\", header = T)\n",
        "\n",
        "#Are people with more favourable social connections (sociometric status) viewed as having higher well-being?\n",
        "#df_EDA <- read.csv(\"https://raw.githubusercontent.com/tbonne/IntroPychStats/main/data/Anderson_1_study_manyLabs2.csv\", header = T)\n",
        "\n",
        "#load any data you find!\n",
        "#df_EDA <- read.csv(\"paste_your_copied_path_here!\", header = T)\n",
        "\n",
        "#let's take a look at the data\n",
        "head(df_EDA)"
      ],
      "execution_count": null,
      "outputs": []
    },
    {
      "cell_type": "markdown",
      "metadata": {
        "id": "-lze8JTlc74F"
      },
      "source": [
        "Now that we can see the data, think about a question you might like to ask or about what variable you'd like to predict. \n",
        "\n",
        "> E.g., what predicts house prices?"
      ]
    },
    {
      "cell_type": "markdown",
      "metadata": {
        "id": "87dWXJj-dIvS"
      },
      "source": [
        "Write out your question in words here: \n"
      ]
    },
    {
      "cell_type": "markdown",
      "metadata": {
        "id": "AMbKrM93zjGX"
      },
      "source": [
        "### 2. Visualize our data\n",
        "\n",
        "Then let's plot a scatterplot (feel free to plot a few here, it is always a good idea to explore your data before modeling!). Here we will choose: \n",
        "> What we'd like to predict and put it on the y-axis.\n",
        "\n",
        "> What we'd like to use to help make those predictions and put it on the x-axis.\n",
        "\n",
        "> The choice of these variables should follow from the question you're asking above!\n"
      ]
    },
    {
      "cell_type": "markdown",
      "metadata": {
        "id": "1RyfZwaKAFmq"
      },
      "source": [
        "<font color = \"darkred\"> (?) for the first question mark below you should replace it with the column name that you'd like to use to make predictions. For the second question mark you should replace it with the variable you'd like to predict </font>"
      ]
    },
    {
      "cell_type": "code",
      "metadata": {
        "id": "YCT-75fRzjGX"
      },
      "source": [
        "plot(x=df_EDA$?,y=df_EDA$?) "
      ],
      "execution_count": null,
      "outputs": []
    },
    {
      "cell_type": "markdown",
      "metadata": {
        "id": "wTDGJ6E559xG"
      },
      "source": [
        "If one of your variables you'd like to use to make predictions is a categorical variable you might want to plot a boxplot. Replace the first question mark with the categorical variable, and the second question mark with the variable you'd like to predict."
      ]
    },
    {
      "cell_type": "code",
      "metadata": {
        "id": "4zQK1CIO_g8p"
      },
      "source": [
        "plot(x=factor(df_EDA$?),y=df_EDA$?) "
      ],
      "execution_count": null,
      "outputs": []
    },
    {
      "cell_type": "markdown",
      "metadata": {
        "id": "K9X0c24QzjGX"
      },
      "source": [
        "### 3. Define and fit a model\n",
        "\n",
        "Now we can speficy the model we'd like to fit.\n",
        "> Remember, here we use the formula: \"what we'd like to predict\" ~ \"what we'd like to use to help make those predictions.\"\n",
        "  "
      ]
    },
    {
      "cell_type": "markdown",
      "metadata": {
        "id": "Er24y1fOAe03"
      },
      "source": [
        "<font color = \"darkred\"> (?) for the question mark below you should replace it with the formula that will help you answer your question. </font>"
      ]
    },
    {
      "cell_type": "code",
      "metadata": {
        "id": "g0-O08LrzjGY"
      },
      "source": [
        "#fit a linear model\n",
        "model_EDA <- lm(?, data=df_EDA)\n"
      ],
      "execution_count": null,
      "outputs": []
    },
    {
      "cell_type": "markdown",
      "metadata": {
        "id": "svHTbyO12Guk"
      },
      "source": [
        "This bit of code then use our inputs to find the best fit linear equation for:\n",
        "> $y \\sim Normal(\\mu, \\sigma) $\n",
        "\n",
        "> $mu = a + b_1 * x_1 + b_2*x_2 + ...$\n"
      ]
    },
    {
      "cell_type": "markdown",
      "metadata": {
        "id": "lGtlgt5I0fJ4"
      },
      "source": [
        "Let's use the summ function to tell us what values of a and b it found for the best fit line. \n",
        "> Note: we'll also calculate our 95% confidence interval here too!"
      ]
    },
    {
      "cell_type": "code",
      "metadata": {
        "id": "32dy8P1A0fiu"
      },
      "source": [
        "#What does the best fit model look like?\n",
        "summ(model_EDA, confint=TRUE, scale = TRUE)"
      ],
      "execution_count": null,
      "outputs": []
    },
    {
      "cell_type": "markdown",
      "metadata": {
        "id": "4KCh21RJzjGZ"
      },
      "source": [
        "We can see from this output that the model is pretty certain that the slope of the population is somewhere between ? and ?. \n",
        "> Those are the range of population values that are compatible with our sample!\n",
        "  \n",
        "We can also get a sense of how well your model predictions reflect the observed values using R2."
      ]
    },
    {
      "cell_type": "markdown",
      "metadata": {
        "id": "odCSqr1BZv_u"
      },
      "source": [
        "### 4. Visualize the results"
      ]
    },
    {
      "cell_type": "markdown",
      "metadata": {
        "id": "XdjGuaFZ_jYT"
      },
      "source": [
        "Let's take a look at the estimates a little more visually"
      ]
    },
    {
      "cell_type": "code",
      "metadata": {
        "id": "r4fj57a7_mRa"
      },
      "source": [
        "#plot the estimates of the slopes\n",
        "plot_summs(model_EDA, scale=TRUE)"
      ],
      "execution_count": null,
      "outputs": []
    },
    {
      "cell_type": "markdown",
      "metadata": {
        "id": "qhxESbN27BNZ"
      },
      "source": [
        "Let's take a look at the regression line a little more visually"
      ]
    },
    {
      "cell_type": "markdown",
      "metadata": {
        "id": "VPzC25sMA8uk"
      },
      "source": [
        "<font color = \"darkred\"> (?) for the question mark below you should replace it with a variable that you used to make your predictions. </font>\n",
        "> Note: if you used more than one variable to help make your predictions, then you can replace the question mark for each one. This will help you visualize the relationship between a predictor variable and the response. "
      ]
    },
    {
      "cell_type": "code",
      "metadata": {
        "id": "t68PheeXo7F9"
      },
      "source": [
        "#plot line on the data\n",
        "effect_plot(model_EDA, pred = ?, interval = TRUE, plot.points = TRUE)"
      ],
      "execution_count": null,
      "outputs": []
    },
    {
      "cell_type": "markdown",
      "metadata": {
        "id": "ahoXU8HzYzlM"
      },
      "source": [
        "### 5. Checking assumptions"
      ]
    },
    {
      "cell_type": "markdown",
      "metadata": {
        "id": "FcO_XSKdfdyr"
      },
      "source": [
        "**Assumption 1**\n",
        "\n",
        "Let's check the assumption that the errors (residuals) are normally distributed."
      ]
    },
    {
      "cell_type": "code",
      "metadata": {
        "id": "ASugh5jufsY5"
      },
      "source": [
        "hist(model_EDA$residuals)"
      ],
      "execution_count": null,
      "outputs": []
    },
    {
      "cell_type": "markdown",
      "metadata": {
        "id": "EtBUci2VkxRS"
      },
      "source": [
        "The above plot is just like the histograms we've looked at in the past. Now we are looking at how errors are distributed.\n",
        "\n",
        "> If the errors do not look to have many small errors and few large errors (both positive and negative) then a normal distribution might not be the best model of the data. We might also be missing an important variable..."
      ]
    },
    {
      "cell_type": "markdown",
      "metadata": {
        "id": "58GItzyDhntE"
      },
      "source": [
        "**Assumption 2** - no patterns in the residuals\n",
        "  \n",
        "Let's check the assumption that the variance in the errors is constant."
      ]
    },
    {
      "cell_type": "code",
      "metadata": {
        "id": "2yUMbAxyhuy7"
      },
      "source": [
        "plot(y=model_EDA$residuals, x=model_EDA$fitted.values)\n",
        "abline(h = 0, lty=3)"
      ],
      "execution_count": null,
      "outputs": []
    },
    {
      "cell_type": "markdown",
      "metadata": {
        "id": "nm3ciXHmj88J"
      },
      "source": [
        "The above plot shows you all the errors (residuals) for each value that the model predicts. Ideally, we'd like to see errors evenly distributed around 0 (i.e., the dashed line).\n",
        "\n",
        "> If there is more variance in the errors for some prediction values then this means the model is better at predicting some values than others. "
      ]
    },
    {
      "cell_type": "markdown",
      "metadata": {
        "id": "B7sq7l6wl4KZ"
      },
      "source": [
        "**Assumption 2** - no patterns in the residuals\n",
        "   \n",
        "Let's check the assumption that the relationship between your variables is linear (i.e., that a straight line and not a curvy line fit the data best). We can see this intuatively in the origianl scatter plot, or we can look at the residuals!"
      ]
    },
    {
      "cell_type": "code",
      "metadata": {
        "id": "U3V5fD6JmUg9"
      },
      "source": [
        "plot(y=model_EDA$residuals, x=model_EDA$fitted.values)\n",
        "abline(h = 0, lty=3)"
      ],
      "execution_count": null,
      "outputs": []
    },
    {
      "cell_type": "markdown",
      "metadata": {
        "id": "E-q2qacNmZdH"
      },
      "source": [
        "The plot above is just the line fit to the scatterplot we saw before. Intuatively you can check to see if the straight line fits the data, or if a curvy line might fit better."
      ]
    },
    {
      "cell_type": "markdown",
      "metadata": {
        "id": "6k_jpW3Em3Oq"
      },
      "source": [
        "There are two things to keep in mind when checking the assumptions of the linear regression.\n",
        "\n",
        "> The first is that the assumptions do not need to be perfect to give you a resonable estimate.\n",
        "\n",
        "> The second is that often the way the model fails can help you build a better model."
      ]
    },
    {
      "cell_type": "markdown",
      "metadata": {
        "id": "dVm_EGLicEd2"
      },
      "source": [
        "### 6. Interpret and communicate the results"
      ]
    },
    {
      "cell_type": "markdown",
      "metadata": {
        "id": "paxXBaCUcGbn"
      },
      "source": [
        "From the results above what can you answer the question you posed in section 1?  \n",
        "> What is the association between the variables that you tested?\n",
        "\n",
        ">> <font color=\"darkblue\">E.g., I found a positive association between the number of rooms and the price of a house (4.08, 95%CI: 1.82, 6.34).</font>\n",
        "\n",
        "> What does the confidence interval tell you about how certain you are in the sign and magnitude of that association?\n",
        "\n",
        ">> <font color=\"darkblue\">E.g., While the results suggest the sign of the association between number of rooms and price is positive, it is relativelty uncertain about the magnitude (95%CI: 1.82, 6.34).</font>\n",
        "\n",
        "> How \"good\" are your model predictions?\n",
        "\n",
        ">> <font color=\"darkblue\">E.g., The model was able to predict house prices with an r2 of 0.50.</font>\n",
        "\n",
        "> How closely does your model meet the model assumptions?\n",
        "\n",
        ">> <font color=\"darkblue\">The model residuals are approximately normally distributed (e.g., point to your histogram). A plot of the residuals vs. predicted suggest some maximum residual values depending on the predicted value (e.g., point to your residual vs. fitted plot).</font>"
      ]
    }
  ]
}