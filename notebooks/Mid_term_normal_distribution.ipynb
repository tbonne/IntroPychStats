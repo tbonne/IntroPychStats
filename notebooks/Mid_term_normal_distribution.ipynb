{
  "nbformat": 4,
  "nbformat_minor": 0,
  "metadata": {
    "colab": {
      "name": "Mid_term_normal_distribution.ipynb",
      "provenance": [],
      "collapsed_sections": [],
      "authorship_tag": "ABX9TyN6dKZu+8eEXLX/vWRAUYL2",
      "include_colab_link": true
    },
    "kernelspec": {
      "name": "ir",
      "display_name": "R"
    },
    "language_info": {
      "name": "R"
    }
  },
  "cells": [
    {
      "cell_type": "markdown",
      "metadata": {
        "id": "view-in-github",
        "colab_type": "text"
      },
      "source": [
        "<a href=\"https://colab.research.google.com/github/tbonne/IntroPychStats/blob/main/notebooks/Mid_term_normal_distribution.ipynb\" target=\"_parent\"><img src=\"https://colab.research.google.com/assets/colab-badge.svg\" alt=\"Open In Colab\"/></a>"
      ]
    },
    {
      "cell_type": "markdown",
      "metadata": {
        "id": "trouKhmEw-ii"
      },
      "source": [
        "<img src='http://drive.google.com/uc?export=view&id=1Jr9LVU3XrsXvTum3iqRn3SWkClHyNvmt' width=1500>\n"
      ]
    },
    {
      "cell_type": "markdown",
      "metadata": {
        "id": "5Z2vKe5lxjuk"
      },
      "source": [
        "#<font color='darkorange'>Normal Distribution</font>"
      ]
    },
    {
      "cell_type": "markdown",
      "metadata": {
        "id": "FqFEIuCj7Waq"
      },
      "source": [
        "This notebook is here to help you answer questions on your quiz/exam! Below is a copy of the notebooks we worked on in class. It has been altered to help answer questions more general than the player height example used in class."
      ]
    },
    {
      "cell_type": "markdown",
      "metadata": {
        "id": "LxRVht2bHIb3"
      },
      "source": [
        "Let's setup how the world is assumed to be like by setting the folowing parameters"
      ]
    },
    {
      "cell_type": "code",
      "metadata": {
        "id": "H66PXGIp7U6s"
      },
      "source": [
        "#choose the parameters\n",
        "mean = ?\n",
        "sd = ?"
      ],
      "execution_count": null,
      "outputs": []
    },
    {
      "cell_type": "markdown",
      "metadata": {
        "id": "tmz5-vufMS6u"
      },
      "source": [
        "Now that we know these parameters, let's use the normal distribution to help better understand how likely some observations are.\n",
        " \n",
        " First let's use the normal distribution to predict one possible outcome given the mean height of all players (mean) and the standard deviation of those heights (sd).\n",
        "\n",
        "To do this we will use the **rnorm()** function. It takes three inputs: 1) *n* = the number of random samples to take, *mean* = the mean of the population, and *sd* = the standard deviation of the population."
      ]
    },
    {
      "cell_type": "code",
      "metadata": {
        "id": "1tvvmNoiMTt_"
      },
      "source": [
        "#Randomly sample from your normal distribution\n",
        "rnorm(n=1, mean=mean, sd=sd )"
      ],
      "execution_count": null,
      "outputs": []
    },
    {
      "cell_type": "markdown",
      "metadata": {
        "id": "dzf3c48v8MnL"
      },
      "source": [
        "After running the code above you should see a sample taken from your normal distribution. If you run this a few times it should give you a sense of what outcomes you are likely to see."
      ]
    },
    {
      "cell_type": "markdown",
      "metadata": {
        "id": "yu3_3jtcJ9yj"
      },
      "source": [
        "Let's ask the normal distribution to generate 1000 predictions, and then let's look at how likely each value of height is. (i.e., if you randomly visited 1000 players!)."
      ]
    },
    {
      "cell_type": "code",
      "metadata": {
        "id": "sAXKVO08KOIs"
      },
      "source": [
        "#Randomly sample from your normal distribution many times\n",
        "predictions <- rnorm(1000, mean=mean,sd=sd)\n",
        "\n",
        "#take a look using a histogram\n",
        "hist(predictions)"
      ],
      "execution_count": null,
      "outputs": []
    },
    {
      "cell_type": "markdown",
      "metadata": {
        "id": "yZOE7l1pxcXx"
      },
      "source": [
        "Ok that is great! We can vizualize and see what outcomes happen more often! But what if we wanted to know not just the frequency that something happens, but also its probability. \n",
        "\n",
        "To calculate the probability we'll use the function **pnorm()**. This function takes three inputs: 1) *q* = the highest number of interest, 2) *mean* = the mean height in the population, and 3) *sd* = the standard devisation of the population.\n",
        "\n",
        "*Note: I've put in a \"?\" where you have to change the code!*"
      ]
    },
    {
      "cell_type": "code",
      "metadata": {
        "id": "dq-1GvqrxcX4"
      },
      "source": [
        "#calcualte the probability of seeing an outcome x or less (e.g., x <= 75)\n",
        "pnorm(q=?, mean=mean, sd=sd)"
      ],
      "execution_count": null,
      "outputs": []
    }
  ]
}