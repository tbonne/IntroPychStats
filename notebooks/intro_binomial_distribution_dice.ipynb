{
  "nbformat": 4,
  "nbformat_minor": 0,
  "metadata": {
    "colab": {
      "name": "intro_binomial_distribution_dice.ipynb",
      "provenance": [],
      "collapsed_sections": [],
      "authorship_tag": "ABX9TyMxiW2r1EuTSgKmvfggZnaZ",
      "include_colab_link": true
    },
    "kernelspec": {
      "name": "ir",
      "display_name": "R"
    },
    "language_info": {
      "name": "R"
    }
  },
  "cells": [
    {
      "cell_type": "markdown",
      "metadata": {
        "id": "view-in-github",
        "colab_type": "text"
      },
      "source": [
        "<a href=\"https://colab.research.google.com/github/tbonne/IntroPychStats/blob/main/notebooks/intro_binomial_distribution_dice.ipynb\" target=\"_parent\"><img src=\"https://colab.research.google.com/assets/colab-badge.svg\" alt=\"Open In Colab\"/></a>"
      ]
    },
    {
      "cell_type": "markdown",
      "metadata": {
        "id": "trouKhmEw-ii"
      },
      "source": [
        "<img src='http://drive.google.com/uc?export=view&id=1KY7Z-4_DhFLWAHe_E2rLdmYkxhY-ss80' width=400>"
      ]
    },
    {
      "cell_type": "markdown",
      "metadata": {
        "id": "5Z2vKe5lxjuk"
      },
      "source": [
        "#<font color='darkorange'>Binomial Distribution I</font>"
      ]
    },
    {
      "cell_type": "markdown",
      "metadata": {
        "id": "FqFEIuCj7Waq"
      },
      "source": [
        "In this exercise we'll take a look at using the binomial distribution for predicting how many sixes you are likely to roll. \n",
        "\n",
        "We are going to use probability theory to help us out here. Remember that with probability theory we need to assume some model of the way the world works, then we can do some calculations to see how likely an outcome is. Here, as we are rolling dice, we know how many sides of a die there are, and we know how many times it is rolled."
      ]
    },
    {
      "cell_type": "markdown",
      "metadata": {
        "id": "67SEgLD-7mSq"
      },
      "source": [
        "Let's start off by setting up the number of rolls (i.e., trials) that will take place, and the probability that you will roll a six (i.e., successful outcome)."
      ]
    },
    {
      "cell_type": "code",
      "metadata": {
        "id": "H66PXGIp7U6s"
      },
      "source": [
        "#set the number of tirals (e.g., how many times you roll a dice)\n",
        "N = ?\n",
        "\n",
        "#set the probability of a successful trial (e.g., the chance you get a six)\n",
        "p = ?"
      ],
      "execution_count": null,
      "outputs": []
    },
    {
      "cell_type": "markdown",
      "metadata": {
        "id": "dzf3c48v8MnL"
      },
      "source": [
        "Now that we know these parameters about the world, let's use the binomial distribution to help better understand how many sixes we are likely to roll.\n",
        "\n",
        "In this code below, will roll the dice N times, and count up the number of sixes it rolls. This gives us one prediction for the number of sixes. To do this we will use the **rbinom()** function. It takes three inputs: 1) *n* = the number of times to repeat the procedure, 2) *size* = the number of trials to perform, and 3) *p* = the probability of a successful trial occuring."
      ]
    },
    {
      "cell_type": "code",
      "metadata": {
        "id": "cL1UQY1M8VXJ"
      },
      "source": [
        "rbinom(n=1, size=N, p=p)"
      ],
      "execution_count": null,
      "outputs": []
    },
    {
      "cell_type": "markdown",
      "metadata": {
        "id": "1_q40ZLPJBJi"
      },
      "source": [
        "After running the code avbove you should see a number. This is the number of times the function rolled a six! Try running that code a few times and see the number of sixes you get. Are you more likely to roll a certain number of sixes?"
      ]
    },
    {
      "cell_type": "markdown",
      "metadata": {
        "id": "dPW92Rud9X6k"
      },
      "source": [
        "Let's ask the binomial distribution to repeat the procedure 1000 times, and then let's look at how likely each outcome is. I.e., how likely are you to roll 5 sixes!\n",
        "> As we are going to repeate this procudeure 1000 times and get 1000 outcomes, let's use the arrow in R to stick all those outcomes into something called *sizes_predictions*. You can think of this as a box that will just hold all those outcomes."
      ]
    },
    {
      "cell_type": "code",
      "metadata": {
        "id": "DNc2hVeX9lS4"
      },
      "source": [
        "#make predictions about coffee sales\n",
        "sixes_predictions <- rbinom(10000, size=N,p=p)\n",
        "\n",
        "#take a look\n",
        "sixes_predictions"
      ],
      "execution_count": null,
      "outputs": []
    },
    {
      "cell_type": "markdown",
      "metadata": {
        "id": "1ZKVRRyjJuiU"
      },
      "source": [
        "Those are way to many outcomes to look at, let's use our data visualization skills to help understand these outputs. As it is a numeric variable, let's use a histogram. In R we can make a histogram by just using the **hist()** function."
      ]
    },
    {
      "cell_type": "code",
      "metadata": {
        "id": "RX_Vi1uAJ9K0"
      },
      "source": [
        "#take a look\n",
        "hist(sixes_predictions)"
      ],
      "execution_count": null,
      "outputs": []
    },
    {
      "cell_type": "markdown",
      "metadata": {
        "id": "xxAXbuD1J8le"
      },
      "source": [
        "We can read this histogram just like those in google sheets. Here the x-axis is the number of sixes rolled if we roll the dice 5 times. We can see that the count (or frequency) is on the y-axis and shows use that the most likely outcome is 0! Followed by 1 six!"
      ]
    },
    {
      "cell_type": "markdown",
      "metadata": {
        "id": "iAlq90mxMF0S"
      },
      "source": [
        "Ok that is great! We can vizualize and see what outcomes happen more often! But what if we wanted to know not just the frequency that something happens, but also its proability. \n",
        "  \n",
        "To calculate the probability we'll use the function **dbinom()**. This function takes three inputs: 1) *x* = the number of successful trials, 2) *size* = the number of trials, and 3) *p* = the probability of a successful trial.\n",
        "> In our example we want to know what the proability of rolling 5 sixes. So if each roll is a trial, and a successful trial is rolling a six, then we want to know what is the probability of getting 5 successful trails."
      ]
    },
    {
      "cell_type": "code",
      "metadata": {
        "id": "q437qrx6-IIq"
      },
      "source": [
        "#calcualte the probability of selling exactly 5 sixes (e.g., x = 5)\n",
        "dbinom(x=5, size = N, p=p)"
      ],
      "execution_count": null,
      "outputs": []
    },
    {
      "cell_type": "markdown",
      "metadata": {
        "id": "PY8DpDxqOHk6"
      },
      "source": [
        "After running the code block above you should see a number, this is the probability of rolling 5 sixes! Try again this time estimate the proability of rolling 1 six. "
      ]
    },
    {
      "cell_type": "markdown",
      "metadata": {
        "id": "II7VFQHFPwo5"
      },
      "source": [
        "### Bonus\n",
        "\n",
        " If you've reached this far in class, or would like to try this out again after class try starting from the top of this notebook, but this time answer the questions: what is the probability of rolling a 2 only once, if you roll the dice 3 times.\n",
        "\n",
        " Answer: you should find that the probability is 0.35! So you've got an ok chance of getting only one 2 when rolling the die 3 times... but more likely that you get no 2s."
      ]
    }
  ]
}