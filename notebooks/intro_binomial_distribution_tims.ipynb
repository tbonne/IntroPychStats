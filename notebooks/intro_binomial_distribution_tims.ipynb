{
  "nbformat": 4,
  "nbformat_minor": 0,
  "metadata": {
    "colab": {
      "name": "intro_binomial_distribution_tims.ipynb",
      "provenance": [],
      "collapsed_sections": [],
      "authorship_tag": "ABX9TyOr4Bf0Bq9jrpDfaisJELb0",
      "include_colab_link": true
    },
    "kernelspec": {
      "name": "ir",
      "display_name": "R"
    },
    "language_info": {
      "name": "R"
    }
  },
  "cells": [
    {
      "cell_type": "markdown",
      "metadata": {
        "id": "view-in-github",
        "colab_type": "text"
      },
      "source": [
        "<a href=\"https://colab.research.google.com/github/tbonne/IntroPychStats/blob/main/notebooks/intro_binomial_distribution_tims.ipynb\" target=\"_parent\"><img src=\"https://colab.research.google.com/assets/colab-badge.svg\" alt=\"Open In Colab\"/></a>"
      ]
    },
    {
      "cell_type": "markdown",
      "metadata": {
        "id": "trouKhmEw-ii"
      },
      "source": [
        "<img src='http://drive.google.com/uc?export=view&id=1z7VU3h2EAj9K2SyHRMC3GfpdtOvxixjc' width=500>"
      ]
    },
    {
      "cell_type": "markdown",
      "metadata": {
        "id": "5Z2vKe5lxjuk"
      },
      "source": [
        "#<font color='darkorange'>Binomial Distribution II</font>"
      ]
    },
    {
      "cell_type": "markdown",
      "metadata": {
        "id": "FqFEIuCj7Waq"
      },
      "source": [
        "Here we'll take a look at using the binomial distribution for predicting how many cups of coffee you are likely to sell at Tim Hortons."
      ]
    },
    {
      "cell_type": "markdown",
      "metadata": {
        "id": "67SEgLD-7mSq"
      },
      "source": [
        "First let's set up the number of trials that will take place, and the probability that a customer will buy a cup of coffee.\n",
        "\n",
        "(Notice here, that here we are assuming we know these parameters to start with. i.e., probability theory assumes we know the world, but not the data)."
      ]
    },
    {
      "cell_type": "code",
      "metadata": {
        "id": "H66PXGIp7U6s"
      },
      "source": [
        "#set the number of tirals (i.e., trial = customer that comes in and buys something)\n",
        "N = ?\n",
        "\n",
        "#set the probability that a customer will buy coffee with their purchase\n",
        "p = ?"
      ],
      "execution_count": null,
      "outputs": []
    },
    {
      "cell_type": "markdown",
      "metadata": {
        "id": "dzf3c48v8MnL"
      },
      "source": [
        "Now that we know these parameters, let's use the binomial distribution to help better understand how many cups of coffee we are likely to sell.\n",
        " \n",
        " First let's use the binomial distribution to predict one possible outcome given the number of customers (N) and the probability of buying a coffee (p), i.e., how many cups of coffee will be sold today?"
      ]
    },
    {
      "cell_type": "code",
      "metadata": {
        "id": "cL1UQY1M8VXJ"
      },
      "source": [
        "rbinom(1, size=N,p=p)"
      ],
      "execution_count": null,
      "outputs": []
    },
    {
      "cell_type": "markdown",
      "metadata": {
        "id": "dPW92Rud9X6k"
      },
      "source": [
        "Let's ask the binomial distribution to generate 1000 predictions, and then let's look at how likely each value is. \n",
        "> Remember that to sample from a binomial distribution (and generate predictions) we can use the **rbinom()** function."
      ]
    },
    {
      "cell_type": "code",
      "metadata": {
        "id": "DNc2hVeX9lS4"
      },
      "source": [
        "#make predictions about coffee sales\n",
        "coffee_predictions <- rbinom(10000, size=N,p=p)\n",
        "\n",
        "#take a look using a histogram\n",
        "?(coffee_predictions)"
      ],
      "execution_count": null,
      "outputs": []
    },
    {
      "cell_type": "markdown",
      "metadata": {
        "id": "RCiOybYiHqX-"
      },
      "source": [
        "After running the code above, you should now be able to see what outcomes are more likely. \n",
        "  \n",
        "Next let's calculate the probability of selling eactly 400 cups of coffee!\n",
        "> remember that to estimate the probability of an event we can use the **dbinom()** function."
      ]
    },
    {
      "cell_type": "code",
      "metadata": {
        "id": "q437qrx6-IIq"
      },
      "source": [
        "#calcualte the probability of selling exactly x cups of coffee (e.g., x = 400)\n",
        "dbinom(x=?, size = ?, p=?)"
      ],
      "execution_count": null,
      "outputs": []
    },
    {
      "cell_type": "markdown",
      "metadata": {
        "id": "GmYaQ4NmTXhk"
      },
      "source": [
        "Ok that was pretty useful, but what if you wanted to know what the probability of selling less than 400 cups. So rather than one particular outcome (e.g., 400 cups), we are now interested in the probability of a range of outcomes (e.g., less than 400 cups)."
      ]
    },
    {
      "cell_type": "markdown",
      "metadata": {
        "id": "cLoD5aW-sb56"
      },
      "source": [
        "To figure out the probability of selling 400 or less cups of coffe we'll use the **pbinom()** function. This takes three inputs: 1) q = the highest number of successes occuring, 2) *size* = the number of trials to perform, and 3) *p* = the probability of a successful trial occuring."
      ]
    },
    {
      "cell_type": "code",
      "metadata": {
        "id": "ebXHz9B7__I_"
      },
      "source": [
        "#calculate the probability of selling x cups or less of coffee (e.g., x <= 400)\n",
        "pbinom(q=400, size = N, p=p)"
      ],
      "execution_count": null,
      "outputs": []
    },
    {
      "cell_type": "markdown",
      "metadata": {
        "id": "l9WEmScxtrqw"
      },
      "source": [
        "After running the code above you should see the probability of selling less than 400 cups of coffee a day! "
      ]
    },
    {
      "cell_type": "markdown",
      "metadata": {
        "id": "ydUW9qlHJrdW"
      },
      "source": [
        "To estimate the probabililty of selling more than 400 cups we can just add one more input to the **pbinom()** function: lower.tail = FALSE. This input tells the function **pbinom()** to calculate the probability of all outcomes with more successful trials."
      ]
    },
    {
      "cell_type": "code",
      "metadata": {
        "id": "jFCLZw2lJ8Op"
      },
      "source": [
        "pbinom(q=400, size = N, p=p, lower.tail = FALSE)"
      ],
      "execution_count": null,
      "outputs": []
    },
    {
      "cell_type": "markdown",
      "metadata": {
        "id": "8GYsa87xNIqD"
      },
      "source": [
        "You should now see the probability of selling more than 400 cups! \n",
        "  \n",
        "You can think of this visually by looking back at your histogram. When we run pbinom() we sum up all the probabilities of events below and including the 400 cups. While if we run pbinom() with lower.tail=FALSE we it will sum up all the probabilities of all events greater than 400 cups."
      ]
    },
    {
      "cell_type": "markdown",
      "metadata": {
        "id": "UynVhu9zOVIM"
      },
      "source": [
        "### <font color='darkorange'>Bonus</font>\n",
        "  \n",
        "If you've reached this far in the class, or would like to do this after class to familiarize yourself with using the binomial distribution, go back to the top and try and answer the following:\n",
        "\n",
        "If you ran an experiement where each subject performed 10 trials and their probability of success was 0.3. \n",
        "> Q1: What is the probability that a subject will get 5 trials correct.  (Ans: 0.10)\n",
        "\n",
        "> Q2: What is the probability they will get less than or equal to 5 trials correct.  (Ans: 0.95)\n",
        "\n",
        "> Q3: what is the probability that they get more than 5 trials correct. (0.05)"
      ]
    }
  ]
}