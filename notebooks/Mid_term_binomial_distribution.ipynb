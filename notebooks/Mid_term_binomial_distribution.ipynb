{
  "nbformat": 4,
  "nbformat_minor": 0,
  "metadata": {
    "colab": {
      "name": "Mid_term_binomial_distribution.ipynb",
      "provenance": [],
      "collapsed_sections": [],
      "authorship_tag": "ABX9TyMhjwQyFJ0i+3yqsftyCtVV",
      "include_colab_link": true
    },
    "kernelspec": {
      "name": "ir",
      "display_name": "R"
    },
    "language_info": {
      "name": "R"
    }
  },
  "cells": [
    {
      "cell_type": "markdown",
      "metadata": {
        "id": "view-in-github",
        "colab_type": "text"
      },
      "source": [
        "<a href=\"https://colab.research.google.com/github/tbonne/IntroPychStats/blob/main/notebooks/Mid_term_binomial_distribution.ipynb\" target=\"_parent\"><img src=\"https://colab.research.google.com/assets/colab-badge.svg\" alt=\"Open In Colab\"/></a>"
      ]
    },
    {
      "cell_type": "markdown",
      "metadata": {
        "id": "trouKhmEw-ii"
      },
      "source": [
        "<img src='http://drive.google.com/uc?export=view&id=1KY7Z-4_DhFLWAHe_E2rLdmYkxhY-ss80' width=400>"
      ]
    },
    {
      "cell_type": "markdown",
      "metadata": {
        "id": "5Z2vKe5lxjuk"
      },
      "source": [
        "#<font color='darkorange'>Binomial Distribution</font>"
      ]
    },
    {
      "cell_type": "markdown",
      "metadata": {
        "id": "FqFEIuCj7Waq"
      },
      "source": [
        "This notebook is here to help you answer questions on your midterm! Below is a copy of the notebooks we worked on in class. It has been altered to help answer questions more general than the coin and tim horton example used in class."
      ]
    },
    {
      "cell_type": "markdown",
      "metadata": {
        "id": "67SEgLD-7mSq"
      },
      "source": [
        "First let's set up the number of trails that will take place, and the probability that a trial will be a success.\n",
        "\n",
        "(Notice here, that here we are assuming we know these parameters to start with. i.e., probability theory assumes we know the world, but not the data).\n",
        "\n",
        "*Note: i've put a \"?\" where you need to change the code!*"
      ]
    },
    {
      "cell_type": "code",
      "metadata": {
        "id": "H66PXGIp7U6s"
      },
      "source": [
        "#set the number of tirals (e.g., trial = customer that comes in and buys something)\n",
        "N = ?\n",
        "\n",
        "#set the probability that a trail will be a success (e.g., customer will buy coffee with their purchase)\n",
        "p = ?"
      ],
      "execution_count": null,
      "outputs": []
    },
    {
      "cell_type": "markdown",
      "metadata": {
        "id": "dzf3c48v8MnL"
      },
      "source": [
        "Now that we know these parameters, let's use the binomial distribution to help better understand how likely are different outcomes.\n",
        " \n",
        " First let's ask the use the binomial distribution to predict one possible outcome given the number of tirals (N) and the probability of success (p)."
      ]
    },
    {
      "cell_type": "code",
      "metadata": {
        "id": "cL1UQY1M8VXJ"
      },
      "source": [
        "rbinom(1, size=N,p=p)"
      ],
      "execution_count": null,
      "outputs": []
    },
    {
      "cell_type": "markdown",
      "metadata": {
        "id": "80QIJmkGkWwD"
      },
      "source": [
        "After running the above code you should see one possible outcome. If you run it many times you get an idea of what outcomes are more likely."
      ]
    },
    {
      "cell_type": "markdown",
      "metadata": {
        "id": "dPW92Rud9X6k"
      },
      "source": [
        "Let's ask the binomial distribution to generate 1000 predictions, and then let's look at how likely each value is."
      ]
    },
    {
      "cell_type": "code",
      "metadata": {
        "id": "DNc2hVeX9lS4"
      },
      "source": [
        "#make predictions about coffee sales\n",
        "predictions <- rbinom(10000, size=N,p=p)\n",
        "\n",
        "#take a look using a histogram\n",
        "hist(predictions)"
      ],
      "execution_count": null,
      "outputs": []
    },
    {
      "cell_type": "markdown",
      "metadata": {
        "id": "hvXJhOBvkgKr"
      },
      "source": [
        "After running the above code you should see a histogram that will give you a visual idea of what outcomes are more likely.\n",
        "  \n",
        "Let's measure the probability of one outcome using the **dbinom()** function. This function takes three inputs: 1) *x* = the number of successful trials, 2) *size* = the number of trials, and 3) *p* = the probability of a successful trial.\n",
        "\n",
        "*Note: i've put a \"?\" where you need to change the code!*"
      ]
    },
    {
      "cell_type": "code",
      "metadata": {
        "id": "q437qrx6-IIq"
      },
      "source": [
        "#calcualte the probability of selling exactly x cups of coffee (e.g., x = 400)\n",
        "dbinom(x=?, size = N, p=p)"
      ],
      "execution_count": null,
      "outputs": []
    },
    {
      "cell_type": "markdown",
      "metadata": {
        "id": "GmYaQ4NmTXhk"
      },
      "source": [
        "Ok that was pretty useful, but what if you wanted to know what the probability of seeing less than or equal to the number of successful trials. So rather than one particular outcome (e.g., 400 cups of coffee sold), we are now interested in the probability of a range of outcomes (e.g., less than 400 cups of coffee sold)."
      ]
    },
    {
      "cell_type": "markdown",
      "metadata": {
        "id": "cLoD5aW-sb56"
      },
      "source": [
        "To figure out the probability of seeing a specific number or less successfull trials, we'll use the **pbinom()** function. This takes three inputs: 1) q = the highest number of successes occuring, 2) *size* = the number of trials to perform, and 3) *p* = the probability of a successful trial occuring.\n",
        "\n",
        "*Note: i've put a \"?\" where you need to change the code!*"
      ]
    },
    {
      "cell_type": "code",
      "metadata": {
        "id": "ebXHz9B7__I_"
      },
      "source": [
        "#calculate the probability of selling x cups or less of coffee (e.g., x <= 400)\n",
        "pbinom(q=?, size = N, p=p)"
      ],
      "execution_count": null,
      "outputs": []
    },
    {
      "cell_type": "markdown",
      "metadata": {
        "id": "l9WEmScxtrqw"
      },
      "source": [
        "After running the code above you should see the probability of seeing the number of success or less! "
      ]
    }
  ]
}