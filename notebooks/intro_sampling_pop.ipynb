{
  "nbformat": 4,
  "nbformat_minor": 0,
  "metadata": {
    "colab": {
      "name": "intro_sampling_pop.ipynb",
      "provenance": [],
      "collapsed_sections": [],
      "authorship_tag": "ABX9TyNmFO8YRPSHaCKX4hF8YtTS",
      "include_colab_link": true
    },
    "kernelspec": {
      "name": "ir",
      "display_name": "R"
    },
    "language_info": {
      "name": "R"
    }
  },
  "cells": [
    {
      "cell_type": "markdown",
      "metadata": {
        "id": "view-in-github",
        "colab_type": "text"
      },
      "source": [
        "<a href=\"https://colab.research.google.com/github/tbonne/IntroPychStats/blob/main/notebooks/intro_sampling_pop.ipynb\" target=\"_parent\"><img src=\"https://colab.research.google.com/assets/colab-badge.svg\" alt=\"Open In Colab\"/></a>"
      ]
    },
    {
      "cell_type": "markdown",
      "metadata": {
        "id": "trouKhmEw-ii"
      },
      "source": [
        "<img src='http://drive.google.com/uc?export=view&id=1LFvPQl6_4ilF6qaXVILyTtH0whgy7OZV' width=500>\n",
        "\n"
      ]
    },
    {
      "cell_type": "markdown",
      "metadata": {
        "id": "5Z2vKe5lxjuk"
      },
      "source": [
        "#<font color='darkorange'>Sample size and populations</font>"
      ]
    },
    {
      "cell_type": "markdown",
      "metadata": {
        "id": "FqFEIuCj7Waq"
      },
      "source": [
        "Here we will take a look at how we learn about a population from a sample."
      ]
    },
    {
      "cell_type": "markdown",
      "metadata": {
        "id": "67SEgLD-7mSq"
      },
      "source": [
        "First let's create a population! We'll give each individual in the population an IQ. To do that we will use a normal distribution with a mean of 100 and a standard deviation of 25."
      ]
    },
    {
      "cell_type": "code",
      "metadata": {
        "id": "H66PXGIp7U6s"
      },
      "source": [
        "#choose the parameters of our population\n",
        "pop_IQ_mean = 100\n",
        "pop_IQ_sd = 25\n",
        "\n",
        "#Create a population of 100,000 people, each with a IQ\n",
        "population_IQ_values = rnorm(n=100000, mean=pop_IQ_mean, sd=pop_IQ_sd )\n",
        "\n",
        "#take a look at our population\n",
        "hist(population_IQ_values)"
      ],
      "execution_count": null,
      "outputs": []
    },
    {
      "cell_type": "markdown",
      "metadata": {
        "id": "dzf3c48v8MnL"
      },
      "source": [
        "Now that we have a population let's take a random sample of 5 individuals"
      ]
    },
    {
      "cell_type": "code",
      "metadata": {
        "id": "cL1UQY1M8VXJ"
      },
      "source": [
        "#sample some individuals\n",
        "sample_IQ_values = sample(population_IQ_values, size=5)\n",
        "\n",
        "#take a look at our sample\n",
        "sample_IQ_values"
      ],
      "execution_count": null,
      "outputs": []
    },
    {
      "cell_type": "markdown",
      "metadata": {
        "id": "oC2f5ipiperG"
      },
      "source": [
        "If we only had this sample of the population we could use what we've learnt in descriptive statistics to calculate a mean!"
      ]
    },
    {
      "cell_type": "code",
      "metadata": {
        "id": "Hn0JyFyapsJo"
      },
      "source": [
        "mean(sample_IQ_values)"
      ],
      "execution_count": null,
      "outputs": []
    },
    {
      "cell_type": "markdown",
      "metadata": {
        "id": "EZsITDS8pxB7"
      },
      "source": [
        "How close is the sample mean (what you got from runing the code just above) to the population mean?\n",
        "> Remember: we made the population so we know the real population mean is 100!\n",
        "  \n",
        "\n",
        "Let's draw some lines on the histogram to help us better visualize how well the sample mean (red line) matches with the real population mean (blue line)."
      ]
    },
    {
      "cell_type": "code",
      "metadata": {
        "id": "Ml7AmmGTpZos"
      },
      "source": [
        "#take a look at sample IQ values\n",
        "hist(sample_IQ_values)\n",
        "abline(v=mean(sample_IQ_values),col=\"red\")\n",
        "abline(v=pop_IQ_mean, col=\"blue\")"
      ],
      "execution_count": null,
      "outputs": []
    },
    {
      "cell_type": "markdown",
      "metadata": {
        "id": "65Lm0sEiquP5"
      },
      "source": [
        "We can see that the sample mean did not exactly match the population mean. \n",
        "\n",
        "Go back up and increase the size of your sample:\n",
        "> what happends as the sample size gets bigger?\n",
        "> what sample size is sufficient to get a \"good\" estimate of the true population mean?\n",
        "  \n",
        "  \n",
        " "
      ]
    }
  ]
}