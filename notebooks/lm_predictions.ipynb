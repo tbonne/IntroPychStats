{
  "nbformat": 4,
  "nbformat_minor": 0,
  "metadata": {
    "colab": {
      "name": "lm_predictions.ipynb",
      "provenance": [],
      "collapsed_sections": [],
      "authorship_tag": "ABX9TyPjzAjQYpiYHvWqBUCgdzKt",
      "include_colab_link": true
    },
    "kernelspec": {
      "name": "ir",
      "display_name": "R"
    },
    "language_info": {
      "name": "R"
    }
  },
  "cells": [
    {
      "cell_type": "markdown",
      "metadata": {
        "id": "view-in-github",
        "colab_type": "text"
      },
      "source": [
        "<a href=\"https://colab.research.google.com/github/tbonne/IntroPychStats/blob/main/notebooks/lm_predictions.ipynb\" target=\"_parent\"><img src=\"https://colab.research.google.com/assets/colab-badge.svg\" alt=\"Open In Colab\"/></a>"
      ]
    },
    {
      "cell_type": "markdown",
      "metadata": {
        "id": "trouKhmEw-ii"
      },
      "source": [
        "<img src='http://drive.google.com/uc?export=view&id=1VwLYFU_RpimHn-ApqqcH95EVIe00-UTE' width=500>"
      ]
    },
    {
      "cell_type": "markdown",
      "metadata": {
        "id": "5Z2vKe5lxjuk"
      },
      "source": [
        "#<font color='darkorange'>Making predictions</font>"
      ]
    },
    {
      "cell_type": "markdown",
      "metadata": {
        "id": "_QeNGJdGx3tD"
      },
      "source": [
        "In this notebook we'll learn how to make predictions using our regression models. To do this we will first fit our model to the data.\n"
      ]
    },
    {
      "cell_type": "markdown",
      "metadata": {
        "id": "GNz8wsU5jsPk"
      },
      "source": [
        "### 1. Load in the data"
      ]
    },
    {
      "cell_type": "markdown",
      "metadata": {
        "id": "h5dkpbBqARsC"
      },
      "source": [
        "Lets load in some packages. These have functions that other people have made, and will hopefully make our lives a lot easier!"
      ]
    },
    {
      "cell_type": "code",
      "metadata": {
        "id": "NMCdcYmyAQNB"
      },
      "source": [
        "install.packages(\"jtools\")\n",
        "install.packages(\"ggstance\")\n",
        "library(jtools)"
      ],
      "execution_count": null,
      "outputs": []
    },
    {
      "cell_type": "markdown",
      "metadata": {
        "id": "FvGBLDcmW8YG"
      },
      "source": [
        "Then let's load in the IQ data"
      ]
    },
    {
      "cell_type": "code",
      "metadata": {
        "id": "W4l2Cb0PzjGW"
      },
      "source": [
        "#here we will read in a csv file and place it into something called df\n",
        "df_IQ <- read.csv(\"https://raw.githubusercontent.com/tbonne/IntroPychStats/main/data/kidIQ.csv\", header = T)\n",
        "\n",
        "#let's take a look at the data\n",
        "head(df_IQ)"
      ],
      "execution_count": null,
      "outputs": []
    },
    {
      "cell_type": "markdown",
      "metadata": {
        "id": "AMbKrM93zjGX"
      },
      "source": [
        "### 2. Visualize our data\n",
        "\n",
        "Then let's plot the scatterplot. Here we will choose: \n",
        "> what we'd like to predict (child IQ) and put it on the y-axis.\n",
        "> What we'd like to use to help make those predictions (mom IQ) and put it on the x-axis."
      ]
    },
    {
      "cell_type": "code",
      "metadata": {
        "id": "YCT-75fRzjGX"
      },
      "source": [
        "plot(x=df_IQ$mom_iq,y=df_IQ$kid_score) "
      ],
      "execution_count": null,
      "outputs": []
    },
    {
      "cell_type": "markdown",
      "metadata": {
        "id": "K9X0c24QzjGX"
      },
      "source": [
        "### 3. Define and fit our model\n",
        "\n",
        "Now we can speficy the model we'd like to fit: i.e., predict child IQ using mom IQ.\n",
        "> Remember, here we use the formula: \"what we'd like to predict\" ~ \"what we'd like to use to help make those predictions.\"\n",
        "  "
      ]
    },
    {
      "cell_type": "code",
      "metadata": {
        "id": "g0-O08LrzjGY"
      },
      "source": [
        "#fit a linear model\n",
        "model_childIQ <- lm(kid_score ~ mom_iq, data=df_IQ)\n"
      ],
      "execution_count": null,
      "outputs": []
    },
    {
      "cell_type": "markdown",
      "metadata": {
        "id": "svHTbyO12Guk"
      },
      "source": [
        "This bit of code then use our inputs to find the best fit linear equation for :\n",
        "> kid_score = a + b * mom_iq"
      ]
    },
    {
      "cell_type": "markdown",
      "metadata": {
        "id": "lGtlgt5I0fJ4"
      },
      "source": [
        "Let's use the summ function to tell us what values of a and b it found for the best fit line. \n",
        "> Note: we'll also calculate our 95% confidence interval here too!"
      ]
    },
    {
      "cell_type": "code",
      "metadata": {
        "id": "32dy8P1A0fiu"
      },
      "source": [
        "#What does the best fit model look like?\n",
        "summ(model_childIQ, confint=TRUE)"
      ],
      "execution_count": null,
      "outputs": []
    },
    {
      "cell_type": "markdown",
      "metadata": {
        "id": "4KCh21RJzjGZ"
      },
      "source": [
        "We can see from this output that the model is pretty certain that the slope of the population is somewhere between 0.49 and 0.72. \n",
        "> Those are the range of population values that are compatible with our sample!\n",
        "> I.e., it is unlikely that we'd get a sample like the one we got if the real slope between moms and chilren was -0.3."
      ]
    },
    {
      "cell_type": "markdown",
      "metadata": {
        "id": "odCSqr1BZv_u"
      },
      "source": [
        "### 4. Visualize the results"
      ]
    },
    {
      "cell_type": "markdown",
      "metadata": {
        "id": "XdjGuaFZ_jYT"
      },
      "source": [
        "Let's take a look at the estimates a little more visually"
      ]
    },
    {
      "cell_type": "code",
      "metadata": {
        "id": "r4fj57a7_mRa"
      },
      "source": [
        "#plot the estimates of the slopes\n",
        "plot_summs(model_childIQ)"
      ],
      "execution_count": null,
      "outputs": []
    },
    {
      "cell_type": "markdown",
      "metadata": {
        "id": "qhxESbN27BNZ"
      },
      "source": [
        "Let's take a look at the regression line a little more visually"
      ]
    },
    {
      "cell_type": "code",
      "metadata": {
        "id": "t68PheeXo7F9"
      },
      "source": [
        "#plot line on the data\n",
        "effect_plot(model_childIQ, pred = mom_iq, interval = TRUE, plot.points = TRUE)"
      ],
      "execution_count": null,
      "outputs": []
    },
    {
      "cell_type": "markdown",
      "metadata": {
        "id": "ahoXU8HzYzlM"
      },
      "source": [
        "### 5. Make predictions"
      ]
    },
    {
      "cell_type": "markdown",
      "metadata": {
        "id": "AKx56N0xtDVD"
      },
      "source": [
        "Let's now use the model we just fit to make a prediction. The idea here is that we can use our best fit line to answer prediction questions. \n",
        "> E.g., What does our model predict the IQ of a child if the mom's IQ is 120? "
      ]
    },
    {
      "cell_type": "code",
      "metadata": {
        "id": "08gv8sWStJTd"
      },
      "source": [
        "#make a prediction\n",
        "predict(model_childIQ, newdata=data.frame(mom_iq=120) )"
      ],
      "execution_count": null,
      "outputs": []
    },
    {
      "cell_type": "markdown",
      "metadata": {
        "id": "G--DdLGpZL96"
      },
      "source": [
        "> E.g., What does our model predict the IQ of a child if the mom's IQ is 80? "
      ]
    },
    {
      "cell_type": "code",
      "metadata": {
        "id": "93ykEmSpZTIv"
      },
      "source": [
        "#make a prediction\n"
      ],
      "execution_count": null,
      "outputs": []
    },
    {
      "cell_type": "markdown",
      "metadata": {
        "id": "32viNo9OZTYt"
      },
      "source": [
        "> E.g., What does our model predict the IQ of a child if the mom's IQ is 170? "
      ]
    },
    {
      "cell_type": "code",
      "metadata": {
        "id": "PeZG_vugZVhi"
      },
      "source": [
        "#make a prediction\n"
      ],
      "execution_count": null,
      "outputs": []
    },
    {
      "cell_type": "markdown",
      "metadata": {
        "id": "UixpKjxxaPMJ"
      },
      "source": [
        "<img src='http://drive.google.com/uc?export=view&id=1qWrKY9TgpgQaBCzZfz1xLTV6iCeSwfmG' width=150>"
      ]
    },
    {
      "cell_type": "markdown",
      "metadata": {
        "id": "syWsFiKejnql"
      },
      "source": [
        "## Let's head back to the slides!"
      ]
    },
    {
      "cell_type": "markdown",
      "metadata": {
        "id": "5hnP-UaQ7LPF"
      },
      "source": [
        "Let's take a look at how good our model is at predicting IQ.\n",
        "  \n",
        "Let's first make predictions for every data point and compare it to the observed values."
      ]
    },
    {
      "cell_type": "code",
      "metadata": {
        "id": "HLzN98rMuO8i"
      },
      "source": [
        "#let's make some predictions (if we don't give the prediction function new values it will just use the data that was used when building the model)\n",
        "df_IQ$predictions <- predict(model_childIQ)\n",
        "\n",
        "#Let's take a look\n",
        "head(df_IQ)"
      ],
      "execution_count": null,
      "outputs": []
    },
    {
      "cell_type": "markdown",
      "metadata": {
        "id": "I8lI_QH8urMY"
      },
      "source": [
        "Next let's plot the predictions and the observed IQ values of the children."
      ]
    },
    {
      "cell_type": "code",
      "metadata": {
        "id": "1I2miP2TuxIz"
      },
      "source": [
        "plot(y=df_IQ$kid_score, x=df_IQ$mom_iq)\n",
        "points(y=df_IQ$predictions, x=df_IQ$mom_iq, col=\"red\")"
      ],
      "execution_count": null,
      "outputs": []
    },
    {
      "cell_type": "markdown",
      "metadata": {
        "id": "PeglxQgNvTUu"
      },
      "source": [
        "Not too suprisingly we see that all those predicted points fall on a line, i.e., the regression line! \n",
        "  \n",
        "We can also see that those predictions are sometimes very far away from the real observations, i.e., there is some amount of residual error!\n",
        "  \n",
        "Let's look at this error in a plot. To do this let's subtract all the observations by the predictions to get the residuals. Then let's plot the residuals."
      ]
    },
    {
      "cell_type": "code",
      "metadata": {
        "id": "vpkbx0Dxv6FL"
      },
      "source": [
        "#take the difference between the observed and the predicted\n",
        "df_IQ$residual = df_IQ$kid_score - df_IQ$predictions\n",
        "\n",
        "#take a look\n",
        "plot(y=df_IQ$residual, x=df_IQ$mom_iq)\n",
        "abline(h=0, lty=3) #just adding a little dashed line here"
      ],
      "execution_count": null,
      "outputs": []
    },
    {
      "cell_type": "markdown",
      "metadata": {
        "id": "gOYto69rwTgs"
      },
      "source": [
        "Here we can see a scatter plot of the residuals on the y-axis and the mom's IQ on the x-axis. Each point on the plot tells us how far off our prediction was. So we can see some positive values (where our prediction was too low) and some negative values (where our prediction was too high). \n",
        "  \n",
        "Points near zero on the y-axis are points where our model did very well! So if the model did really well we should see all the points around zero (i.e., close to that dashed line). If it was a weak model we should see points that vary a lot and are not close to the dashed line.\n",
        "> what measure do you know of that gets at how much something varies? That's right variation!\n",
        "\n",
        "We'll use that to estimate model performance with something called r-squared (or sometimes just called R2). R2 compares how much variation you have in your data to how much is left in the residuals. If you have a good model all the variation in your data (e.g., kid_scores) should be well predicted and in the residuals you should have all the points near zero (i.e., variation in the residuals will be low, because your model is making good predictions).\n",
        "\n",
        "Below let's calculate the variance in your observed data (i.e., kid IQ score).\n"
      ]
    },
    {
      "cell_type": "code",
      "metadata": {
        "id": "ryo5aHATzb3i"
      },
      "source": [
        "var_data = var(df_IQ$kid_score)"
      ],
      "execution_count": null,
      "outputs": []
    },
    {
      "cell_type": "markdown",
      "metadata": {
        "id": "zEQkpmHs0TL-"
      },
      "source": [
        "Next let's calculate the variance in your residuals (i.e., what is left after making your predictions)"
      ]
    },
    {
      "cell_type": "code",
      "metadata": {
        "id": "wZAV8x4uzgaI"
      },
      "source": [
        "var_residuals = var(df_IQ$residual)"
      ],
      "execution_count": null,
      "outputs": []
    },
    {
      "cell_type": "markdown",
      "metadata": {
        "id": "ikDVEC-b0dDh"
      },
      "source": [
        "Finally, let's use a formula to calcualte R2!"
      ]
    },
    {
      "cell_type": "code",
      "metadata": {
        "id": "P_zo5HuCzj5N"
      },
      "source": [
        "1-(var_residuals/var_data)"
      ],
      "execution_count": null,
      "outputs": []
    },
    {
      "cell_type": "markdown",
      "metadata": {
        "id": "EOwFjrCB0k3Q"
      },
      "source": [
        "Above you should see a value of R2. This reflects how much of the variation in kid IQ scores that your model can explain! R2 ranges from 0 - 1.\n",
        "\n",
        "> Values close to 1 suggest your model is doing very well at predicting kiq IQ scores.\n",
        "\n",
        "> Values close to 0 suggest your model is not doing very well at predicting kid IQ scores."
      ]
    },
    {
      "cell_type": "markdown",
      "metadata": {
        "id": "IhpYFdM21Aci"
      },
      "source": [
        "If you go all the way back to the top, you'll see that we won't have to go through all these steps everytime we'd like to get the R2 for our model. It is calculated for us when we look at the summary table using the **summ()** function!"
      ]
    }
  ]
}