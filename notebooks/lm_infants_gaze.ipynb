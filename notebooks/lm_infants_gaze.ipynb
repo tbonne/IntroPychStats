{
  "nbformat": 4,
  "nbformat_minor": 0,
  "metadata": {
    "colab": {
      "name": "lm_infants_gaze.ipynb",
      "provenance": [],
      "collapsed_sections": [],
      "authorship_tag": "ABX9TyOTme9giIkqcmxUnk8JD1PH",
      "include_colab_link": true
    },
    "kernelspec": {
      "name": "ir",
      "display_name": "R"
    },
    "language_info": {
      "name": "R"
    }
  },
  "cells": [
    {
      "cell_type": "markdown",
      "metadata": {
        "id": "view-in-github",
        "colab_type": "text"
      },
      "source": [
        "<a href=\"https://colab.research.google.com/github/tbonne/IntroPychStats/blob/main/notebooks/lm_infants_gaze.ipynb\" target=\"_parent\"><img src=\"https://colab.research.google.com/assets/colab-badge.svg\" alt=\"Open In Colab\"/></a>"
      ]
    },
    {
      "cell_type": "markdown",
      "metadata": {
        "id": "trouKhmEw-ii"
      },
      "source": [
        "<img src='http://drive.google.com/uc?export=view&id=1786XAc5VlhzIHic3-cELNs5f1SQeFZe3' width=400>"
      ]
    },
    {
      "cell_type": "markdown",
      "metadata": {
        "id": "5Z2vKe5lxjuk"
      },
      "source": [
        "#<font color='darkorange'>Asking and answering questions using Linear Regression</font>"
      ]
    },
    {
      "cell_type": "markdown",
      "metadata": {
        "id": "_QeNGJdGx3tD"
      },
      "source": [
        "In this notebook we'll use the infant dataset to ask and answer specific questions.\n"
      ]
    },
    {
      "cell_type": "markdown",
      "metadata": {
        "id": "GNz8wsU5jsPk"
      },
      "source": [
        "### 1. Load in the data"
      ]
    },
    {
      "cell_type": "markdown",
      "metadata": {
        "id": "h5dkpbBqARsC"
      },
      "source": [
        "Lets load in some packages. These have functions that other people have made, and will hopefully make our lives a lot easier!"
      ]
    },
    {
      "cell_type": "code",
      "metadata": {
        "id": "NMCdcYmyAQNB"
      },
      "source": [
        "install.packages(\"jtools\")\n",
        "install.packages(\"ggstance\")\n",
        "library(jtools)"
      ],
      "execution_count": null,
      "outputs": []
    },
    {
      "cell_type": "markdown",
      "metadata": {
        "id": "FvGBLDcmW8YG"
      },
      "source": [
        "Then let's load in the [infant dataset](https://osf.io/bu7rx). You can find the [full paper here](https://journals.sagepub.com/doi/full/10.1177/0956797615626691)."
      ]
    },
    {
      "cell_type": "code",
      "metadata": {
        "id": "W4l2Cb0PzjGW"
      },
      "source": [
        "#here we will read in a csv file and place it into something called df\n",
        "df_infant <- read.csv(\"https://raw.githubusercontent.com/tbonne/IntroPychStats/main/data/LUL_pss_small.csv\", header = T)\n",
        "\n",
        "#let's take a look at the data\n",
        "head(df_infant)"
      ],
      "execution_count": null,
      "outputs": []
    },
    {
      "cell_type": "markdown",
      "metadata": {
        "id": "87dWXJj-dIvS"
      },
      "source": [
        "The first two columns are particualrly interesting. The first column shows us the proportion of the time the infant gazed at one of the two individuals presented on a screen. The second column shows us the proportion of the time the infant gazed at the one who sang the familar song. The difference then tells us how signing the familar song changed the infants gaze. "
      ]
    },
    {
      "cell_type": "markdown",
      "metadata": {
        "id": "AMbKrM93zjGX"
      },
      "source": [
        "### 2. Visualize our data\n",
        "\n",
        "Let's plot the scatterplot. Here we will choose: \n",
        "> What we'd like to predict and put it on the y-axis.\n",
        "\n",
        "> What we'd like to use to help make those predictions and put it on the x-axis.\n"
      ]
    },
    {
      "cell_type": "markdown",
      "metadata": {
        "id": "-IML1wRPsCui"
      },
      "source": [
        "**Histogram**"
      ]
    },
    {
      "cell_type": "markdown",
      "metadata": {
        "id": "jmPN_h9SsI3C"
      },
      "source": [
        "Histograms are a great way to see how a numeric variable is distributed.\n",
        "  \n",
        "<font color = \"darkred\"> (?) for the question mark below you should replace it with the column name that you'd like to use for the histogram.  </font>"
      ]
    },
    {
      "cell_type": "code",
      "metadata": {
        "id": "PiMsvSUcsETS"
      },
      "source": [
        "hist(df_infant$diff)"
      ],
      "execution_count": null,
      "outputs": []
    },
    {
      "cell_type": "markdown",
      "metadata": {
        "id": "XnO0MfTDr9G_"
      },
      "source": [
        "**Scatterplot**"
      ]
    },
    {
      "cell_type": "markdown",
      "metadata": {
        "id": "uo9KGZs4tSmV"
      },
      "source": [
        "Scatterplots are a great way to explore the relationships between two variables.\n",
        "  \n",
        "<font color = \"darkred\"> (?) for the first question mark below you should replace it with the column name that you'd like to use to make predictions. For the second question mark you should replace it with the variable you'd like to predict. </font>"
      ]
    },
    {
      "cell_type": "code",
      "metadata": {
        "id": "o7rkBQrftSmV",
        "colab": {
          "base_uri": "https://localhost:8080/",
          "height": 437
        },
        "outputId": "ce5f62d4-473c-49ae-9922-ed913abd3491"
      },
      "source": [
        "plot(x=df_infant$parent_song_performances,y=df_infant$diff) "
      ],
      "execution_count": 26,
      "outputs": [
        {
          "output_type": "display_data",
          "data": {
            "image/png": "[encoded data removed]",
            "text/plain": [
              "plot without title"
            ]
          },
          "metadata": {
            "image/png": {
              "width": 420,
              "height": 420
            }
          }
        }
      ]
    },
    {
      "cell_type": "markdown",
      "metadata": {
        "id": "KKduYsz8r_tW"
      },
      "source": [
        "**Boxplot**"
      ]
    },
    {
      "cell_type": "markdown",
      "metadata": {
        "id": "Cbtty_36tSmW"
      },
      "source": [
        "Boxplots are a great way to see how a numeric variable is distributed within certain categories.\n",
        "   \n",
        "<font color = \"darkred\"> Replace the first question mark with the categorical variable, and the second question mark with the variable you'd like to predict. </font>"
      ]
    },
    {
      "cell_type": "code",
      "metadata": {
        "id": "iJyY__pJtSmW"
      },
      "source": [
        "plot(x=factor(df_infant$female),y=df_infant$diff) "
      ],
      "execution_count": null,
      "outputs": []
    },
    {
      "cell_type": "markdown",
      "metadata": {
        "id": "K9X0c24QzjGX"
      },
      "source": [
        "### 3. Define and fit our model\n",
        "\n",
        "Now we can speficy the model we'd like to fit.\n",
        "> Remember, here we use the formula: \"what we'd like to predict\" ~ \"what we'd like to use to help make those predictions.\"\n",
        "\n",
        "> Remember too that to write this formula you should use the column names in the dataframe above (watch for spelling mistakes, and upper/lower case letters)\n",
        "\n",
        "> If you don't have any variables you'd like to use to help you make predictions you can write \"what we'd like to predict\" ~ 1. This will estimate the mean value of what you are trying to predict and give you an estimate of the uncertainty in that mean (i.e., 95% confidence interval).\n",
        "  "
      ]
    },
    {
      "cell_type": "markdown",
      "metadata": {
        "id": "Er24y1fOAe03"
      },
      "source": [
        "<font color = \"darkred\"> (?) for the question mark below you should replace it with the formula that will help you answer your question. </font>"
      ]
    },
    {
      "cell_type": "code",
      "metadata": {
        "id": "g0-O08LrzjGY"
      },
      "source": [
        "#fit a linear model\n",
        "model_infant <- lm(?, data=df_infant)\n"
      ],
      "execution_count": null,
      "outputs": []
    },
    {
      "cell_type": "markdown",
      "metadata": {
        "id": "svHTbyO12Guk"
      },
      "source": [
        "This bit of code then use our inputs to find the best fit linear equation for :\n",
        "> y = a + b * x"
      ]
    },
    {
      "cell_type": "markdown",
      "metadata": {
        "id": "lGtlgt5I0fJ4"
      },
      "source": [
        "Let's use the summ function to tell us what values of a and b it found for the best fit line. \n",
        "\n",
        "> Note: we'll also calculate our 95% confidence interval here too!"
      ]
    },
    {
      "cell_type": "code",
      "metadata": {
        "id": "32dy8P1A0fiu"
      },
      "source": [
        "#What does the best fit model look like?\n",
        "summ(model_infant, confint=TRUE, scale = TRUE, ci.width = .95)"
      ],
      "execution_count": null,
      "outputs": []
    },
    {
      "cell_type": "markdown",
      "metadata": {
        "id": "odCSqr1BZv_u"
      },
      "source": [
        "### 4. Visualize the results"
      ]
    },
    {
      "cell_type": "markdown",
      "metadata": {
        "id": "XdjGuaFZ_jYT"
      },
      "source": [
        "Let's take a look at the estimates a little more visually"
      ]
    },
    {
      "cell_type": "code",
      "metadata": {
        "id": "r4fj57a7_mRa"
      },
      "source": [
        "#plot the estimates of the slopes\n",
        "plot_summs(model_infant, scale=TRUE, ci_level = .95)"
      ],
      "execution_count": null,
      "outputs": []
    },
    {
      "cell_type": "markdown",
      "metadata": {
        "id": "qhxESbN27BNZ"
      },
      "source": [
        "Let's take a look at the regression line a little more visually"
      ]
    },
    {
      "cell_type": "code",
      "metadata": {
        "id": "t68PheeXo7F9"
      },
      "source": [
        "#plot line on the data\n",
        "effect_plot(model_infant, pred = ?, interval = TRUE, plot.points = TRUE)"
      ],
      "execution_count": null,
      "outputs": []
    },
    {
      "cell_type": "markdown",
      "metadata": {
        "id": "ahoXU8HzYzlM"
      },
      "source": [
        "### 5. Checking assumptions"
      ]
    },
    {
      "cell_type": "markdown",
      "metadata": {
        "id": "FcO_XSKdfdyr"
      },
      "source": [
        "**Assumption 1**\n",
        "\n",
        "Let's check the assumption that the errors (residuals) are normally distributed."
      ]
    },
    {
      "cell_type": "code",
      "metadata": {
        "id": "ASugh5jufsY5"
      },
      "source": [
        "hist(model_infant$residuals)"
      ],
      "execution_count": null,
      "outputs": []
    },
    {
      "cell_type": "markdown",
      "metadata": {
        "id": "EtBUci2VkxRS"
      },
      "source": [
        "The above plot is just like the histograms we've looked at in the past. Now we are looking at how errors are distributed.\n",
        "\n",
        "> If the errors do not look to have many small errors and few large errors (both positive and negative) then a normal distribution might not be the best model of the data. We might also be missing an important variable..."
      ]
    },
    {
      "cell_type": "markdown",
      "metadata": {
        "id": "58GItzyDhntE"
      },
      "source": [
        "**Assumption 2** - no patterns in the residuals\n",
        "  \n",
        "Let's check the assumption that the variance in the errors is constant."
      ]
    },
    {
      "cell_type": "code",
      "metadata": {
        "id": "2yUMbAxyhuy7"
      },
      "source": [
        "plot(y=model_infant$residuals, x=model_infant$fitted.values)\n",
        "abline(h = 0, lty=3)"
      ],
      "execution_count": null,
      "outputs": []
    },
    {
      "cell_type": "markdown",
      "metadata": {
        "id": "B7sq7l6wl4KZ"
      },
      "source": [
        "**Assumption 2** - no patterns in the residuals\n",
        "   \n",
        "Let's check the assumption that the relationship between your variables is linear (i.e., that a straight line and not a curvy line fit the data best). We can see this intuatively in the origianl scatter plot, or we can look at the residuals!"
      ]
    },
    {
      "cell_type": "code",
      "metadata": {
        "id": "U3V5fD6JmUg9"
      },
      "source": [
        "plot(y=model_infant$residuals, x=model_infant$fitted.values)\n",
        "abline(h = 0, lty=3)"
      ],
      "execution_count": null,
      "outputs": []
    },
    {
      "cell_type": "markdown",
      "metadata": {
        "id": "6k_jpW3Em3Oq"
      },
      "source": [
        "There are two things to keep in mind when checking the assumptions of the linear regression.\n",
        "\n",
        "> The first is that the assumptions do not need to be perfect to give you a resonable estimate.\n",
        "\n",
        "> The second is that often the way the model fails can help you build a better model."
      ]
    },
    {
      "cell_type": "markdown",
      "metadata": {
        "id": "dVm_EGLicEd2"
      },
      "source": [
        "### 6. Interpret the results"
      ]
    },
    {
      "cell_type": "markdown",
      "metadata": {
        "id": "paxXBaCUcGbn"
      },
      "source": [
        "From the results above you can start to answer some of the following questions: \n",
        "\n",
        "> What is the association between the two variables that you tested?\n",
        "\n",
        "> What does the confidence interval tell you about how certain you are in the sign and magnitude of that association?\n",
        "\n",
        "> How \"good\" are your model predictions?\n",
        "    "
      ]
    }
  ]
}