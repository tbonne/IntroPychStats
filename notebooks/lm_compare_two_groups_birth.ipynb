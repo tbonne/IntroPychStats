{
  "nbformat": 4,
  "nbformat_minor": 0,
  "metadata": {
    "colab": {
      "name": "lm_compare_two_groups_birth.ipynb",
      "provenance": [],
      "collapsed_sections": [],
      "authorship_tag": "ABX9TyNEfDm6ws/0j5UfbbIQ7KCe",
      "include_colab_link": true
    },
    "kernelspec": {
      "name": "ir",
      "display_name": "R"
    },
    "language_info": {
      "name": "R"
    }
  },
  "cells": [
    {
      "cell_type": "markdown",
      "metadata": {
        "id": "view-in-github",
        "colab_type": "text"
      },
      "source": [
        "<a href=\"https://colab.research.google.com/github/tbonne/IntroPychStats/blob/main/notebooks/lm_compare_two_groups_birth.ipynb\" target=\"_parent\"><img src=\"https://colab.research.google.com/assets/colab-badge.svg\" alt=\"Open In Colab\"/></a>"
      ]
    },
    {
      "cell_type": "markdown",
      "metadata": {
        "id": "trouKhmEw-ii"
      },
      "source": [
        "<img src='http://drive.google.com/uc?export=view&id=1kNYpjowJUSFPwEfSUrK5gcYPS49A4j8o' width=700>"
      ]
    },
    {
      "cell_type": "markdown",
      "metadata": {
        "id": "5Z2vKe5lxjuk"
      },
      "source": [
        "#<font color='darkorange'>Comparing two groups, and using more than one predictor</font>"
      ]
    },
    {
      "cell_type": "markdown",
      "metadata": {
        "id": "_QeNGJdGx3tD"
      },
      "source": [
        "In this notebook we'll use a sample of births in the US to learn how to use linear regression to compare between two groups.\n",
        "> i.e., does birth weight differ between smokers and non-smokers?"
      ]
    },
    {
      "cell_type": "markdown",
      "metadata": {
        "id": "GNz8wsU5jsPk"
      },
      "source": [
        "### 1. Load in the data"
      ]
    },
    {
      "cell_type": "markdown",
      "metadata": {
        "id": "h5dkpbBqARsC"
      },
      "source": [
        "Lets load in some packages. These have functions that other people have made, and will hopefully make our lives a lot easier!"
      ]
    },
    {
      "cell_type": "code",
      "metadata": {
        "id": "NMCdcYmyAQNB"
      },
      "source": [
        "install.packages(\"jtools\")\n",
        "install.packages(\"ggstance\")\n",
        "library(jtools)"
      ],
      "execution_count": null,
      "outputs": []
    },
    {
      "cell_type": "markdown",
      "metadata": {
        "id": "FvGBLDcmW8YG"
      },
      "source": [
        "Then let's load in the birth weight data. \n",
        "  \n",
        "> I've taken 100,000 births from the US in the year 2018 to try this out. These data and much more are freely available [here](https://www.cdc.gov/nchs/data_access/vitalstatsonline.htm#Tools)!"
      ]
    },
    {
      "cell_type": "code",
      "metadata": {
        "id": "W4l2Cb0PzjGW"
      },
      "source": [
        "#here we will read in a csv file and place it into something called df\n",
        "df_births <- read.csv(\"https://raw.githubusercontent.com/tbonne/IntroPychStats/main/data/US_births_2018_small.csv\", header = T)\n",
        "\n",
        "#let's take a look at the data\n",
        "head(df_births)"
      ],
      "execution_count": null,
      "outputs": []
    },
    {
      "cell_type": "markdown",
      "metadata": {
        "id": "-lze8JTlc74F"
      },
      "source": [
        "Our question here is:\n",
        "> Can smoking status help predict their child birth weight?"
      ]
    },
    {
      "cell_type": "markdown",
      "metadata": {
        "id": "AMbKrM93zjGX"
      },
      "source": [
        "### 2. Visualize our data\n",
        "\n",
        "Then let's plot the scatterplot. Here we will choose: \n",
        "> What we'd like to predict and put it on the y-axis.\n",
        "\n",
        "> What we'd like to use to help make those predictions and put it on the x-axis.\n",
        "\n",
        "> The choice of these variables should follow from the question you're asking above!\n"
      ]
    },
    {
      "cell_type": "markdown",
      "metadata": {
        "id": "1RyfZwaKAFmq"
      },
      "source": [
        "<font color = \"darkred\"> (?) for the question mark below you should replace it with the column name that you'd like to predict (y=?) and what you'd like to use to help make those predictions (x=?). </font>"
      ]
    },
    {
      "cell_type": "code",
      "metadata": {
        "id": "57pZW5qzi1tt"
      },
      "source": [
        "plot(x=df_births$mom_CIG,y=df_births$birthWeight) "
      ],
      "execution_count": null,
      "outputs": []
    },
    {
      "cell_type": "markdown",
      "metadata": {
        "id": "RqSiTV4yh8dU"
      },
      "source": [
        "Let's plot that again, but this time as a boxplot."
      ]
    },
    {
      "cell_type": "code",
      "metadata": {
        "id": "YCT-75fRzjGX"
      },
      "source": [
        "plot(x=factor(df_births$mom_CIG),y=df_births$birthWeight) "
      ],
      "execution_count": null,
      "outputs": []
    },
    {
      "cell_type": "markdown",
      "metadata": {
        "id": "mzSMmggJDIdZ"
      },
      "source": [
        "Because the variable we are using to make the predictions is a categorical variable the plots are going to look a little different. The above plot is called a boxplot and it summarises how the response (on the y-axis) are spread out.\n",
        "\n",
        "> The middle line is the median.\n",
        "  \n",
        "> The box itself is the region where the most common values lie.\n",
        "  \n",
        "> Then the dashed line and horizontal lines (whiskers) is the region that covers almost all the data\n",
        "  \n",
        "> For more info check out [this link](https://www.simplypsychology.org/boxplots.html)"
      ]
    },
    {
      "cell_type": "markdown",
      "metadata": {
        "id": "FPTVQkKpssC1"
      },
      "source": [
        "<img src='http://drive.google.com/uc?export=view&id=1qJMt8uT0gFTjV3gwl4q2yO1R_hhxeoD6' width=500>"
      ]
    },
    {
      "cell_type": "markdown",
      "metadata": {
        "id": "K9X0c24QzjGX"
      },
      "source": [
        "### 3. Define and fit our model\n",
        "\n",
        "Now we can speficy the model we'd like to fit.\n",
        "> Remember, here we use the formula: \"what we'd like to predict\" ~ \"what we'd like to use to help make those predictions.\"\n",
        "  "
      ]
    },
    {
      "cell_type": "markdown",
      "metadata": {
        "id": "Er24y1fOAe03"
      },
      "source": [
        "<font color = \"darkred\"> (?) for the question mark below you should replace it with the formula that will help you answer your question. </font>"
      ]
    },
    {
      "cell_type": "code",
      "metadata": {
        "id": "g0-O08LrzjGY"
      },
      "source": [
        "#fit a linear model\n",
        "model_weights <- lm( ? , data=df_births)\n"
      ],
      "execution_count": null,
      "outputs": []
    },
    {
      "cell_type": "markdown",
      "metadata": {
        "id": "svHTbyO12Guk"
      },
      "source": [
        "This bit of code then use our inputs to find the best fit linear equation for :\n",
        "> weight ~ Normal(mu, sd) \n",
        "\n",
        "> mu = a + b*mom_CIG\n"
      ]
    },
    {
      "cell_type": "markdown",
      "metadata": {
        "id": "lGtlgt5I0fJ4"
      },
      "source": [
        "Let's use the summ function to tell us what values of a and b it found for the best fit line. \n",
        "> Note: we'll also calculate our 95% confidence interval here too!"
      ]
    },
    {
      "cell_type": "code",
      "metadata": {
        "id": "32dy8P1A0fiu"
      },
      "source": [
        "#What does the best fit model look like?\n",
        "summ(model_weights, confint=TRUE)"
      ],
      "execution_count": null,
      "outputs": []
    },
    {
      "cell_type": "markdown",
      "metadata": {
        "id": "4KCh21RJzjGZ"
      },
      "source": [
        "We can see from this output that the model is pretty certain that the if the mom reports smoking birth weights are likely to be between ? and ? grams lighter than for a mom who reports not smoking.\n",
        "\n",
        "> Those are the range of population values that are compatible with our sample!\n",
        "  \n",
        "We can also get a sense of how much variation in responses our model is predicting using R2.\n",
        "\n",
        "> I.e., it is explaining very little in why some weights are high and others low!"
      ]
    },
    {
      "cell_type": "markdown",
      "metadata": {
        "id": "odCSqr1BZv_u"
      },
      "source": [
        "### 4. Visualize the results"
      ]
    },
    {
      "cell_type": "markdown",
      "metadata": {
        "id": "XdjGuaFZ_jYT"
      },
      "source": [
        "Let's take a look at the estimates a little more visually"
      ]
    },
    {
      "cell_type": "code",
      "metadata": {
        "id": "r4fj57a7_mRa"
      },
      "source": [
        "#plot the estimates of the slopes\n",
        "plot_summs(model_weights)"
      ],
      "execution_count": null,
      "outputs": []
    },
    {
      "cell_type": "markdown",
      "metadata": {
        "id": "qhxESbN27BNZ"
      },
      "source": [
        "Let's take a look at the regression line a little more visually"
      ]
    },
    {
      "cell_type": "markdown",
      "metadata": {
        "id": "VPzC25sMA8uk"
      },
      "source": [
        "<font color = \"darkred\"> (?) for the question mark below you should replace it with the variable that you used to help make your predictions. </font>"
      ]
    },
    {
      "cell_type": "code",
      "metadata": {
        "id": "t68PheeXo7F9"
      },
      "source": [
        "#plot line on the data\n",
        "effect_plot(model_weights, pred = mom_CIG, interval = TRUE, plot.points = TRUE)"
      ],
      "execution_count": null,
      "outputs": []
    },
    {
      "cell_type": "markdown",
      "metadata": {
        "id": "O7P2lMwuFONJ"
      },
      "source": [
        "The plot above shows us the estimated mean response for each of the questions. This mean is represented as a black point. Then the 95% confidence interval is shown as two black horizontal lines, above and below the estimated mean value."
      ]
    },
    {
      "cell_type": "markdown",
      "metadata": {
        "id": "ahoXU8HzYzlM"
      },
      "source": [
        "### 5. Checking assumptions"
      ]
    },
    {
      "cell_type": "markdown",
      "metadata": {
        "id": "FcO_XSKdfdyr"
      },
      "source": [
        "**Assumption 1**\n",
        "\n",
        "Let's check the assumption that the errors (residuals) are normally distributed."
      ]
    },
    {
      "cell_type": "code",
      "metadata": {
        "id": "ASugh5jufsY5"
      },
      "source": [
        "hist(model_weights$residuals)"
      ],
      "execution_count": null,
      "outputs": []
    },
    {
      "cell_type": "markdown",
      "metadata": {
        "id": "EtBUci2VkxRS"
      },
      "source": [
        "The above plot is just like the histograms we've looked at in the past. Now we are looking at how errors are distributed.\n",
        "\n",
        "> If the errors do not look to have many small errors and few large errors (both positive and negative) then a normal distribution might not be the best model of the data. We might also be missing an important variable..."
      ]
    },
    {
      "cell_type": "markdown",
      "metadata": {
        "id": "58GItzyDhntE"
      },
      "source": [
        "**Assumption 2** - no patterns in the residuals\n",
        "  \n",
        "Let's check the assumption that the variance in the errors is constant."
      ]
    },
    {
      "cell_type": "code",
      "metadata": {
        "id": "2yUMbAxyhuy7"
      },
      "source": [
        "plot(y=model_weights$residuals, x=model_weights$fitted.values)\n",
        "abline(h = 0, lty=3)"
      ],
      "execution_count": null,
      "outputs": []
    },
    {
      "cell_type": "markdown",
      "metadata": {
        "id": "nm3ciXHmj88J"
      },
      "source": [
        "The above plot shows you all the errors (residuals) for each value that the model predicts. Ideally, we'd like to see errors evenly distributed around 0 (i.e., the dashed line).\n",
        "\n",
        "> If there is more variance in the errors for some prediction values then this means the model is better at predicting some values than others. "
      ]
    },
    {
      "cell_type": "markdown",
      "metadata": {
        "id": "B7sq7l6wl4KZ"
      },
      "source": [
        "**Assumption 2** - no patterns in the residuals\n",
        "   \n",
        "Let's check the assumption that the relationship between your variables is linear (i.e., that a straight line and not a curvy line fit the data best). We can see this intuatively in the origianl scatter plot, or we can look at the residuals!"
      ]
    },
    {
      "cell_type": "code",
      "metadata": {
        "id": "U3V5fD6JmUg9"
      },
      "source": [
        "plot(y=model_weights$residuals, x=model_weights$fitted.values)\n",
        "abline(h = 0, lty=3)"
      ],
      "execution_count": null,
      "outputs": []
    },
    {
      "cell_type": "markdown",
      "metadata": {
        "id": "E-q2qacNmZdH"
      },
      "source": [
        "The plot above is just the line fit to the scatterplot we saw before. Intuatively you can check to see if the straight line fits the data, or if a curvy line might fit better."
      ]
    },
    {
      "cell_type": "markdown",
      "metadata": {
        "id": "6k_jpW3Em3Oq"
      },
      "source": [
        "There are two things to keep in mind when checking the assumptions of the linear regression.\n",
        "\n",
        "> The first is that the assumptions do not need to be perfect to give you a resonable estimate.\n",
        "\n",
        "> The second is that often the way the model fails can help you build a better model."
      ]
    },
    {
      "cell_type": "markdown",
      "metadata": {
        "id": "dVm_EGLicEd2"
      },
      "source": [
        "### 6. Interpret the results"
      ]
    },
    {
      "cell_type": "markdown",
      "metadata": {
        "id": "paxXBaCUcGbn"
      },
      "source": [
        "From the results above what can you answer the question you posed in section 1?  \n",
        "> What is the association between the two variables that you tested?\n",
        "\n",
        "> What does the confidence interval tell you about how certain you are in the sign and magnitude of that association?\n",
        "\n",
        "> How \"good\" are your model predictions?\n",
        "\n",
        "> Think about internal validity of our results: can we say what causes what?\n",
        "\n",
        "> Think about the external validity of our results: can we generalize from our sample?\n",
        "  \n",
        "If you've finished this section, try going back up and add more variables to see if you can better predict birth weights!"
      ]
    },
    {
      "cell_type": "markdown",
      "metadata": {
        "id": "Gx4EZ6duRzJ4"
      },
      "source": [
        "### Bonus"
      ]
    },
    {
      "cell_type": "markdown",
      "metadata": {
        "id": "WjVQw2Z-oELD"
      },
      "source": [
        "This is completely optional, but for those of you who like nice plots you can read up on a package called ggplot2!\n",
        "> [Data visualization with ggplot2](https://rpubs.com/odenipinedo/introduction-to-data-visualization-with-ggplot2)"
      ]
    },
    {
      "cell_type": "code",
      "metadata": {
        "id": "sKy4mFy9R0u7"
      },
      "source": [
        "library(ggplot2)\n",
        "\n",
        "ggplot(df_births, aes(x=mom_CIG, y=birthWeight, color=sex)) + geom_point()"
      ],
      "execution_count": null,
      "outputs": []
    },
    {
      "cell_type": "code",
      "metadata": {
        "id": "DbemmVpmn0XU"
      },
      "source": [
        "ggplot(df_births, aes(x=factor(mom_CIG), y=birthWeight, color=sex)) + geom_boxplot()"
      ],
      "execution_count": null,
      "outputs": []
    }
  ]
}