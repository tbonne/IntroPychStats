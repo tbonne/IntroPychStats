{
  "nbformat": 4,
  "nbformat_minor": 0,
  "metadata": {
    "colab": {
      "name": "Intro_to_colab.ipynb",
      "provenance": [],
      "collapsed_sections": [],
      "authorship_tag": "ABX9TyPkqgEPPcxoCoaHzoyBdd3A",
      "include_colab_link": true
    },
    "kernelspec": {
      "name": "ir",
      "display_name": "R"
    },
    "language_info": {
      "name": "R"
    }
  },
  "cells": [
    {
      "cell_type": "markdown",
      "metadata": {
        "id": "view-in-github",
        "colab_type": "text"
      },
      "source": [
        "<a href=\"https://colab.research.google.com/github/tbonne/IntroPychStats/blob/main/notebooks/Intro_to_colab.ipynb\" target=\"_parent\"><img src=\"https://colab.research.google.com/assets/colab-badge.svg\" alt=\"Open In Colab\"/></a>"
      ]
    },
    {
      "cell_type": "markdown",
      "metadata": {
        "id": "trouKhmEw-ii"
      },
      "source": [
        "<img src='http://drive.google.com/uc?export=view&id=1_zplE3GeQqAtwo5GzGOJIdN-EpkM1gxy' width=500>"
      ]
    },
    {
      "cell_type": "markdown",
      "metadata": {
        "id": "5Z2vKe5lxjuk"
      },
      "source": [
        "# Introducing R notebooks\n"
      ]
    },
    {
      "cell_type": "markdown",
      "metadata": {
        "id": "FqFEIuCj7Waq"
      },
      "source": [
        "Hi everyone, we'll be using R notebooks to help understand some of the statistical topics we're discusing in class. Let's take a quick look at how to use an R notebook. \n",
        "\n",
        "### Layout\n",
        "\n",
        "The first thing you might notice is that there are white and grey areas. In the white areas i'll write text giving you information or directions on what to do. While in the grey areas there will be some computer code. This code will be writen in R, but don't worry you won;t have to do much coding yourselves!! Generally, you can read these notebooks just like you would a blog, the only difference is that sometimes you'll interact with the note book by \"running\" code.\n",
        "\n",
        "\n",
        "### Running code\n",
        "\n",
        "Another thing you might notice is that by hovering over the grey areas you'll see a little play button appear on the top left of the grey area. If you click that button you'll run the code in the grey area. Generally, once you run the code you'll see some output underneath. Let's give that a try below, hover over the grey box below and press play."
      ]
    },
    {
      "cell_type": "code",
      "metadata": {
        "id": "H66PXGIp7U6s",
        "colab": {
          "base_uri": "https://localhost:8080/"
        },
        "outputId": "05b78953-0d98-40be-97ef-6da252349440"
      },
      "source": [
        "#here we will store your name\n",
        "my_name <- \"tyler\"\n",
        "\n",
        "#here we will print your name \n",
        "print(my_name)\n",
        "\n"
      ],
      "execution_count": null,
      "outputs": [
        {
          "output_type": "stream",
          "name": "stdout",
          "text": [
            "[1] \"tyler\"\n"
          ]
        }
      ]
    },
    {
      "cell_type": "markdown",
      "metadata": {
        "id": "U-JXkvJ3faek"
      },
      "source": [
        "After pressing play you should see \"tyler\" displayed directly below the grey area. If so, everything is working ok! Now if you change the name from \"tyler\" to \"yourName\" and press play again you'll see your name printed below. Sometimes, i'll get you to change parts of the code, but don't worry it will always be something small. You wont have to do very much coding yourselves, though by the end of class i'm hoping to have made coding a little less worriesome. \n",
        "\n",
        "*Note*: in the code area above did you notice that print is a function just like in google sheets. We give it some input and it will give us an output. In this case your name!"
      ]
    },
    {
      "cell_type": "markdown",
      "metadata": {
        "id": "adFyEt_Jgadv"
      },
      "source": [
        "### Working with data\n",
        "\n",
        "Sometimes we will want to bring in some data into our notebook. This can be done many ways but to make it easier for us i'll provide a code area that loads in the data from a file. Let's load in a dataset! Click play in the code block below."
      ]
    },
    {
      "cell_type": "code",
      "metadata": {
        "id": "p3XHaYFCh_JR"
      },
      "source": [
        "#here we will read in a csv file and place it into something called df\n",
        "df <- read.csv(\"https://raw.githubusercontent.com/tbonne/IntroPychStats/main/data/kidIQ.csv\", header = T)"
      ],
      "execution_count": null,
      "outputs": []
    },
    {
      "cell_type": "markdown",
      "metadata": {
        "id": "j8NxhTqrkYKs"
      },
      "source": [
        "The above code uses the function read.csv to grab the IQ data we've used in class and placed it into a variable called df. We can then ask to see what df looks like by running the code below."
      ]
    },
    {
      "cell_type": "code",
      "metadata": {
        "colab": {
          "base_uri": "https://localhost:8080/",
          "height": 1000
        },
        "id": "3fOe5NGckq9Y",
        "outputId": "f922fdda-6761-4a8b-fec1-818f184c761b"
      },
      "source": [
        "#take a look at our data in df\n",
        "df"
      ],
      "execution_count": null,
      "outputs": [
        {
          "output_type": "display_data",
          "data": {
            "text/plain": [
              "    kid_score mom_hs mom_iq    mom_work mom_age\n",
              "1    65       1      121.11753 4        27     \n",
              "2    98       1       89.36188 4        25     \n",
              "3    85       1      115.44316 4        27     \n",
              "4    83       1       99.44964 3        25     \n",
              "5   115       1       92.74571 4        27     \n",
              "6    98       0      107.90184 1        18     \n",
              "7    69       1      138.89311 4        20     \n",
              "8   106       1      125.14512 3        23     \n",
              "9   102       1       81.61953 1        24     \n",
              "10   95       1       95.07307 1        19     \n",
              "11   91       1       88.57700 1        23     \n",
              "12   58       1       94.85971 4        24     \n",
              "13   84       1       88.96280 4        27     \n",
              "14   78       1      114.11430 4        26     \n",
              "15  102       0      100.53407 2        24     \n",
              "16  110       1      120.41915 1        26     \n",
              "17  102       1      114.42688 3        23     \n",
              "18   99       1      111.59236 3        26     \n",
              "19  105       1      133.84923 4        20     \n",
              "20  101       0       97.26480 3        17     \n",
              "21  102       1      110.09681 4        21     \n",
              "22  115       1      126.72399 2        26     \n",
              "23  100       1       97.91159 2        20     \n",
              "24   87       1       99.92573 4        23     \n",
              "25   99       0       97.59501 4        19     \n",
              "26   96       1      121.74801 4        27     \n",
              "27   72       1       98.74808 3        21     \n",
              "28   78       1       97.91525 4        22     \n",
              "29   77       1       80.35856 2        24     \n",
              "30   98       1      114.30786 2        22     \n",
              "⋮   ⋮         ⋮      ⋮         ⋮        ⋮      \n",
              "405  96       0       84.98531 3        19     \n",
              "406  65       0       82.98596 1        21     \n",
              "407  64       1      101.79504 3        24     \n",
              "408  95       1      100.24363 2        26     \n",
              "409  56       1      110.01348 4        23     \n",
              "410  75       0       88.57700 2        23     \n",
              "411  91       1      106.74204 3        22     \n",
              "412 106       1       95.29214 2        18     \n",
              "413  76       1      108.31325 1        19     \n",
              "414  90       1      110.33139 3        26     \n",
              "415 108       1      116.82980 4        22     \n",
              "416  86       0       86.68554 1        23     \n",
              "417  85       1       96.85662 2        21     \n",
              "418 104       0       90.24826 1        18     \n",
              "419  87       1       89.29081 4        21     \n",
              "420  41       0       74.23025 1        25     \n",
              "421 106       0       91.88382 4        25     \n",
              "422  76       0       96.46072 3        26     \n",
              "423 100       0       97.40379 4        23     \n",
              "424  89       1      131.53329 4        21     \n",
              "425  42       1       78.24456 2        27     \n",
              "426 102       1      127.67572 4        29     \n",
              "427 104       1      124.51463 4        23     \n",
              "428  59       0       80.46402 4        21     \n",
              "429  93       0       74.86073 2        25     \n",
              "430  94       0       84.87741 4        21     \n",
              "431  76       1       92.99039 4        23     \n",
              "432  50       0       94.85971 2        24     \n",
              "433  88       1       96.85662 2        21     \n",
              "434  70       1       91.25334 2        25     "
            ],
            "text/latex": "A data.frame: 434 × 5\n\\begin{tabular}{lllll}\n kid\\_score & mom\\_hs & mom\\_iq & mom\\_work & mom\\_age\\\\\n <int> & <int> & <dbl> & <int> & <int>\\\\\n\\hline\n\t  65 & 1 & 121.11753 & 4 & 27\\\\\n\t  98 & 1 &  89.36188 & 4 & 25\\\\\n\t  85 & 1 & 115.44316 & 4 & 27\\\\\n\t  83 & 1 &  99.44964 & 3 & 25\\\\\n\t 115 & 1 &  92.74571 & 4 & 27\\\\\n\t  98 & 0 & 107.90184 & 1 & 18\\\\\n\t  69 & 1 & 138.89311 & 4 & 20\\\\\n\t 106 & 1 & 125.14512 & 3 & 23\\\\\n\t 102 & 1 &  81.61953 & 1 & 24\\\\\n\t  95 & 1 &  95.07307 & 1 & 19\\\\\n\t  91 & 1 &  88.57700 & 1 & 23\\\\\n\t  58 & 1 &  94.85971 & 4 & 24\\\\\n\t  84 & 1 &  88.96280 & 4 & 27\\\\\n\t  78 & 1 & 114.11430 & 4 & 26\\\\\n\t 102 & 0 & 100.53407 & 2 & 24\\\\\n\t 110 & 1 & 120.41915 & 1 & 26\\\\\n\t 102 & 1 & 114.42688 & 3 & 23\\\\\n\t  99 & 1 & 111.59236 & 3 & 26\\\\\n\t 105 & 1 & 133.84923 & 4 & 20\\\\\n\t 101 & 0 &  97.26480 & 3 & 17\\\\\n\t 102 & 1 & 110.09681 & 4 & 21\\\\\n\t 115 & 1 & 126.72399 & 2 & 26\\\\\n\t 100 & 1 &  97.91159 & 2 & 20\\\\\n\t  87 & 1 &  99.92573 & 4 & 23\\\\\n\t  99 & 0 &  97.59501 & 4 & 19\\\\\n\t  96 & 1 & 121.74801 & 4 & 27\\\\\n\t  72 & 1 &  98.74808 & 3 & 21\\\\\n\t  78 & 1 &  97.91525 & 4 & 22\\\\\n\t  77 & 1 &  80.35856 & 2 & 24\\\\\n\t  98 & 1 & 114.30786 & 2 & 22\\\\\n\t ⋮ & ⋮ & ⋮ & ⋮ & ⋮\\\\\n\t  96 & 0 &  84.98531 & 3 & 19\\\\\n\t  65 & 0 &  82.98596 & 1 & 21\\\\\n\t  64 & 1 & 101.79504 & 3 & 24\\\\\n\t  95 & 1 & 100.24363 & 2 & 26\\\\\n\t  56 & 1 & 110.01348 & 4 & 23\\\\\n\t  75 & 0 &  88.57700 & 2 & 23\\\\\n\t  91 & 1 & 106.74204 & 3 & 22\\\\\n\t 106 & 1 &  95.29214 & 2 & 18\\\\\n\t  76 & 1 & 108.31325 & 1 & 19\\\\\n\t  90 & 1 & 110.33139 & 3 & 26\\\\\n\t 108 & 1 & 116.82980 & 4 & 22\\\\\n\t  86 & 0 &  86.68554 & 1 & 23\\\\\n\t  85 & 1 &  96.85662 & 2 & 21\\\\\n\t 104 & 0 &  90.24826 & 1 & 18\\\\\n\t  87 & 1 &  89.29081 & 4 & 21\\\\\n\t  41 & 0 &  74.23025 & 1 & 25\\\\\n\t 106 & 0 &  91.88382 & 4 & 25\\\\\n\t  76 & 0 &  96.46072 & 3 & 26\\\\\n\t 100 & 0 &  97.40379 & 4 & 23\\\\\n\t  89 & 1 & 131.53329 & 4 & 21\\\\\n\t  42 & 1 &  78.24456 & 2 & 27\\\\\n\t 102 & 1 & 127.67572 & 4 & 29\\\\\n\t 104 & 1 & 124.51463 & 4 & 23\\\\\n\t  59 & 0 &  80.46402 & 4 & 21\\\\\n\t  93 & 0 &  74.86073 & 2 & 25\\\\\n\t  94 & 0 &  84.87741 & 4 & 21\\\\\n\t  76 & 1 &  92.99039 & 4 & 23\\\\\n\t  50 & 0 &  94.85971 & 2 & 24\\\\\n\t  88 & 1 &  96.85662 & 2 & 21\\\\\n\t  70 & 1 &  91.25334 & 2 & 25\\\\\n\\end{tabular}\n",
            "text/markdown": "\nA data.frame: 434 × 5\n\n| kid_score &lt;int&gt; | mom_hs &lt;int&gt; | mom_iq &lt;dbl&gt; | mom_work &lt;int&gt; | mom_age &lt;int&gt; |\n|---|---|---|---|---|\n|  65 | 1 | 121.11753 | 4 | 27 |\n|  98 | 1 |  89.36188 | 4 | 25 |\n|  85 | 1 | 115.44316 | 4 | 27 |\n|  83 | 1 |  99.44964 | 3 | 25 |\n| 115 | 1 |  92.74571 | 4 | 27 |\n|  98 | 0 | 107.90184 | 1 | 18 |\n|  69 | 1 | 138.89311 | 4 | 20 |\n| 106 | 1 | 125.14512 | 3 | 23 |\n| 102 | 1 |  81.61953 | 1 | 24 |\n|  95 | 1 |  95.07307 | 1 | 19 |\n|  91 | 1 |  88.57700 | 1 | 23 |\n|  58 | 1 |  94.85971 | 4 | 24 |\n|  84 | 1 |  88.96280 | 4 | 27 |\n|  78 | 1 | 114.11430 | 4 | 26 |\n| 102 | 0 | 100.53407 | 2 | 24 |\n| 110 | 1 | 120.41915 | 1 | 26 |\n| 102 | 1 | 114.42688 | 3 | 23 |\n|  99 | 1 | 111.59236 | 3 | 26 |\n| 105 | 1 | 133.84923 | 4 | 20 |\n| 101 | 0 |  97.26480 | 3 | 17 |\n| 102 | 1 | 110.09681 | 4 | 21 |\n| 115 | 1 | 126.72399 | 2 | 26 |\n| 100 | 1 |  97.91159 | 2 | 20 |\n|  87 | 1 |  99.92573 | 4 | 23 |\n|  99 | 0 |  97.59501 | 4 | 19 |\n|  96 | 1 | 121.74801 | 4 | 27 |\n|  72 | 1 |  98.74808 | 3 | 21 |\n|  78 | 1 |  97.91525 | 4 | 22 |\n|  77 | 1 |  80.35856 | 2 | 24 |\n|  98 | 1 | 114.30786 | 2 | 22 |\n| ⋮ | ⋮ | ⋮ | ⋮ | ⋮ |\n|  96 | 0 |  84.98531 | 3 | 19 |\n|  65 | 0 |  82.98596 | 1 | 21 |\n|  64 | 1 | 101.79504 | 3 | 24 |\n|  95 | 1 | 100.24363 | 2 | 26 |\n|  56 | 1 | 110.01348 | 4 | 23 |\n|  75 | 0 |  88.57700 | 2 | 23 |\n|  91 | 1 | 106.74204 | 3 | 22 |\n| 106 | 1 |  95.29214 | 2 | 18 |\n|  76 | 1 | 108.31325 | 1 | 19 |\n|  90 | 1 | 110.33139 | 3 | 26 |\n| 108 | 1 | 116.82980 | 4 | 22 |\n|  86 | 0 |  86.68554 | 1 | 23 |\n|  85 | 1 |  96.85662 | 2 | 21 |\n| 104 | 0 |  90.24826 | 1 | 18 |\n|  87 | 1 |  89.29081 | 4 | 21 |\n|  41 | 0 |  74.23025 | 1 | 25 |\n| 106 | 0 |  91.88382 | 4 | 25 |\n|  76 | 0 |  96.46072 | 3 | 26 |\n| 100 | 0 |  97.40379 | 4 | 23 |\n|  89 | 1 | 131.53329 | 4 | 21 |\n|  42 | 1 |  78.24456 | 2 | 27 |\n| 102 | 1 | 127.67572 | 4 | 29 |\n| 104 | 1 | 124.51463 | 4 | 23 |\n|  59 | 0 |  80.46402 | 4 | 21 |\n|  93 | 0 |  74.86073 | 2 | 25 |\n|  94 | 0 |  84.87741 | 4 | 21 |\n|  76 | 1 |  92.99039 | 4 | 23 |\n|  50 | 0 |  94.85971 | 2 | 24 |\n|  88 | 1 |  96.85662 | 2 | 21 |\n|  70 | 1 |  91.25334 | 2 | 25 |\n\n",
            "text/html": [
              "<table class=\"dataframe\">\n",
              "<caption>A data.frame: 434 × 5</caption>\n",
              "<thead>\n",
              "\t<tr><th scope=col>kid_score</th><th scope=col>mom_hs</th><th scope=col>mom_iq</th><th scope=col>mom_work</th><th scope=col>mom_age</th></tr>\n",
              "\t<tr><th scope=col>&lt;int&gt;</th><th scope=col>&lt;int&gt;</th><th scope=col>&lt;dbl&gt;</th><th scope=col>&lt;int&gt;</th><th scope=col>&lt;int&gt;</th></tr>\n",
              "</thead>\n",
              "<tbody>\n",
              "\t<tr><td> 65</td><td>1</td><td>121.11753</td><td>4</td><td>27</td></tr>\n",
              "\t<tr><td> 98</td><td>1</td><td> 89.36188</td><td>4</td><td>25</td></tr>\n",
              "\t<tr><td> 85</td><td>1</td><td>115.44316</td><td>4</td><td>27</td></tr>\n",
              "\t<tr><td> 83</td><td>1</td><td> 99.44964</td><td>3</td><td>25</td></tr>\n",
              "\t<tr><td>115</td><td>1</td><td> 92.74571</td><td>4</td><td>27</td></tr>\n",
              "\t<tr><td> 98</td><td>0</td><td>107.90184</td><td>1</td><td>18</td></tr>\n",
              "\t<tr><td> 69</td><td>1</td><td>138.89311</td><td>4</td><td>20</td></tr>\n",
              "\t<tr><td>106</td><td>1</td><td>125.14512</td><td>3</td><td>23</td></tr>\n",
              "\t<tr><td>102</td><td>1</td><td> 81.61953</td><td>1</td><td>24</td></tr>\n",
              "\t<tr><td> 95</td><td>1</td><td> 95.07307</td><td>1</td><td>19</td></tr>\n",
              "\t<tr><td> 91</td><td>1</td><td> 88.57700</td><td>1</td><td>23</td></tr>\n",
              "\t<tr><td> 58</td><td>1</td><td> 94.85971</td><td>4</td><td>24</td></tr>\n",
              "\t<tr><td> 84</td><td>1</td><td> 88.96280</td><td>4</td><td>27</td></tr>\n",
              "\t<tr><td> 78</td><td>1</td><td>114.11430</td><td>4</td><td>26</td></tr>\n",
              "\t<tr><td>102</td><td>0</td><td>100.53407</td><td>2</td><td>24</td></tr>\n",
              "\t<tr><td>110</td><td>1</td><td>120.41915</td><td>1</td><td>26</td></tr>\n",
              "\t<tr><td>102</td><td>1</td><td>114.42688</td><td>3</td><td>23</td></tr>\n",
              "\t<tr><td> 99</td><td>1</td><td>111.59236</td><td>3</td><td>26</td></tr>\n",
              "\t<tr><td>105</td><td>1</td><td>133.84923</td><td>4</td><td>20</td></tr>\n",
              "\t<tr><td>101</td><td>0</td><td> 97.26480</td><td>3</td><td>17</td></tr>\n",
              "\t<tr><td>102</td><td>1</td><td>110.09681</td><td>4</td><td>21</td></tr>\n",
              "\t<tr><td>115</td><td>1</td><td>126.72399</td><td>2</td><td>26</td></tr>\n",
              "\t<tr><td>100</td><td>1</td><td> 97.91159</td><td>2</td><td>20</td></tr>\n",
              "\t<tr><td> 87</td><td>1</td><td> 99.92573</td><td>4</td><td>23</td></tr>\n",
              "\t<tr><td> 99</td><td>0</td><td> 97.59501</td><td>4</td><td>19</td></tr>\n",
              "\t<tr><td> 96</td><td>1</td><td>121.74801</td><td>4</td><td>27</td></tr>\n",
              "\t<tr><td> 72</td><td>1</td><td> 98.74808</td><td>3</td><td>21</td></tr>\n",
              "\t<tr><td> 78</td><td>1</td><td> 97.91525</td><td>4</td><td>22</td></tr>\n",
              "\t<tr><td> 77</td><td>1</td><td> 80.35856</td><td>2</td><td>24</td></tr>\n",
              "\t<tr><td> 98</td><td>1</td><td>114.30786</td><td>2</td><td>22</td></tr>\n",
              "\t<tr><td>⋮</td><td>⋮</td><td>⋮</td><td>⋮</td><td>⋮</td></tr>\n",
              "\t<tr><td> 96</td><td>0</td><td> 84.98531</td><td>3</td><td>19</td></tr>\n",
              "\t<tr><td> 65</td><td>0</td><td> 82.98596</td><td>1</td><td>21</td></tr>\n",
              "\t<tr><td> 64</td><td>1</td><td>101.79504</td><td>3</td><td>24</td></tr>\n",
              "\t<tr><td> 95</td><td>1</td><td>100.24363</td><td>2</td><td>26</td></tr>\n",
              "\t<tr><td> 56</td><td>1</td><td>110.01348</td><td>4</td><td>23</td></tr>\n",
              "\t<tr><td> 75</td><td>0</td><td> 88.57700</td><td>2</td><td>23</td></tr>\n",
              "\t<tr><td> 91</td><td>1</td><td>106.74204</td><td>3</td><td>22</td></tr>\n",
              "\t<tr><td>106</td><td>1</td><td> 95.29214</td><td>2</td><td>18</td></tr>\n",
              "\t<tr><td> 76</td><td>1</td><td>108.31325</td><td>1</td><td>19</td></tr>\n",
              "\t<tr><td> 90</td><td>1</td><td>110.33139</td><td>3</td><td>26</td></tr>\n",
              "\t<tr><td>108</td><td>1</td><td>116.82980</td><td>4</td><td>22</td></tr>\n",
              "\t<tr><td> 86</td><td>0</td><td> 86.68554</td><td>1</td><td>23</td></tr>\n",
              "\t<tr><td> 85</td><td>1</td><td> 96.85662</td><td>2</td><td>21</td></tr>\n",
              "\t<tr><td>104</td><td>0</td><td> 90.24826</td><td>1</td><td>18</td></tr>\n",
              "\t<tr><td> 87</td><td>1</td><td> 89.29081</td><td>4</td><td>21</td></tr>\n",
              "\t<tr><td> 41</td><td>0</td><td> 74.23025</td><td>1</td><td>25</td></tr>\n",
              "\t<tr><td>106</td><td>0</td><td> 91.88382</td><td>4</td><td>25</td></tr>\n",
              "\t<tr><td> 76</td><td>0</td><td> 96.46072</td><td>3</td><td>26</td></tr>\n",
              "\t<tr><td>100</td><td>0</td><td> 97.40379</td><td>4</td><td>23</td></tr>\n",
              "\t<tr><td> 89</td><td>1</td><td>131.53329</td><td>4</td><td>21</td></tr>\n",
              "\t<tr><td> 42</td><td>1</td><td> 78.24456</td><td>2</td><td>27</td></tr>\n",
              "\t<tr><td>102</td><td>1</td><td>127.67572</td><td>4</td><td>29</td></tr>\n",
              "\t<tr><td>104</td><td>1</td><td>124.51463</td><td>4</td><td>23</td></tr>\n",
              "\t<tr><td> 59</td><td>0</td><td> 80.46402</td><td>4</td><td>21</td></tr>\n",
              "\t<tr><td> 93</td><td>0</td><td> 74.86073</td><td>2</td><td>25</td></tr>\n",
              "\t<tr><td> 94</td><td>0</td><td> 84.87741</td><td>4</td><td>21</td></tr>\n",
              "\t<tr><td> 76</td><td>1</td><td> 92.99039</td><td>4</td><td>23</td></tr>\n",
              "\t<tr><td> 50</td><td>0</td><td> 94.85971</td><td>2</td><td>24</td></tr>\n",
              "\t<tr><td> 88</td><td>1</td><td> 96.85662</td><td>2</td><td>21</td></tr>\n",
              "\t<tr><td> 70</td><td>1</td><td> 91.25334</td><td>2</td><td>25</td></tr>\n",
              "</tbody>\n",
              "</table>\n"
            ]
          },
          "metadata": {}
        }
      ]
    },
    {
      "cell_type": "markdown",
      "metadata": {
        "id": "yBrsDNuJgh64"
      },
      "source": [
        "You should see the IQ data now! It is formatted just like in our spreadsheet, with rows being observations and columns being variables that describe each observation. "
      ]
    },
    {
      "cell_type": "markdown",
      "metadata": {
        "id": "uVDlxA4OlHpK"
      },
      "source": [
        "### Take-away-messages\n",
        "\n",
        "Remember if this seems like a lot to you, don't worry i won't ask you to do very much coding. We will primarily use these little notebooks to help learn topics we discuss in the class, so they are here to help! Also feel free to contact me on slack if anything is not working for you, or you have questions about colab! \n",
        "\n",
        "Happy coding :-)"
      ]
    }
  ]
}