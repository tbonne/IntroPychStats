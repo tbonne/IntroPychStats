{
  "nbformat": 4,
  "nbformat_minor": 0,
  "metadata": {
    "colab": {
      "name": "lm_OLS.ipynb",
      "provenance": [],
      "collapsed_sections": [],
      "authorship_tag": "ABX9TyMZbLnHfopUYXYFOxOnZ9kg",
      "include_colab_link": true
    },
    "kernelspec": {
      "name": "ir",
      "display_name": "R"
    },
    "language_info": {
      "name": "R"
    }
  },
  "cells": [
    {
      "cell_type": "markdown",
      "metadata": {
        "id": "view-in-github",
        "colab_type": "text"
      },
      "source": [
        "<a href=\"https://colab.research.google.com/github/tbonne/IntroPychStats/blob/main/notebooks/lm_OLS.ipynb\" target=\"_parent\"><img src=\"https://colab.research.google.com/assets/colab-badge.svg\" alt=\"Open In Colab\"/></a>"
      ]
    },
    {
      "cell_type": "markdown",
      "metadata": {
        "id": "trouKhmEw-ii"
      },
      "source": [
        "<img src='http://drive.google.com/uc?export=view&id=1VwLYFU_RpimHn-ApqqcH95EVIe00-UTE' width=500>"
      ]
    },
    {
      "cell_type": "markdown",
      "metadata": {
        "id": "5Z2vKe5lxjuk"
      },
      "source": [
        "#<font color='darkorange'>Estimating the best fit line using OLS</font>"
      ]
    },
    {
      "cell_type": "markdown",
      "metadata": {
        "id": "_QeNGJdGx3tD"
      },
      "source": [
        "In this notebook we'll learn how to use ordinary least squares (OLS) to fit a line to data. To do this we'll use a linear regression function called **lm()**. This function will fit the linear equation to the data and give us the estimes of each parameter (a and b).\n"
      ]
    },
    {
      "cell_type": "markdown",
      "metadata": {
        "id": "gXa7ZC11VSZn"
      },
      "source": [
        "y = a + b*x"
      ]
    },
    {
      "cell_type": "markdown",
      "metadata": {
        "id": "ZzFbmTd1VXte"
      },
      "source": [
        "In this equation we have variables (the data we are going to use: e.g., the columns in a spreadsheet).\n",
        "\n",
        "> Here the \"y\" is the values of the response variable. This is the thing you'd like to predict! So in the case of the IQ dataset this could be child IQ values.\n",
        "  \n",
        "> The \"x\" in the equation is the values you'd like to use to help make those predictions. Again in the case of the IQ dataset this could be the mom's IQ score.\n",
        "\n",
        "In this equation we also have parameters (these are learnt from the data)\n",
        "  \n",
        "> The \"a\" is the intercept, and measures where the linear line crosses the y-axis on the plot.\n",
        "\n",
        "> The \"b\" is the slope, and measures how the x value is predicted to change the y value. Positive slopes suggest that when x goes up so does y, and negative slopes suggest that when x goes up y goes down."
      ]
    },
    {
      "cell_type": "markdown",
      "metadata": {
        "id": "l8WO2IgVWmds"
      },
      "source": [
        "  \n",
        "  \n",
        "\n",
        "Now that we've looked at all the peices of the equation let's try to use it! This will help us better understand what variables we should use as inputs and what the parameters really mean. To do this let's try and fit a line to the data!"
      ]
    },
    {
      "cell_type": "markdown",
      "metadata": {
        "id": "GNz8wsU5jsPk"
      },
      "source": [
        "## Fitting a line using OLS"
      ]
    },
    {
      "cell_type": "markdown",
      "metadata": {
        "id": "h5dkpbBqARsC"
      },
      "source": [
        "First lets load in some packages. These have functions that other people have made, and will hopefully make our lives a lot easier!"
      ]
    },
    {
      "cell_type": "code",
      "metadata": {
        "id": "NMCdcYmyAQNB"
      },
      "source": [
        "install.packages(\"jtools\")\n",
        "install.packages(\"ggstance\")\n",
        "library(jtools)"
      ],
      "execution_count": null,
      "outputs": []
    },
    {
      "cell_type": "markdown",
      "metadata": {
        "id": "FvGBLDcmW8YG"
      },
      "source": [
        "Then let's load in the IQ data"
      ]
    },
    {
      "cell_type": "code",
      "metadata": {
        "id": "W4l2Cb0PzjGW"
      },
      "source": [
        "#here we will read in a csv file and place it into something called df\n",
        "df_IQ <- read.csv(\"https://raw.githubusercontent.com/tbonne/IntroPychStats/main/data/kidIQ.csv\", header = T)\n",
        "\n",
        "#let's take a look at the data\n",
        "df_IQ"
      ],
      "execution_count": null,
      "outputs": []
    },
    {
      "cell_type": "markdown",
      "metadata": {
        "id": "AMbKrM93zjGX"
      },
      "source": [
        "Then let's plot the scatterplot. Here we will choose: \n",
        "> what we'd like to predict (child IQ) and put it on the y-axis.\n",
        "> What we'd like to use to help make those predictions (mom IQ) and put it on the x-axis."
      ]
    },
    {
      "cell_type": "code",
      "metadata": {
        "id": "YCT-75fRzjGX"
      },
      "source": [
        "plot(x=df_IQ$mom_age,y=df_IQ$kid_score) "
      ],
      "execution_count": null,
      "outputs": []
    },
    {
      "cell_type": "markdown",
      "metadata": {
        "id": "K9X0c24QzjGX"
      },
      "source": [
        "Rather than visually fitting the line let's use OLS to find the values of the best fit line for us! To do this we'll use the function call **lm()**, which stands for linear model (lm). We'll use this function a lot in the next few classes so there will be a lot of time to figure all this out, so don't worry if this seems like a lot at the momment.\n",
        "\n",
        "The **lm()** function needs us to tell it what kind of linear equation to use. In particular it needs to know what you'd like to predict and what you'd like to use to make those predictions. To do this it uses a specific input to make it easier for use:\n",
        "> What you want to predict ~ what you want to use to make those predictions\n",
        "\n",
        "It also requires us to use the names of the variables in the data (i.e., the column names):\n",
        "  \n",
        "> e.g., kid_score ~ mom_iq\n",
        "  \n",
        "The **lm()** function also requires us to input the data.\n",
        "> e.g., data = df_IQ\n",
        "\n",
        "So when we put this all together we get the following:\n",
        "  "
      ]
    },
    {
      "cell_type": "code",
      "metadata": {
        "id": "g0-O08LrzjGY"
      },
      "source": [
        "#fit a linear model\n",
        "model_childIQ <- lm(kid_score ~ mom_iq, data=df_IQ)\n"
      ],
      "execution_count": null,
      "outputs": []
    },
    {
      "cell_type": "markdown",
      "metadata": {
        "id": "svHTbyO12Guk"
      },
      "source": [
        "This bit of code then use our inputs to find the best fit linear equation for :\n",
        "> kid_score = a + b * mom_iq"
      ]
    },
    {
      "cell_type": "markdown",
      "metadata": {
        "id": "lGtlgt5I0fJ4"
      },
      "source": [
        "Let's take a look at what it found. To do this we'll use a function called **summary()**. It is very useful and will tell us what values of a and b it found for the best fit line. \n",
        "> Note: it will also tell us lot's of other information! It might be a little overwhelming, but we'll go through each part in this class and the next few classes. So there is no need to know what all the outputs mean right now!"
      ]
    },
    {
      "cell_type": "code",
      "metadata": {
        "id": "32dy8P1A0fiu"
      },
      "source": [
        "#What does the best fit model look like?\n",
        "summ(model_childIQ)"
      ],
      "execution_count": null,
      "outputs": []
    },
    {
      "cell_type": "markdown",
      "metadata": {
        "id": "rS6AMqN130n8"
      },
      "source": [
        "There is a lot going on with the output above. Right now and for the majority of the class we will focus on only a small portion of the output. In particular, the most important part is the Estimates of the coefficients.\n",
        "> The (Intercept) estimate above is just the *a* in the linear equation. This is the value at which the line crosses the y-axis.\n",
        "> the mom_iq estimate is just the *b* in the linear equation. This is the slope of the line. We can see here that it is estimated to be positive, and that for every 1 increase in IQ for the mom, the model estimates that the child's IQ is 0.61 higher too.\n",
        "\n",
        "The other important thing to take away from this output is the Std Error. This is the standard error of the estimate. As we are using a sample we know there is some uncertainty in our estimates (i.e., they won't match the estimates if we had all the IQ values for all the mom's and their children). This Std Error is our estimate of how much uncertainty we have in each of these parameters."
      ]
    },
    {
      "cell_type": "markdown",
      "metadata": {
        "id": "cejz_bgpn1qx"
      },
      "source": [
        "Let's use the uncertainty to estimate a confidence interval for each parameter."
      ]
    },
    {
      "cell_type": "code",
      "metadata": {
        "id": "899wXhZenzMt"
      },
      "source": [
        "summ(model_childIQ, confint = TRUE)"
      ],
      "execution_count": null,
      "outputs": []
    },
    {
      "cell_type": "markdown",
      "metadata": {
        "id": "4KCh21RJzjGZ"
      },
      "source": [
        "We can see from this output that the model is pretty certain that the slope of the population is somewhere between 0.49 and 0.72. \n",
        "> Those are the range of population values that are compatible with our sample!\n",
        "> I.e., it is unlikely that we'd get a sample like the one we got if the real slope between moms and chilren was -0.3."
      ]
    },
    {
      "cell_type": "markdown",
      "metadata": {
        "id": "XdjGuaFZ_jYT"
      },
      "source": [
        "Let's take a look at the estimates a little more visually"
      ]
    },
    {
      "cell_type": "code",
      "metadata": {
        "id": "r4fj57a7_mRa"
      },
      "source": [
        "#plot the estimates of the slopes\n",
        "plot_summs(model_childIQ)"
      ],
      "execution_count": null,
      "outputs": []
    },
    {
      "cell_type": "markdown",
      "metadata": {
        "id": "qhxESbN27BNZ"
      },
      "source": [
        "Let's take a look at the regression line a little more visually"
      ]
    },
    {
      "cell_type": "code",
      "metadata": {
        "id": "t68PheeXo7F9"
      },
      "source": [
        "#plot line on the data\n",
        "effect_plot(model_childIQ, pred = mom_iq, interval = TRUE, plot.points = TRUE)"
      ],
      "execution_count": null,
      "outputs": []
    },
    {
      "cell_type": "markdown",
      "metadata": {
        "id": "syWsFiKejnql"
      },
      "source": [
        "## Try it out!"
      ]
    },
    {
      "cell_type": "markdown",
      "metadata": {
        "id": "5hnP-UaQ7LPF"
      },
      "source": [
        "Now that we've worked our way through fitting and interpreting a linear equation, try and repeat the anlysis below but this time see if the age of the mother at birth rather than the IQ of the mom can predict a childs IQ score."
      ]
    },
    {
      "cell_type": "markdown",
      "metadata": {
        "id": "JVg_zbU2i1Bv"
      },
      "source": [
        "Fit this a new model that tries to predict child IQ using mother's age when the child was born.\n",
        "  \n",
        "> Feel free to copy and paste, and then modify the formula as needed."
      ]
    },
    {
      "cell_type": "code",
      "metadata": {
        "id": "YLGgHpEZjFJ_"
      },
      "source": [
        "#fit a linear model\n"
      ],
      "execution_count": null,
      "outputs": []
    },
    {
      "cell_type": "markdown",
      "metadata": {
        "id": "XH9FT5OxjMe3"
      },
      "source": [
        "Next take a look at the summary table. \n",
        "> Try estimating confidence intervals to help you interpret the results."
      ]
    },
    {
      "cell_type": "code",
      "metadata": {
        "id": "_OldPROJjWQb"
      },
      "source": [
        "#take a look at the summary table\n"
      ],
      "execution_count": null,
      "outputs": []
    },
    {
      "cell_type": "markdown",
      "metadata": {
        "id": "mT3JLn5JoSnE"
      },
      "source": [
        "Take a look at the results more visually by plotting the estimates of the slope and the 95% CI."
      ]
    },
    {
      "cell_type": "code",
      "metadata": {
        "id": "b89tc-IMoX_a"
      },
      "source": [
        "#plot the estimates"
      ],
      "execution_count": null,
      "outputs": []
    },
    {
      "cell_type": "markdown",
      "metadata": {
        "id": "LmSm4L5b7IFY"
      },
      "source": [
        "Take a look at the regression line"
      ]
    },
    {
      "cell_type": "code",
      "metadata": {
        "id": "flA1-ZFo7Kzq"
      },
      "source": [
        "#plot the regression line through the data"
      ],
      "execution_count": null,
      "outputs": []
    },
    {
      "cell_type": "markdown",
      "metadata": {
        "id": "-H17usuhjcuX"
      },
      "source": [
        "Now use the results to try and answer the following questions:\n",
        "\n",
        "> What is the slope of the best fit line?\n",
        "  \n",
        "> What does this slope suggest about the pattern between a child's IQ and the age of the mom when the child was born?\n",
        "  \n",
        "> How does the 95% CI help you interpret that slope?\n"
      ]
    }
  ]
}