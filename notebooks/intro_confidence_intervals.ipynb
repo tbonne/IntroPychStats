{
  "nbformat": 4,
  "nbformat_minor": 0,
  "metadata": {
    "colab": {
      "name": "intro_confidence_intervals.ipynb",
      "provenance": [],
      "collapsed_sections": [],
      "authorship_tag": "ABX9TyNqCP5DMqvlOuNguBoc6iOp",
      "include_colab_link": true
    },
    "kernelspec": {
      "name": "ir",
      "display_name": "R"
    },
    "language_info": {
      "name": "R"
    }
  },
  "cells": [
    {
      "cell_type": "markdown",
      "metadata": {
        "id": "view-in-github",
        "colab_type": "text"
      },
      "source": [
        "<a href=\"https://colab.research.google.com/github/tbonne/IntroPychStats/blob/main/notebooks/intro_confidence_intervals.ipynb\" target=\"_parent\"><img src=\"https://colab.research.google.com/assets/colab-badge.svg\" alt=\"Open In Colab\"/></a>"
      ]
    },
    {
      "cell_type": "markdown",
      "metadata": {
        "id": "trouKhmEw-ii"
      },
      "source": [
        "<img src='http://drive.google.com/uc?export=view&id=1LFvPQl6_4ilF6qaXVILyTtH0whgy7OZV' width=500>"
      ]
    },
    {
      "cell_type": "markdown",
      "metadata": {
        "id": "5Z2vKe5lxjuk"
      },
      "source": [
        "#<font color='darkorange'>Calculating confidence intervals for samples</font>"
      ]
    },
    {
      "cell_type": "markdown",
      "metadata": {
        "id": "FqFEIuCj7Waq"
      },
      "source": [
        "Here we will take a look at how we learn about a population from a sample."
      ]
    },
    {
      "cell_type": "markdown",
      "metadata": {
        "id": "67SEgLD-7mSq"
      },
      "source": [
        "First let's create a population! We'll give each individual in the population an IQ. To do that we will use a normal distribution with a mean of 100 and a standard deviation of 25."
      ]
    },
    {
      "cell_type": "code",
      "metadata": {
        "id": "H66PXGIp7U6s"
      },
      "source": [
        "#choose the parameters of our population\n",
        "pop_IQ_mean = 100\n",
        "pop_IQ_sd = 25\n",
        "\n",
        "#Create a population of 100,000 people, each with a IQ\n",
        "population_IQ_values = rnorm(n=100000, mean=pop_IQ_mean, sd=pop_IQ_sd )\n",
        "\n",
        "#take a look at our population\n",
        "hist(population_IQ_values)\n",
        "\n"
      ],
      "execution_count": null,
      "outputs": []
    },
    {
      "cell_type": "markdown",
      "metadata": {
        "id": "dzf3c48v8MnL"
      },
      "source": [
        "Now that we have a population let's take a random sample of 10 individuals"
      ]
    },
    {
      "cell_type": "code",
      "metadata": {
        "id": "qfJk1h5ctIb6"
      },
      "source": [
        "#sample some individuals\n",
        "sample_IQ_values = sample(population_IQ_values, size=10)\n",
        "\n",
        "#take a look at our sample\n",
        "sample_IQ_values"
      ],
      "execution_count": null,
      "outputs": []
    },
    {
      "cell_type": "markdown",
      "metadata": {
        "id": "bGeGF3UZtLK-"
      },
      "source": [
        "If we only had this sample of the population we could use what we've learnt in descriptive statistics to calculate a mean!"
      ]
    },
    {
      "cell_type": "code",
      "metadata": {
        "id": "YCmS_hTbtL4z"
      },
      "source": [
        "mean(sample_IQ_values)"
      ],
      "execution_count": null,
      "outputs": []
    },
    {
      "cell_type": "markdown",
      "metadata": {
        "id": "UFtXddwPtSol"
      },
      "source": [
        "How close is the sample mean (what you got from runing the code just above) to the population mean?\n",
        "> Remember: we made the population so we know the real population mean is 100!\n",
        "  \n",
        "Let's calculate a confidence interval for our sample mean. This confidence interval will help us quantify the uncertainty that we know is in our sample (i.e., we didn't sample everyone so we are uncertain about the mean of the population).\n",
        "\n",
        "First let's calculate the sample error of the mean (SEM)! Remember SEM is just a measure of how much our sample mean is likely to vary as we take many samples. We can estimate this value without having to take many samples by using the formula below.\n",
        "  \n"
      ]
    },
    {
      "cell_type": "code",
      "metadata": {
        "id": "N-MttHM9L0sJ"
      },
      "source": [
        "#SEM is just the standard devation of our sample divided by the number of observations\n",
        "SEM = sd(sample_IQ_values)/sqrt(10)"
      ],
      "execution_count": null,
      "outputs": []
    },
    {
      "cell_type": "markdown",
      "metadata": {
        "id": "XAaZbiS5MPYC"
      },
      "source": [
        "Then we can calculate a 95% confidence interval by subtracting and adding to the mean. First let's calculate a lower confidence interval by subtracting 1.96*SEM from the mean. Remember that about 95% of the means should be within 1.96*SEM from the mean."
      ]
    },
    {
      "cell_type": "code",
      "metadata": {
        "id": "7zwr4hc6MbQT"
      },
      "source": [
        "#lower confidence interval\n",
        "mean_lower_confidence = mean(sample_IQ_values) - 1.96 * SEM\n",
        "\n",
        "#take a look\n",
        "mean_lower_confidence"
      ],
      "execution_count": null,
      "outputs": []
    },
    {
      "cell_type": "markdown",
      "metadata": {
        "id": "IJhmNE9sMoz1"
      },
      "source": [
        "Then we can calculate an upper confidence interval by adding 1.96*SEM to the mean."
      ]
    },
    {
      "cell_type": "code",
      "metadata": {
        "id": "jd_41jnZMoFE"
      },
      "source": [
        "#lower confidence interval\n",
        "mean_upper_confidence = mean(sample_IQ_values) + 1.96 * SEM\n",
        "\n",
        "#take a look\n",
        "mean_upper_confidence"
      ],
      "execution_count": null,
      "outputs": []
    },
    {
      "cell_type": "markdown",
      "metadata": {
        "id": "h9US1VGtAPRR"
      },
      "source": [
        "We can now say that a population mean of between 99 and 131 is consistent with our sample. That is we are pretty sure that the population mean is not 60, or 140. Rather we think it falls somewhere between 99 and 131.\n",
        "  \n",
        "  >Note: these exact values are likely to differ each time you run the code as your random sample will be different! The main idea will remain the same though."
      ]
    },
    {
      "cell_type": "markdown",
      "metadata": {
        "id": "uNcvFLoKN1Ew"
      },
      "source": [
        "Let's look at our confidence interval!"
      ]
    },
    {
      "cell_type": "code",
      "metadata": {
        "id": "syAu5I3OdzFP"
      },
      "source": [
        "#input the sample mean and the 95%CI\n",
        "sample_mean = ?\n",
        "lower_CI = ?\n",
        "upper_CI = ?\n",
        "\n",
        "#plot our confidence interval\n",
        "plot(sample_mean, 1, xlim=c(80,150), xlab=\"IQ\", ylab=\"sample\")\n",
        "arrows(lower_CI, 1, upper_CI, 1, length=0.05, angle=90, code=3) ## this part adds horizontal error bars"
      ],
      "execution_count": null,
      "outputs": []
    },
    {
      "cell_type": "markdown",
      "metadata": {
        "id": "X4y5LMdTBT_0"
      },
      "source": [
        "Above you should see a point and a line. The point is our sample mean, it is the estimated mean of the sample we have. The line, is the error bar, and it covers the range of population IQ values that are 95% consistent with our sample. I.e., they represent the likely mean IQ values of the population.\n",
        "\n",
        "> In your case does the 95% confidence interval contain the true population mean (e.g., 100)?\n",
        "  \n",
        "\n",
        "> Go back to the top and try to change the sample size to see if you can get the 95% confidence interval to fail! (i.e., where the true population mean is not in the 95% CI)."
      ]
    },
    {
      "cell_type": "markdown",
      "metadata": {
        "id": "irDnbwgXQyVp"
      },
      "source": [
        "*Disclaimer*: We calculated a 95% CI that is not quite right. There are some nuances that can make a difference especially for small samples (e.g., less than 30). We'll leave out this nuance as right now we are interested in getting the idea that you can quantify your uncertainty about your sample using confidence intervals. If you'd like to learn more chech out [the great chapter here](https://https://www.crumplab.com/statistics/probability-sampling-and-estimation.html#the-central-limit-theorem). Later we'll see how we can use a function call **confint** to help us calculate proper 95% confidence intervals!"
      ]
    }
  ]
}