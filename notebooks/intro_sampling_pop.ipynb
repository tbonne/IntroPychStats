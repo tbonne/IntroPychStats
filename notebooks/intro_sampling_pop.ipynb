{
  "nbformat": 4,
  "nbformat_minor": 0,
  "metadata": {
    "colab": {
      "name": "intro_sampling_pop.ipynb",
      "provenance": [],
      "collapsed_sections": [],
      "authorship_tag": "ABX9TyP/Xz+5g0zXJeleWa2eU8R4",
      "include_colab_link": true
    },
    "kernelspec": {
      "name": "ir",
      "display_name": "R"
    },
    "language_info": {
      "name": "R"
    }
  },
  "cells": [
    {
      "cell_type": "markdown",
      "metadata": {
        "id": "view-in-github",
        "colab_type": "text"
      },
      "source": [
        "<a href=\"https://colab.research.google.com/github/tbonne/IntroPychStats/blob/main/notebooks/intro_sampling_pop.ipynb\" target=\"_parent\"><img src=\"https://colab.research.google.com/assets/colab-badge.svg\" alt=\"Open In Colab\"/></a>"
      ]
    },
    {
      "cell_type": "markdown",
      "metadata": {
        "id": "trouKhmEw-ii"
      },
      "source": [
        "<img src='http://drive.google.com/uc?export=view&id=1LFvPQl6_4ilF6qaXVILyTtH0whgy7OZV' width=500>\n",
        "\n"
      ]
    },
    {
      "cell_type": "markdown",
      "metadata": {
        "id": "5Z2vKe5lxjuk"
      },
      "source": [
        "#<font color='darkorange'>Sample size and populations</font>"
      ]
    },
    {
      "cell_type": "markdown",
      "metadata": {
        "id": "FqFEIuCj7Waq"
      },
      "source": [
        "Here we will take a look at how we learn about a population from a sample."
      ]
    },
    {
      "cell_type": "markdown",
      "metadata": {
        "id": "67SEgLD-7mSq"
      },
      "source": [
        "First let's create a population! We'll give each individual in the population an IQ. To do that we will use a normal distribution with a mean of 100 and a standard deviation of 25."
      ]
    },
    {
      "cell_type": "code",
      "metadata": {
        "id": "H66PXGIp7U6s",
        "colab": {
          "base_uri": "https://localhost:8080/",
          "height": 437
        },
        "outputId": "1cb8ca1a-4bcc-490f-c300-b2305b6a708b"
      },
      "source": [
        "#choose the parameters of our population\n",
        "pop_IQ_mean = 100\n",
        "pop_IQ_sd = 25\n",
        "\n",
        "#Create a population of 100,000 people, each with a IQ\n",
        "population_IQ_values = rnorm(n=100000, mean=pop_IQ_mean, sd=pop_IQ_sd )\n",
        "\n",
        "#take a look at our population\n",
        "hist(population_IQ_values)"
      ],
      "execution_count": null,
      "outputs": [
        {
          "output_type": "display_data",
          "data": {
            "image/png": "[encoded data removed]",
            "text/plain": [
              "Plot with title “Histogram of population_IQ_values”"
            ]
          },
          "metadata": {
            "image/png": {
              "width": 420,
              "height": 420
            }
          }
        }
      ]
    },
    {
      "cell_type": "markdown",
      "metadata": {
        "id": "dzf3c48v8MnL"
      },
      "source": [
        "Now that we have a population let's take a random sample of 5 individuals"
      ]
    },
    {
      "cell_type": "code",
      "metadata": {
        "id": "cL1UQY1M8VXJ",
        "colab": {
          "base_uri": "https://localhost:8080/",
          "height": 34
        },
        "outputId": "fabd3279-284b-4cf6-91d6-daf1bec4f600"
      },
      "source": [
        "#sample some individuals\n",
        "sample_IQ_values = sample(population_IQ_values, size=5)\n",
        "\n",
        "#take a look at our sample\n",
        "sample_IQ_values"
      ],
      "execution_count": null,
      "outputs": [
        {
          "output_type": "display_data",
          "data": {
            "text/plain": [
              "[1] 38.52290 81.56143 88.26802 68.14939 91.49757"
            ],
            "text/latex": "\\begin{enumerate*}\n\\item 38.5228989804406\n\\item 81.5614277795334\n\\item 88.2680189469845\n\\item 68.149394344947\n\\item 91.4975673794811\n\\end{enumerate*}\n",
            "text/markdown": "1. 38.5228989804406\n2. 81.5614277795334\n3. 88.2680189469845\n4. 68.149394344947\n5. 91.4975673794811\n\n\n",
            "text/html": [
              "<style>\n",
              ".list-inline {list-style: none; margin:0; padding: 0}\n",
              ".list-inline>li {display: inline-block}\n",
              ".list-inline>li:not(:last-child)::after {content: \"\\00b7\"; padding: 0 .5ex}\n",
              "</style>\n",
              "<ol class=list-inline><li>38.5228989804406</li><li>81.5614277795334</li><li>88.2680189469845</li><li>68.149394344947</li><li>91.4975673794811</li></ol>\n"
            ]
          },
          "metadata": {}
        }
      ]
    },
    {
      "cell_type": "markdown",
      "metadata": {
        "id": "oC2f5ipiperG"
      },
      "source": [
        "If we only had this sample of the population we could use what we've learnt in descriptive statistics to calculate a mean!"
      ]
    },
    {
      "cell_type": "code",
      "metadata": {
        "id": "Hn0JyFyapsJo",
        "colab": {
          "base_uri": "https://localhost:8080/",
          "height": 34
        },
        "outputId": "fdddcab0-dd12-4198-9a01-07d709ae49f3"
      },
      "source": [
        "mean(sample_IQ_values)"
      ],
      "execution_count": null,
      "outputs": [
        {
          "output_type": "display_data",
          "data": {
            "text/plain": [
              "[1] 73.59986"
            ],
            "text/latex": "73.5998614862773",
            "text/markdown": "73.5998614862773",
            "text/html": [
              "73.5998614862773"
            ]
          },
          "metadata": {}
        }
      ]
    },
    {
      "cell_type": "markdown",
      "metadata": {
        "id": "EZsITDS8pxB7"
      },
      "source": [
        "How close is the sample mean (what you got from runing the code just above) to the population mean?\n",
        "> Remember: we made the population so we know the real population mean is 100!\n",
        "  \n",
        "\n",
        "Let's draw some lines on the histogram to help us better visualize how well the sample mean (red line) matches with the real population mean (blue line)."
      ]
    },
    {
      "cell_type": "code",
      "metadata": {
        "id": "Ml7AmmGTpZos"
      },
      "source": [
        "#take a look at sample IQ values\n",
        "hist(sample_IQ_values)\n",
        "abline(v=mean(sample_IQ_values),col=\"red\")\n",
        "abline(v=pop_IQ_mean, col=\"blue\")"
      ],
      "execution_count": null,
      "outputs": []
    },
    {
      "cell_type": "markdown",
      "metadata": {
        "id": "65Lm0sEiquP5"
      },
      "source": [
        "We can see that the sample mean did not exactly match the population mean. \n",
        "\n",
        "Go back up and increase the size of your sample:\n",
        "> what happens when the sample size gets bigger?\n",
        "> what sample size is sufficient to get a \"good\" estimate of the true population mean?\n",
        "  \n",
        "  \n",
        " "
      ]
    }
  ]
}