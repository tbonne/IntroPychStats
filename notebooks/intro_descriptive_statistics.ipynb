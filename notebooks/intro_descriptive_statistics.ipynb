{
  "nbformat": 4,
  "nbformat_minor": 0,
  "metadata": {
    "colab": {
      "name": "intro_descriptive_statistics.ipynb",
      "provenance": [],
      "collapsed_sections": [
        "vcS77d4uTEln"
      ],
      "authorship_tag": "ABX9TyNHCHJMQCBKPAkJwTlOZNNh",
      "include_colab_link": true
    },
    "kernelspec": {
      "name": "ir",
      "display_name": "R"
    },
    "language_info": {
      "name": "R"
    }
  },
  "cells": [
    {
      "cell_type": "markdown",
      "metadata": {
        "id": "view-in-github",
        "colab_type": "text"
      },
      "source": [
        "<a href=\"https://colab.research.google.com/github/tbonne/IntroPychStats/blob/main/notebooks/intro_descriptive_statistics.ipynb\" target=\"_parent\"><img src=\"https://colab.research.google.com/assets/colab-badge.svg\" alt=\"Open In Colab\"/></a>"
      ]
    },
    {
      "cell_type": "markdown",
      "metadata": {
        "id": "trouKhmEw-ii"
      },
      "source": [
        "<img src='http://drive.google.com/uc?export=view&id=1Jr9LVU3XrsXvTum3iqRn3SWkClHyNvmt' width=1500>\n"
      ]
    },
    {
      "cell_type": "markdown",
      "metadata": {
        "id": "5Z2vKe5lxjuk"
      },
      "source": [
        "#<font color='darkorange'>Normal Distribution</font>"
      ]
    },
    {
      "cell_type": "markdown",
      "metadata": {
        "id": "FqFEIuCj7Waq"
      },
      "source": [
        "In this exercise we'll learn about doing descriptive statistics in R. To do so we'll use heights of baseball players in the US. "
      ]
    },
    {
      "cell_type": "markdown",
      "metadata": {
        "id": "67SEgLD-7mSq"
      },
      "source": [
        "First let's bring the data into R and take a look at it!"
      ]
    },
    {
      "cell_type": "code",
      "metadata": {
        "id": "IVdr2qziGBuE",
        "colab": {
          "base_uri": "https://localhost:8080/",
          "height": 1000
        },
        "outputId": "56e7302b-6497-4191-cbdd-7efd5552aa62"
      },
      "source": [
        "#read in the data using the read.cvs function\n",
        "df_heights <- read.csv(\"https://raw.githubusercontent.com/tbonne/IntroPychStats/main/data/height_weight_players.csv\")\n",
        "\n",
        "#take a look\n",
        "df_heights"
      ],
      "execution_count": 3,
      "outputs": [
        {
          "output_type": "display_data",
          "data": {
            "text/plain": [
              "     Name               Team Position          Height.inches. Weight.pounds.\n",
              "1    Adam_Donachie      BAL  Catcher           74             180           \n",
              "2    Paul_Bako          BAL  Catcher           74             215           \n",
              "3    Ramon_Hernandez    BAL  Catcher           72             210           \n",
              "4    Kevin_Millar       BAL  First_Baseman     72             210           \n",
              "5    Chris_Gomez        BAL  First_Baseman     73             188           \n",
              "6    Brian_Roberts      BAL  Second_Baseman    69             176           \n",
              "7    Miguel_Tejada      BAL  Shortstop         69             209           \n",
              "8    Melvin_Mora        BAL  Third_Baseman     71             200           \n",
              "9    Aubrey_Huff        BAL  Third_Baseman     76             231           \n",
              "10   Adam_Stern         BAL  Outfielder        71             180           \n",
              "11   Jeff_Fiorentino    BAL  Outfielder        73             188           \n",
              "12   Freddie_Bynum      BAL  Outfielder        73             180           \n",
              "13   Nick_Markakis      BAL  Outfielder        74             185           \n",
              "14   Brandon_Fahey      BAL  Outfielder        74             160           \n",
              "15   Corey_Patterson    BAL  Outfielder        69             180           \n",
              "16   Jay_Payton         BAL  Outfielder        70             185           \n",
              "17   Jay_Gibbons        BAL  Designated_Hitter 72             197           \n",
              "18   Erik_Bedard        BAL  Starting_Pitcher  73             189           \n",
              "19   Hayden_Penn        BAL  Starting_Pitcher  75             185           \n",
              "20   Adam_Loewen        BAL  Starting_Pitcher  78             219           \n",
              "21   Daniel_Cabrera     BAL  Starting_Pitcher  79             230           \n",
              "22   Steve_Trachsel     BAL  Starting_Pitcher  76             205           \n",
              "23   Jaret_Wright       BAL  Starting_Pitcher  74             230           \n",
              "24   Kris_Benson        BAL  Starting_Pitcher  76             195           \n",
              "25   Scott_Williamson   BAL  Relief_Pitcher    72             180           \n",
              "26   John_Parrish       BAL  Relief_Pitcher    71             192           \n",
              "27   Danys_Baez         BAL  Relief_Pitcher    75             225           \n",
              "28   Chad_Bradford      BAL  Relief_Pitcher    77             203           \n",
              "29   Jamie_Walker       BAL  Relief_Pitcher    74             195           \n",
              "30   Brian_Burres       BAL  Relief_Pitcher    73             182           \n",
              "⋮    ⋮                  ⋮    ⋮                 ⋮              ⋮             \n",
              "1005 John_Nelson        STL  First_Baseman     73             190           \n",
              "1006 Albert_Pujols      STL  First_Baseman     75             225           \n",
              "1007 Adam_Kennedy       STL  Second_Baseman    73             185           \n",
              "1008 Aaron_Miles        STL  Second_Baseman    67             180           \n",
              "1009 David_Eckstein     STL  Shortstop         67             165           \n",
              "1010 Scott_Rolen        STL  Third_Baseman     76             240           \n",
              "1011 Scott_Spiezio      STL  Third_Baseman     74             220           \n",
              "1012 Jim_Edmonds        STL  Outfielder        73             212           \n",
              "1013 So_Taguchi         STL  Outfielder        70             163           \n",
              "1014 Juan_Encarnacion   STL  Outfielder        75             215           \n",
              "1015 Skip_Schumaker     STL  Outfielder        70             175           \n",
              "1016 John_Rodriguez     STL  Outfielder        72             205           \n",
              "1017 Chris_Duncan       STL  Outfielder        77             210           \n",
              "1018 Adam_Wainwright    STL  Starting_Pitcher  79             205           \n",
              "1019 Mark_Mulder        STL  Starting_Pitcher  78             208           \n",
              "1020 Anthony_Reyes      STL  Starting_Pitcher  74             215           \n",
              "1021 Ryan_Franklin      STL  Starting_Pitcher  75             180           \n",
              "1022 Kip_Wells          STL  Starting_Pitcher  75             200           \n",
              "1023 Chris_Carpenter    STL  Starting_Pitcher  78             230           \n",
              "1024 Russ_Springer      STL  Relief_Pitcher    76             211           \n",
              "1025 Jason_Isringhausen STL  Relief_Pitcher    75             230           \n",
              "1026 Ricardo_Rincon     STL  Relief_Pitcher    69             190           \n",
              "1027 Braden_Looper      STL  Relief_Pitcher    75             220           \n",
              "1028 Randy_Flores       STL  Relief_Pitcher    72             180           \n",
              "1029 Josh_Hancock       STL  Relief_Pitcher    75             205           \n",
              "1030 Brad_Thompson      STL  Relief_Pitcher    73             190           \n",
              "1031 Tyler_Johnson      STL  Relief_Pitcher    74             180           \n",
              "1032 Chris_Narveson     STL  Relief_Pitcher    75             205           \n",
              "1033 Randy_Keisler      STL  Relief_Pitcher    75             190           \n",
              "1034 Josh_Kinney        STL  Relief_Pitcher    73             195           \n",
              "     Age  \n",
              "1    22.99\n",
              "2    34.69\n",
              "3    30.78\n",
              "4    35.43\n",
              "5    35.71\n",
              "6    29.39\n",
              "7    30.77\n",
              "8    35.07\n",
              "9    30.19\n",
              "10   27.05\n",
              "11   23.88\n",
              "12   26.96\n",
              "13   23.29\n",
              "14   26.11\n",
              "15   27.55\n",
              "16   34.27\n",
              "17   30.00\n",
              "18   27.99\n",
              "19   22.38\n",
              "20   22.89\n",
              "21   25.76\n",
              "22   36.33\n",
              "23   31.17\n",
              "24   32.31\n",
              "25   31.03\n",
              "26   29.26\n",
              "27   29.47\n",
              "28   32.46\n",
              "29   35.67\n",
              "30   25.89\n",
              "⋮    ⋮    \n",
              "1005 27.99\n",
              "1006 27.12\n",
              "1007 31.14\n",
              "1008 30.21\n",
              "1009 32.11\n",
              "1010 31.91\n",
              "1011 34.44\n",
              "1012 36.68\n",
              "1013 37.66\n",
              "1014 30.98\n",
              "1015 27.07\n",
              "1016 29.11\n",
              "1017 25.82\n",
              "1018 25.50\n",
              "1019 29.57\n",
              "1020 25.37\n",
              "1021 33.99\n",
              "1022 29.86\n",
              "1023 31.84\n",
              "1024 38.31\n",
              "1025 34.48\n",
              "1026 36.88\n",
              "1027 32.34\n",
              "1028 31.58\n",
              "1029 28.89\n",
              "1030 25.08\n",
              "1031 25.73\n",
              "1032 25.19\n",
              "1033 31.01\n",
              "1034 27.92"
            ],
            "text/latex": "A data.frame: 1034 × 6\n\\begin{tabular}{llllll}\n Name & Team & Position & Height.inches. & Weight.pounds. & Age\\\\\n <chr> & <chr> & <chr> & <int> & <int> & <dbl>\\\\\n\\hline\n\t Adam\\_Donachie    & BAL & Catcher           & 74 & 180 & 22.99\\\\\n\t Paul\\_Bako        & BAL & Catcher           & 74 & 215 & 34.69\\\\\n\t Ramon\\_Hernandez  & BAL & Catcher           & 72 & 210 & 30.78\\\\\n\t Kevin\\_Millar     & BAL & First\\_Baseman     & 72 & 210 & 35.43\\\\\n\t Chris\\_Gomez      & BAL & First\\_Baseman     & 73 & 188 & 35.71\\\\\n\t Brian\\_Roberts    & BAL & Second\\_Baseman    & 69 & 176 & 29.39\\\\\n\t Miguel\\_Tejada    & BAL & Shortstop         & 69 & 209 & 30.77\\\\\n\t Melvin\\_Mora      & BAL & Third\\_Baseman     & 71 & 200 & 35.07\\\\\n\t Aubrey\\_Huff      & BAL & Third\\_Baseman     & 76 & 231 & 30.19\\\\\n\t Adam\\_Stern       & BAL & Outfielder        & 71 & 180 & 27.05\\\\\n\t Jeff\\_Fiorentino  & BAL & Outfielder        & 73 & 188 & 23.88\\\\\n\t Freddie\\_Bynum    & BAL & Outfielder        & 73 & 180 & 26.96\\\\\n\t Nick\\_Markakis    & BAL & Outfielder        & 74 & 185 & 23.29\\\\\n\t Brandon\\_Fahey    & BAL & Outfielder        & 74 & 160 & 26.11\\\\\n\t Corey\\_Patterson  & BAL & Outfielder        & 69 & 180 & 27.55\\\\\n\t Jay\\_Payton       & BAL & Outfielder        & 70 & 185 & 34.27\\\\\n\t Jay\\_Gibbons      & BAL & Designated\\_Hitter & 72 & 197 & 30.00\\\\\n\t Erik\\_Bedard      & BAL & Starting\\_Pitcher  & 73 & 189 & 27.99\\\\\n\t Hayden\\_Penn      & BAL & Starting\\_Pitcher  & 75 & 185 & 22.38\\\\\n\t Adam\\_Loewen      & BAL & Starting\\_Pitcher  & 78 & 219 & 22.89\\\\\n\t Daniel\\_Cabrera   & BAL & Starting\\_Pitcher  & 79 & 230 & 25.76\\\\\n\t Steve\\_Trachsel   & BAL & Starting\\_Pitcher  & 76 & 205 & 36.33\\\\\n\t Jaret\\_Wright     & BAL & Starting\\_Pitcher  & 74 & 230 & 31.17\\\\\n\t Kris\\_Benson      & BAL & Starting\\_Pitcher  & 76 & 195 & 32.31\\\\\n\t Scott\\_Williamson & BAL & Relief\\_Pitcher    & 72 & 180 & 31.03\\\\\n\t John\\_Parrish     & BAL & Relief\\_Pitcher    & 71 & 192 & 29.26\\\\\n\t Danys\\_Baez       & BAL & Relief\\_Pitcher    & 75 & 225 & 29.47\\\\\n\t Chad\\_Bradford    & BAL & Relief\\_Pitcher    & 77 & 203 & 32.46\\\\\n\t Jamie\\_Walker     & BAL & Relief\\_Pitcher    & 74 & 195 & 35.67\\\\\n\t Brian\\_Burres     & BAL & Relief\\_Pitcher    & 73 & 182 & 25.89\\\\\n\t ⋮ & ⋮ & ⋮ & ⋮ & ⋮ & ⋮\\\\\n\t John\\_Nelson        & STL & First\\_Baseman    & 73 & 190 & 27.99\\\\\n\t Albert\\_Pujols      & STL & First\\_Baseman    & 75 & 225 & 27.12\\\\\n\t Adam\\_Kennedy       & STL & Second\\_Baseman   & 73 & 185 & 31.14\\\\\n\t Aaron\\_Miles        & STL & Second\\_Baseman   & 67 & 180 & 30.21\\\\\n\t David\\_Eckstein     & STL & Shortstop        & 67 & 165 & 32.11\\\\\n\t Scott\\_Rolen        & STL & Third\\_Baseman    & 76 & 240 & 31.91\\\\\n\t Scott\\_Spiezio      & STL & Third\\_Baseman    & 74 & 220 & 34.44\\\\\n\t Jim\\_Edmonds        & STL & Outfielder       & 73 & 212 & 36.68\\\\\n\t So\\_Taguchi         & STL & Outfielder       & 70 & 163 & 37.66\\\\\n\t Juan\\_Encarnacion   & STL & Outfielder       & 75 & 215 & 30.98\\\\\n\t Skip\\_Schumaker     & STL & Outfielder       & 70 & 175 & 27.07\\\\\n\t John\\_Rodriguez     & STL & Outfielder       & 72 & 205 & 29.11\\\\\n\t Chris\\_Duncan       & STL & Outfielder       & 77 & 210 & 25.82\\\\\n\t Adam\\_Wainwright    & STL & Starting\\_Pitcher & 79 & 205 & 25.50\\\\\n\t Mark\\_Mulder        & STL & Starting\\_Pitcher & 78 & 208 & 29.57\\\\\n\t Anthony\\_Reyes      & STL & Starting\\_Pitcher & 74 & 215 & 25.37\\\\\n\t Ryan\\_Franklin      & STL & Starting\\_Pitcher & 75 & 180 & 33.99\\\\\n\t Kip\\_Wells          & STL & Starting\\_Pitcher & 75 & 200 & 29.86\\\\\n\t Chris\\_Carpenter    & STL & Starting\\_Pitcher & 78 & 230 & 31.84\\\\\n\t Russ\\_Springer      & STL & Relief\\_Pitcher   & 76 & 211 & 38.31\\\\\n\t Jason\\_Isringhausen & STL & Relief\\_Pitcher   & 75 & 230 & 34.48\\\\\n\t Ricardo\\_Rincon     & STL & Relief\\_Pitcher   & 69 & 190 & 36.88\\\\\n\t Braden\\_Looper      & STL & Relief\\_Pitcher   & 75 & 220 & 32.34\\\\\n\t Randy\\_Flores       & STL & Relief\\_Pitcher   & 72 & 180 & 31.58\\\\\n\t Josh\\_Hancock       & STL & Relief\\_Pitcher   & 75 & 205 & 28.89\\\\\n\t Brad\\_Thompson      & STL & Relief\\_Pitcher   & 73 & 190 & 25.08\\\\\n\t Tyler\\_Johnson      & STL & Relief\\_Pitcher   & 74 & 180 & 25.73\\\\\n\t Chris\\_Narveson     & STL & Relief\\_Pitcher   & 75 & 205 & 25.19\\\\\n\t Randy\\_Keisler      & STL & Relief\\_Pitcher   & 75 & 190 & 31.01\\\\\n\t Josh\\_Kinney        & STL & Relief\\_Pitcher   & 73 & 195 & 27.92\\\\\n\\end{tabular}\n",
            "text/markdown": "\nA data.frame: 1034 × 6\n\n| Name &lt;chr&gt; | Team &lt;chr&gt; | Position &lt;chr&gt; | Height.inches. &lt;int&gt; | Weight.pounds. &lt;int&gt; | Age &lt;dbl&gt; |\n|---|---|---|---|---|---|\n| Adam_Donachie    | BAL | Catcher           | 74 | 180 | 22.99 |\n| Paul_Bako        | BAL | Catcher           | 74 | 215 | 34.69 |\n| Ramon_Hernandez  | BAL | Catcher           | 72 | 210 | 30.78 |\n| Kevin_Millar     | BAL | First_Baseman     | 72 | 210 | 35.43 |\n| Chris_Gomez      | BAL | First_Baseman     | 73 | 188 | 35.71 |\n| Brian_Roberts    | BAL | Second_Baseman    | 69 | 176 | 29.39 |\n| Miguel_Tejada    | BAL | Shortstop         | 69 | 209 | 30.77 |\n| Melvin_Mora      | BAL | Third_Baseman     | 71 | 200 | 35.07 |\n| Aubrey_Huff      | BAL | Third_Baseman     | 76 | 231 | 30.19 |\n| Adam_Stern       | BAL | Outfielder        | 71 | 180 | 27.05 |\n| Jeff_Fiorentino  | BAL | Outfielder        | 73 | 188 | 23.88 |\n| Freddie_Bynum    | BAL | Outfielder        | 73 | 180 | 26.96 |\n| Nick_Markakis    | BAL | Outfielder        | 74 | 185 | 23.29 |\n| Brandon_Fahey    | BAL | Outfielder        | 74 | 160 | 26.11 |\n| Corey_Patterson  | BAL | Outfielder        | 69 | 180 | 27.55 |\n| Jay_Payton       | BAL | Outfielder        | 70 | 185 | 34.27 |\n| Jay_Gibbons      | BAL | Designated_Hitter | 72 | 197 | 30.00 |\n| Erik_Bedard      | BAL | Starting_Pitcher  | 73 | 189 | 27.99 |\n| Hayden_Penn      | BAL | Starting_Pitcher  | 75 | 185 | 22.38 |\n| Adam_Loewen      | BAL | Starting_Pitcher  | 78 | 219 | 22.89 |\n| Daniel_Cabrera   | BAL | Starting_Pitcher  | 79 | 230 | 25.76 |\n| Steve_Trachsel   | BAL | Starting_Pitcher  | 76 | 205 | 36.33 |\n| Jaret_Wright     | BAL | Starting_Pitcher  | 74 | 230 | 31.17 |\n| Kris_Benson      | BAL | Starting_Pitcher  | 76 | 195 | 32.31 |\n| Scott_Williamson | BAL | Relief_Pitcher    | 72 | 180 | 31.03 |\n| John_Parrish     | BAL | Relief_Pitcher    | 71 | 192 | 29.26 |\n| Danys_Baez       | BAL | Relief_Pitcher    | 75 | 225 | 29.47 |\n| Chad_Bradford    | BAL | Relief_Pitcher    | 77 | 203 | 32.46 |\n| Jamie_Walker     | BAL | Relief_Pitcher    | 74 | 195 | 35.67 |\n| Brian_Burres     | BAL | Relief_Pitcher    | 73 | 182 | 25.89 |\n| ⋮ | ⋮ | ⋮ | ⋮ | ⋮ | ⋮ |\n| John_Nelson        | STL | First_Baseman    | 73 | 190 | 27.99 |\n| Albert_Pujols      | STL | First_Baseman    | 75 | 225 | 27.12 |\n| Adam_Kennedy       | STL | Second_Baseman   | 73 | 185 | 31.14 |\n| Aaron_Miles        | STL | Second_Baseman   | 67 | 180 | 30.21 |\n| David_Eckstein     | STL | Shortstop        | 67 | 165 | 32.11 |\n| Scott_Rolen        | STL | Third_Baseman    | 76 | 240 | 31.91 |\n| Scott_Spiezio      | STL | Third_Baseman    | 74 | 220 | 34.44 |\n| Jim_Edmonds        | STL | Outfielder       | 73 | 212 | 36.68 |\n| So_Taguchi         | STL | Outfielder       | 70 | 163 | 37.66 |\n| Juan_Encarnacion   | STL | Outfielder       | 75 | 215 | 30.98 |\n| Skip_Schumaker     | STL | Outfielder       | 70 | 175 | 27.07 |\n| John_Rodriguez     | STL | Outfielder       | 72 | 205 | 29.11 |\n| Chris_Duncan       | STL | Outfielder       | 77 | 210 | 25.82 |\n| Adam_Wainwright    | STL | Starting_Pitcher | 79 | 205 | 25.50 |\n| Mark_Mulder        | STL | Starting_Pitcher | 78 | 208 | 29.57 |\n| Anthony_Reyes      | STL | Starting_Pitcher | 74 | 215 | 25.37 |\n| Ryan_Franklin      | STL | Starting_Pitcher | 75 | 180 | 33.99 |\n| Kip_Wells          | STL | Starting_Pitcher | 75 | 200 | 29.86 |\n| Chris_Carpenter    | STL | Starting_Pitcher | 78 | 230 | 31.84 |\n| Russ_Springer      | STL | Relief_Pitcher   | 76 | 211 | 38.31 |\n| Jason_Isringhausen | STL | Relief_Pitcher   | 75 | 230 | 34.48 |\n| Ricardo_Rincon     | STL | Relief_Pitcher   | 69 | 190 | 36.88 |\n| Braden_Looper      | STL | Relief_Pitcher   | 75 | 220 | 32.34 |\n| Randy_Flores       | STL | Relief_Pitcher   | 72 | 180 | 31.58 |\n| Josh_Hancock       | STL | Relief_Pitcher   | 75 | 205 | 28.89 |\n| Brad_Thompson      | STL | Relief_Pitcher   | 73 | 190 | 25.08 |\n| Tyler_Johnson      | STL | Relief_Pitcher   | 74 | 180 | 25.73 |\n| Chris_Narveson     | STL | Relief_Pitcher   | 75 | 205 | 25.19 |\n| Randy_Keisler      | STL | Relief_Pitcher   | 75 | 190 | 31.01 |\n| Josh_Kinney        | STL | Relief_Pitcher   | 73 | 195 | 27.92 |\n\n",
            "text/html": [
              "<table class=\"dataframe\">\n",
              "<caption>A data.frame: 1034 × 6</caption>\n",
              "<thead>\n",
              "\t<tr><th scope=col>Name</th><th scope=col>Team</th><th scope=col>Position</th><th scope=col>Height.inches.</th><th scope=col>Weight.pounds.</th><th scope=col>Age</th></tr>\n",
              "\t<tr><th scope=col>&lt;chr&gt;</th><th scope=col>&lt;chr&gt;</th><th scope=col>&lt;chr&gt;</th><th scope=col>&lt;int&gt;</th><th scope=col>&lt;int&gt;</th><th scope=col>&lt;dbl&gt;</th></tr>\n",
              "</thead>\n",
              "<tbody>\n",
              "\t<tr><td>Adam_Donachie   </td><td>BAL</td><td>Catcher          </td><td>74</td><td>180</td><td>22.99</td></tr>\n",
              "\t<tr><td>Paul_Bako       </td><td>BAL</td><td>Catcher          </td><td>74</td><td>215</td><td>34.69</td></tr>\n",
              "\t<tr><td>Ramon_Hernandez </td><td>BAL</td><td>Catcher          </td><td>72</td><td>210</td><td>30.78</td></tr>\n",
              "\t<tr><td>Kevin_Millar    </td><td>BAL</td><td>First_Baseman    </td><td>72</td><td>210</td><td>35.43</td></tr>\n",
              "\t<tr><td>Chris_Gomez     </td><td>BAL</td><td>First_Baseman    </td><td>73</td><td>188</td><td>35.71</td></tr>\n",
              "\t<tr><td>Brian_Roberts   </td><td>BAL</td><td>Second_Baseman   </td><td>69</td><td>176</td><td>29.39</td></tr>\n",
              "\t<tr><td>Miguel_Tejada   </td><td>BAL</td><td>Shortstop        </td><td>69</td><td>209</td><td>30.77</td></tr>\n",
              "\t<tr><td>Melvin_Mora     </td><td>BAL</td><td>Third_Baseman    </td><td>71</td><td>200</td><td>35.07</td></tr>\n",
              "\t<tr><td>Aubrey_Huff     </td><td>BAL</td><td>Third_Baseman    </td><td>76</td><td>231</td><td>30.19</td></tr>\n",
              "\t<tr><td>Adam_Stern      </td><td>BAL</td><td>Outfielder       </td><td>71</td><td>180</td><td>27.05</td></tr>\n",
              "\t<tr><td>Jeff_Fiorentino </td><td>BAL</td><td>Outfielder       </td><td>73</td><td>188</td><td>23.88</td></tr>\n",
              "\t<tr><td>Freddie_Bynum   </td><td>BAL</td><td>Outfielder       </td><td>73</td><td>180</td><td>26.96</td></tr>\n",
              "\t<tr><td>Nick_Markakis   </td><td>BAL</td><td>Outfielder       </td><td>74</td><td>185</td><td>23.29</td></tr>\n",
              "\t<tr><td>Brandon_Fahey   </td><td>BAL</td><td>Outfielder       </td><td>74</td><td>160</td><td>26.11</td></tr>\n",
              "\t<tr><td>Corey_Patterson </td><td>BAL</td><td>Outfielder       </td><td>69</td><td>180</td><td>27.55</td></tr>\n",
              "\t<tr><td>Jay_Payton      </td><td>BAL</td><td>Outfielder       </td><td>70</td><td>185</td><td>34.27</td></tr>\n",
              "\t<tr><td>Jay_Gibbons     </td><td>BAL</td><td>Designated_Hitter</td><td>72</td><td>197</td><td>30.00</td></tr>\n",
              "\t<tr><td>Erik_Bedard     </td><td>BAL</td><td>Starting_Pitcher </td><td>73</td><td>189</td><td>27.99</td></tr>\n",
              "\t<tr><td>Hayden_Penn     </td><td>BAL</td><td>Starting_Pitcher </td><td>75</td><td>185</td><td>22.38</td></tr>\n",
              "\t<tr><td>Adam_Loewen     </td><td>BAL</td><td>Starting_Pitcher </td><td>78</td><td>219</td><td>22.89</td></tr>\n",
              "\t<tr><td>Daniel_Cabrera  </td><td>BAL</td><td>Starting_Pitcher </td><td>79</td><td>230</td><td>25.76</td></tr>\n",
              "\t<tr><td>Steve_Trachsel  </td><td>BAL</td><td>Starting_Pitcher </td><td>76</td><td>205</td><td>36.33</td></tr>\n",
              "\t<tr><td>Jaret_Wright    </td><td>BAL</td><td>Starting_Pitcher </td><td>74</td><td>230</td><td>31.17</td></tr>\n",
              "\t<tr><td>Kris_Benson     </td><td>BAL</td><td>Starting_Pitcher </td><td>76</td><td>195</td><td>32.31</td></tr>\n",
              "\t<tr><td>Scott_Williamson</td><td>BAL</td><td>Relief_Pitcher   </td><td>72</td><td>180</td><td>31.03</td></tr>\n",
              "\t<tr><td>John_Parrish    </td><td>BAL</td><td>Relief_Pitcher   </td><td>71</td><td>192</td><td>29.26</td></tr>\n",
              "\t<tr><td>Danys_Baez      </td><td>BAL</td><td>Relief_Pitcher   </td><td>75</td><td>225</td><td>29.47</td></tr>\n",
              "\t<tr><td>Chad_Bradford   </td><td>BAL</td><td>Relief_Pitcher   </td><td>77</td><td>203</td><td>32.46</td></tr>\n",
              "\t<tr><td>Jamie_Walker    </td><td>BAL</td><td>Relief_Pitcher   </td><td>74</td><td>195</td><td>35.67</td></tr>\n",
              "\t<tr><td>Brian_Burres    </td><td>BAL</td><td>Relief_Pitcher   </td><td>73</td><td>182</td><td>25.89</td></tr>\n",
              "\t<tr><td>⋮</td><td>⋮</td><td>⋮</td><td>⋮</td><td>⋮</td><td>⋮</td></tr>\n",
              "\t<tr><td>John_Nelson       </td><td>STL</td><td>First_Baseman   </td><td>73</td><td>190</td><td>27.99</td></tr>\n",
              "\t<tr><td>Albert_Pujols     </td><td>STL</td><td>First_Baseman   </td><td>75</td><td>225</td><td>27.12</td></tr>\n",
              "\t<tr><td>Adam_Kennedy      </td><td>STL</td><td>Second_Baseman  </td><td>73</td><td>185</td><td>31.14</td></tr>\n",
              "\t<tr><td>Aaron_Miles       </td><td>STL</td><td>Second_Baseman  </td><td>67</td><td>180</td><td>30.21</td></tr>\n",
              "\t<tr><td>David_Eckstein    </td><td>STL</td><td>Shortstop       </td><td>67</td><td>165</td><td>32.11</td></tr>\n",
              "\t<tr><td>Scott_Rolen       </td><td>STL</td><td>Third_Baseman   </td><td>76</td><td>240</td><td>31.91</td></tr>\n",
              "\t<tr><td>Scott_Spiezio     </td><td>STL</td><td>Third_Baseman   </td><td>74</td><td>220</td><td>34.44</td></tr>\n",
              "\t<tr><td>Jim_Edmonds       </td><td>STL</td><td>Outfielder      </td><td>73</td><td>212</td><td>36.68</td></tr>\n",
              "\t<tr><td>So_Taguchi        </td><td>STL</td><td>Outfielder      </td><td>70</td><td>163</td><td>37.66</td></tr>\n",
              "\t<tr><td>Juan_Encarnacion  </td><td>STL</td><td>Outfielder      </td><td>75</td><td>215</td><td>30.98</td></tr>\n",
              "\t<tr><td>Skip_Schumaker    </td><td>STL</td><td>Outfielder      </td><td>70</td><td>175</td><td>27.07</td></tr>\n",
              "\t<tr><td>John_Rodriguez    </td><td>STL</td><td>Outfielder      </td><td>72</td><td>205</td><td>29.11</td></tr>\n",
              "\t<tr><td>Chris_Duncan      </td><td>STL</td><td>Outfielder      </td><td>77</td><td>210</td><td>25.82</td></tr>\n",
              "\t<tr><td>Adam_Wainwright   </td><td>STL</td><td>Starting_Pitcher</td><td>79</td><td>205</td><td>25.50</td></tr>\n",
              "\t<tr><td>Mark_Mulder       </td><td>STL</td><td>Starting_Pitcher</td><td>78</td><td>208</td><td>29.57</td></tr>\n",
              "\t<tr><td>Anthony_Reyes     </td><td>STL</td><td>Starting_Pitcher</td><td>74</td><td>215</td><td>25.37</td></tr>\n",
              "\t<tr><td>Ryan_Franklin     </td><td>STL</td><td>Starting_Pitcher</td><td>75</td><td>180</td><td>33.99</td></tr>\n",
              "\t<tr><td>Kip_Wells         </td><td>STL</td><td>Starting_Pitcher</td><td>75</td><td>200</td><td>29.86</td></tr>\n",
              "\t<tr><td>Chris_Carpenter   </td><td>STL</td><td>Starting_Pitcher</td><td>78</td><td>230</td><td>31.84</td></tr>\n",
              "\t<tr><td>Russ_Springer     </td><td>STL</td><td>Relief_Pitcher  </td><td>76</td><td>211</td><td>38.31</td></tr>\n",
              "\t<tr><td>Jason_Isringhausen</td><td>STL</td><td>Relief_Pitcher  </td><td>75</td><td>230</td><td>34.48</td></tr>\n",
              "\t<tr><td>Ricardo_Rincon    </td><td>STL</td><td>Relief_Pitcher  </td><td>69</td><td>190</td><td>36.88</td></tr>\n",
              "\t<tr><td>Braden_Looper     </td><td>STL</td><td>Relief_Pitcher  </td><td>75</td><td>220</td><td>32.34</td></tr>\n",
              "\t<tr><td>Randy_Flores      </td><td>STL</td><td>Relief_Pitcher  </td><td>72</td><td>180</td><td>31.58</td></tr>\n",
              "\t<tr><td>Josh_Hancock      </td><td>STL</td><td>Relief_Pitcher  </td><td>75</td><td>205</td><td>28.89</td></tr>\n",
              "\t<tr><td>Brad_Thompson     </td><td>STL</td><td>Relief_Pitcher  </td><td>73</td><td>190</td><td>25.08</td></tr>\n",
              "\t<tr><td>Tyler_Johnson     </td><td>STL</td><td>Relief_Pitcher  </td><td>74</td><td>180</td><td>25.73</td></tr>\n",
              "\t<tr><td>Chris_Narveson    </td><td>STL</td><td>Relief_Pitcher  </td><td>75</td><td>205</td><td>25.19</td></tr>\n",
              "\t<tr><td>Randy_Keisler     </td><td>STL</td><td>Relief_Pitcher  </td><td>75</td><td>190</td><td>31.01</td></tr>\n",
              "\t<tr><td>Josh_Kinney       </td><td>STL</td><td>Relief_Pitcher  </td><td>73</td><td>195</td><td>27.92</td></tr>\n",
              "</tbody>\n",
              "</table>\n"
            ]
          },
          "metadata": {}
        }
      ]
    },
    {
      "cell_type": "markdown",
      "metadata": {
        "id": "UcaktdEAGp90"
      },
      "source": [
        "Next let's do some descriptive statistics and calculate the mean and standard deviation of heights."
      ]
    },
    {
      "cell_type": "markdown",
      "metadata": {
        "id": "-ZFzKWiUGyKm"
      },
      "source": [
        "> Let's first calculate the mean!"
      ]
    },
    {
      "cell_type": "code",
      "metadata": {
        "id": "DH7jyMf0G1S2"
      },
      "source": [
        "mean(df_heights$Height)"
      ],
      "execution_count": null,
      "outputs": []
    },
    {
      "cell_type": "markdown",
      "metadata": {
        "id": "Ub4Wo5f3G9dw"
      },
      "source": [
        "> Then let's first calculate the standard deviation!"
      ]
    },
    {
      "cell_type": "code",
      "metadata": {
        "id": "OqOF6YoIHCWc"
      },
      "source": [
        "sd(df_heights$Height)"
      ],
      "execution_count": null,
      "outputs": []
    },
    {
      "cell_type": "markdown",
      "metadata": {
        "id": "3AvAHBb9StEm"
      },
      "source": [
        "Finally we can visualize heights using a histogram (very useful for numeric data!)"
      ]
    },
    {
      "cell_type": "code",
      "metadata": {
        "id": "BeGz0Jf4S3CI"
      },
      "source": [
        "?(df_heights$Height)"
      ],
      "execution_count": null,
      "outputs": []
    },
    {
      "cell_type": "markdown",
      "metadata": {
        "id": "vcS77d4uTEln"
      },
      "source": [
        "###<font color='darkorange'>Bonus</font>\n",
        "  \n",
        "If you have finished this exercise in class, or would like to become more familar with descriptive statistics in R, try getting the mean, sd, and histogram for weight (i.e., the \"Weight\" column).\n",
        "> Note: Try to add code blocks and text blocks below to keep your analysis organized."
      ]
    }
  ]
}