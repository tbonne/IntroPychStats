{
  "nbformat": 4,
  "nbformat_minor": 0,
  "metadata": {
    "colab": {
      "name": "intro_centralLimit.ipynb",
      "provenance": [],
      "collapsed_sections": [],
      "authorship_tag": "ABX9TyNazxrs+FLRxvdyT+ZySv9Y",
      "include_colab_link": true
    },
    "kernelspec": {
      "name": "ir",
      "display_name": "R"
    },
    "language_info": {
      "name": "R"
    }
  },
  "cells": [
    {
      "cell_type": "markdown",
      "metadata": {
        "id": "view-in-github",
        "colab_type": "text"
      },
      "source": [
        "<a href=\"https://colab.research.google.com/github/tbonne/IntroPychStats/blob/main/notebooks/intro_centralLimit.ipynb\" target=\"_parent\"><img src=\"https://colab.research.google.com/assets/colab-badge.svg\" alt=\"Open In Colab\"/></a>"
      ]
    },
    {
      "cell_type": "markdown",
      "metadata": {
        "id": "trouKhmEw-ii"
      },
      "source": [
        "<img src='http://drive.google.com/uc?export=view&id=1LFvPQl6_4ilF6qaXVILyTtH0whgy7OZV' width=500>"
      ]
    },
    {
      "cell_type": "markdown",
      "metadata": {
        "id": "5Z2vKe5lxjuk"
      },
      "source": [
        "#<font color='darkorange'>Many samples from populations</font>"
      ]
    },
    {
      "cell_type": "markdown",
      "metadata": {
        "id": "FqFEIuCj7Waq"
      },
      "source": [
        "Here we will take a look at how we learn about a population from a sample."
      ]
    },
    {
      "cell_type": "markdown",
      "metadata": {
        "id": "67SEgLD-7mSq"
      },
      "source": [
        "First let's create a population! We'll give each individual in the population an IQ. To do that we will use a normal distribution with a mean of 100 and a standard deviation of 25."
      ]
    },
    {
      "cell_type": "code",
      "metadata": {
        "id": "H66PXGIp7U6s"
      },
      "source": [
        "#choose the parameters of our population\n",
        "pop_IQ_mean = 100\n",
        "pop_IQ_sd = 25\n",
        "\n",
        "#Create a population of 100,000 people, each with a IQ\n",
        "population_IQ_values = rnorm(n=100000, mean=pop_IQ_mean, sd=pop_IQ_sd )\n",
        "\n",
        "#take a look at our population\n",
        "hist(population_IQ_values)\n",
        "\n"
      ],
      "execution_count": null,
      "outputs": []
    },
    {
      "cell_type": "markdown",
      "metadata": {
        "id": "dzf3c48v8MnL"
      },
      "source": [
        "Now that we have a population let's take a random sample of 5 individuals"
      ]
    },
    {
      "cell_type": "code",
      "metadata": {
        "id": "qfJk1h5ctIb6"
      },
      "source": [
        "#sample some individuals\n",
        "sample_IQ_values = sample(population_IQ_values, size=5)\n",
        "\n",
        "#take a look at our sample\n",
        "sample_IQ_values"
      ],
      "execution_count": null,
      "outputs": []
    },
    {
      "cell_type": "markdown",
      "metadata": {
        "id": "bGeGF3UZtLK-"
      },
      "source": [
        "If we only had this sample of the population we could use what we've learnt in descriptive statistics to calculate a mean!"
      ]
    },
    {
      "cell_type": "code",
      "metadata": {
        "id": "YCmS_hTbtL4z"
      },
      "source": [
        "mean(sample_IQ_values)"
      ],
      "execution_count": null,
      "outputs": []
    },
    {
      "cell_type": "markdown",
      "metadata": {
        "id": "UFtXddwPtSol"
      },
      "source": [
        "How close is the sample mean (what you got from runing the code just above) to the population mean?\n",
        "> Remember: we made the population so we know the real population mean is 100!\n",
        "  \n",
        "\n",
        "  \n",
        "What if we took another sample from the population, would it give us the same mean? Re-run the code above a few times to see what kinds of means you are likely to get when you sample from the population"
      ]
    },
    {
      "cell_type": "markdown",
      "metadata": {
        "id": "h9US1VGtAPRR"
      },
      "source": [
        "What if we took many samples and calculate a mean for each sample? What would the distribution of these means look like?\n",
        "> Below we are going to use something called a **loop** to help us out. It will just do something many times. Here we will use it to take a sample, calculate a mean and store the mean. We'll tell it to do this 1000 times!"
      ]
    },
    {
      "cell_type": "code",
      "metadata": {
        "id": "syAu5I3OdzFP"
      },
      "source": [
        "#create a box to store all the values (in this case this box is called a vector!)\n",
        "all_sample_means = c()\n",
        "\n",
        "#Here we will start a \"for loop\" \n",
        "for (i in 1:1000){\n",
        "  \n",
        "  #1. take a sample\n",
        "  sample_IQ_values = sample(population_IQ_values, size=10)\n",
        "\n",
        "  #2. Get the sample mean\n",
        "  sample_mean = mean(sample_IQ_values)\n",
        "\n",
        "  #3. store the sample mean\n",
        "  all_sample_means[length(all_sample_means)+1] = sample_mean\n",
        "}\n",
        "\n",
        "\n",
        "#take a look at all the sample means we got! \n",
        "all_sample_means"
      ],
      "execution_count": null,
      "outputs": []
    },
    {
      "cell_type": "markdown",
      "metadata": {
        "id": "X4y5LMdTBT_0"
      },
      "source": [
        "Next let's take a look at these sample means in a histogram! Are there some sample means you are more likely to get than others?"
      ]
    },
    {
      "cell_type": "code",
      "metadata": {
        "id": "Se7wIDj0BTjk"
      },
      "source": [
        "#take a look at all the sample means we calculated\n",
        "hist(all_sample_means, breaks = seq(60,150,by=1))"
      ],
      "execution_count": null,
      "outputs": []
    },
    {
      "cell_type": "markdown",
      "metadata": {
        "id": "iTUbpiECB2gi"
      },
      "source": [
        "The first thing we can see is that YES there are some sample means that we are more likely to get! Generally, if we take a sample we are very unlikely to get a sample mean of more than 110, or less than 80. But we are very likely to get a sample mean of around 100."
      ]
    },
    {
      "cell_type": "markdown",
      "metadata": {
        "id": "dpRNFWJ7CVfV"
      },
      "source": [
        "The second thing we can see is that the distribution of the sample means is close to a normal distribution! That means we can use the normal distribution to calculate how probable values of sample means are! We'll take a look at how we can use this to help estimate how much our sample mean is off the population mean.\n",
        " \n",
        "But first go back and try changing the sample size and see how that changes the distribution of sample means that we get. Remember this distribution comes from us taking many samples and calculating the mean each time, so it gives us an idea of how much we might be off when using a sample mean to estimate the population mean.\n",
        "> How does the distribution change?\n",
        "  \n",
        "\n",
        "> How does the probability of getting sample means that are far away from the population mean (i.e., 100) change?"
      ]
    }
  ]
}