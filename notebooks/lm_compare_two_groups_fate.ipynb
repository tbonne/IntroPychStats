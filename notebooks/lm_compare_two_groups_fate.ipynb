{
  "nbformat": 4,
  "nbformat_minor": 0,
  "metadata": {
    "colab": {
      "name": "lm_compare_two_groups_fate.ipynb",
      "provenance": [],
      "collapsed_sections": [],
      "authorship_tag": "ABX9TyNo4iuU6U0qaG8FfXW+02pb",
      "include_colab_link": true
    },
    "kernelspec": {
      "name": "ir",
      "display_name": "R"
    },
    "language_info": {
      "name": "R"
    }
  },
  "cells": [
    {
      "cell_type": "markdown",
      "metadata": {
        "id": "view-in-github",
        "colab_type": "text"
      },
      "source": [
        "<a href=\"https://colab.research.google.com/github/tbonne/IntroPychStats/blob/main/notebooks/lm_compare_two_groups_fate.ipynb\" target=\"_parent\"><img src=\"https://colab.research.google.com/assets/colab-badge.svg\" alt=\"Open In Colab\"/></a>"
      ]
    },
    {
      "cell_type": "markdown",
      "metadata": {
        "id": "trouKhmEw-ii"
      },
      "source": [
        "<img src='http://drive.google.com/uc?export=view&id=1Kn0ZllPYV8NAxE4lDukMecpRQ088GjwY' width=300>"
      ]
    },
    {
      "cell_type": "markdown",
      "metadata": {
        "id": "5Z2vKe5lxjuk"
      },
      "source": [
        "#<font color='darkorange'>Comparing two groups</font>"
      ]
    },
    {
      "cell_type": "markdown",
      "metadata": {
        "id": "_QeNGJdGx3tD"
      },
      "source": [
        "In this notebook we'll use the belief in fate dataset to learn how to use linear regression to compare between two groups.\n",
        "> i.e., does the belief in fate differ between two groups of subjects?\n",
        "  \n",
        "\n",
        "If you remember from early on in the course we saw that in this study the researchers randomly assigned subjects into two groups. Then one group was given a question where they tempted fate (did not do the reading) and the other group did not tempt fate (they did the reading). The question was then asked: how likely are you to be called on in class.\n",
        "> Note: they randomly assigned individuals into two groups to ensure that the two groups are very similar, and the only difference is the question they were asked.  \n"
      ]
    },
    {
      "cell_type": "markdown",
      "metadata": {
        "id": "GNz8wsU5jsPk"
      },
      "source": [
        "### 1. Load in the data"
      ]
    },
    {
      "cell_type": "markdown",
      "metadata": {
        "id": "h5dkpbBqARsC"
      },
      "source": [
        "Lets load in some packages. These have functions that other people have made, and will hopefully make our lives a lot easier!"
      ]
    },
    {
      "cell_type": "code",
      "metadata": {
        "id": "NMCdcYmyAQNB",
        "colab": {
          "base_uri": "https://localhost:8080/"
        },
        "outputId": "29c4f4d2-3aae-45d4-9c8e-01b869ad7764"
      },
      "source": [
        "install.packages(\"jtools\")\n",
        "install.packages(\"ggstance\")\n",
        "library(jtools)"
      ],
      "execution_count": 1,
      "outputs": [
        {
          "output_type": "stream",
          "name": "stderr",
          "text": [
            "Installing package into ‘/usr/local/lib/R/site-library’\n",
            "(as ‘lib’ is unspecified)\n",
            "\n",
            "also installing the dependency ‘pander’\n",
            "\n",
            "\n",
            "Installing package into ‘/usr/local/lib/R/site-library’\n",
            "(as ‘lib’ is unspecified)\n",
            "\n",
            "also installing the dependency ‘plyr’\n",
            "\n",
            "\n"
          ]
        }
      ]
    },
    {
      "cell_type": "markdown",
      "metadata": {
        "id": "FvGBLDcmW8YG"
      },
      "source": [
        "Then let's load in the [belief in fate dataset](https://journals.sagepub.com/doi/full/10.1177/2515245918810225)."
      ]
    },
    {
      "cell_type": "code",
      "metadata": {
        "id": "W4l2Cb0PzjGW",
        "colab": {
          "base_uri": "https://localhost:8080/",
          "height": 283
        },
        "outputId": "9c01dd99-e549-4fc1-9660-ddfdebcd3cf6"
      },
      "source": [
        "#here we will read in a csv file and place it into something called df\n",
        "df_fate <- read.csv(\"https://raw.githubusercontent.com/tbonne/IntroPychStats/main/data/Risen_study.csv\", header = T)\n",
        "\n",
        "#let's take a look at the data\n",
        "head(df_fate)"
      ],
      "execution_count": 24,
      "outputs": [
        {
          "output_type": "display_data",
          "data": {
            "text/plain": [
              "  userID Response Question   Country  \n",
              "1  2     3        Unprepared Australia\n",
              "2  3     2        Unprepared Australia\n",
              "3  4     2        Unprepared Australia\n",
              "4  6     2        Unprepared Australia\n",
              "5  9     7        Unprepared Australia\n",
              "6 10     6        Unprepared Australia\n",
              "  Location                                         Language Setting         \n",
              "1 University of New South Wales, Sydney, Australia English  Online (at home)\n",
              "2 University of New South Wales, Sydney, Australia English  Online (at home)\n",
              "3 University of New South Wales, Sydney, Australia English  Online (at home)\n",
              "4 University of New South Wales, Sydney, Australia English  Online (at home)\n",
              "5 University of New South Wales, Sydney, Australia English  Online (at home)\n",
              "6 University of New South Wales, Sydney, Australia English  Online (at home)\n",
              "  Online\n",
              "1 online\n",
              "2 online\n",
              "3 online\n",
              "4 online\n",
              "5 online\n",
              "6 online"
            ],
            "text/latex": "A data.frame: 6 × 8\n\\begin{tabular}{r|llllllll}\n  & userID & Response & Question & Country & Location & Language & Setting & Online\\\\\n  & <int> & <int> & <chr> & <chr> & <chr> & <chr> & <chr> & <chr>\\\\\n\\hline\n\t1 &  2 & 3 & Unprepared & Australia & University of New South Wales, Sydney, Australia & English & Online (at home) & online\\\\\n\t2 &  3 & 2 & Unprepared & Australia & University of New South Wales, Sydney, Australia & English & Online (at home) & online\\\\\n\t3 &  4 & 2 & Unprepared & Australia & University of New South Wales, Sydney, Australia & English & Online (at home) & online\\\\\n\t4 &  6 & 2 & Unprepared & Australia & University of New South Wales, Sydney, Australia & English & Online (at home) & online\\\\\n\t5 &  9 & 7 & Unprepared & Australia & University of New South Wales, Sydney, Australia & English & Online (at home) & online\\\\\n\t6 & 10 & 6 & Unprepared & Australia & University of New South Wales, Sydney, Australia & English & Online (at home) & online\\\\\n\\end{tabular}\n",
            "text/markdown": "\nA data.frame: 6 × 8\n\n| <!--/--> | userID &lt;int&gt; | Response &lt;int&gt; | Question &lt;chr&gt; | Country &lt;chr&gt; | Location &lt;chr&gt; | Language &lt;chr&gt; | Setting &lt;chr&gt; | Online &lt;chr&gt; |\n|---|---|---|---|---|---|---|---|---|\n| 1 |  2 | 3 | Unprepared | Australia | University of New South Wales, Sydney, Australia | English | Online (at home) | online |\n| 2 |  3 | 2 | Unprepared | Australia | University of New South Wales, Sydney, Australia | English | Online (at home) | online |\n| 3 |  4 | 2 | Unprepared | Australia | University of New South Wales, Sydney, Australia | English | Online (at home) | online |\n| 4 |  6 | 2 | Unprepared | Australia | University of New South Wales, Sydney, Australia | English | Online (at home) | online |\n| 5 |  9 | 7 | Unprepared | Australia | University of New South Wales, Sydney, Australia | English | Online (at home) | online |\n| 6 | 10 | 6 | Unprepared | Australia | University of New South Wales, Sydney, Australia | English | Online (at home) | online |\n\n",
            "text/html": [
              "<table class=\"dataframe\">\n",
              "<caption>A data.frame: 6 × 8</caption>\n",
              "<thead>\n",
              "\t<tr><th></th><th scope=col>userID</th><th scope=col>Response</th><th scope=col>Question</th><th scope=col>Country</th><th scope=col>Location</th><th scope=col>Language</th><th scope=col>Setting</th><th scope=col>Online</th></tr>\n",
              "\t<tr><th></th><th scope=col>&lt;int&gt;</th><th scope=col>&lt;int&gt;</th><th scope=col>&lt;chr&gt;</th><th scope=col>&lt;chr&gt;</th><th scope=col>&lt;chr&gt;</th><th scope=col>&lt;chr&gt;</th><th scope=col>&lt;chr&gt;</th><th scope=col>&lt;chr&gt;</th></tr>\n",
              "</thead>\n",
              "<tbody>\n",
              "\t<tr><th scope=row>1</th><td> 2</td><td>3</td><td>Unprepared</td><td>Australia</td><td>University of New South Wales, Sydney, Australia</td><td>English</td><td>Online (at home)</td><td>online</td></tr>\n",
              "\t<tr><th scope=row>2</th><td> 3</td><td>2</td><td>Unprepared</td><td>Australia</td><td>University of New South Wales, Sydney, Australia</td><td>English</td><td>Online (at home)</td><td>online</td></tr>\n",
              "\t<tr><th scope=row>3</th><td> 4</td><td>2</td><td>Unprepared</td><td>Australia</td><td>University of New South Wales, Sydney, Australia</td><td>English</td><td>Online (at home)</td><td>online</td></tr>\n",
              "\t<tr><th scope=row>4</th><td> 6</td><td>2</td><td>Unprepared</td><td>Australia</td><td>University of New South Wales, Sydney, Australia</td><td>English</td><td>Online (at home)</td><td>online</td></tr>\n",
              "\t<tr><th scope=row>5</th><td> 9</td><td>7</td><td>Unprepared</td><td>Australia</td><td>University of New South Wales, Sydney, Australia</td><td>English</td><td>Online (at home)</td><td>online</td></tr>\n",
              "\t<tr><th scope=row>6</th><td>10</td><td>6</td><td>Unprepared</td><td>Australia</td><td>University of New South Wales, Sydney, Australia</td><td>English</td><td>Online (at home)</td><td>online</td></tr>\n",
              "</tbody>\n",
              "</table>\n"
            ]
          },
          "metadata": {}
        }
      ]
    },
    {
      "cell_type": "markdown",
      "metadata": {
        "id": "-lze8JTlc74F"
      },
      "source": [
        "Our question here is:\n",
        "> Can the group the subject was in help predict their response?\n",
        "  \n",
        "> I.e., if they were in the group that was given the question where they did not read, does that help predict their response (1-10)?"
      ]
    },
    {
      "cell_type": "markdown",
      "metadata": {
        "id": "AMbKrM93zjGX"
      },
      "source": [
        "### 2. Visualize our data\n",
        "\n",
        "Then let's plot the scatterplot. Here we will choose: \n",
        "> What we'd like to predict and put it on the y-axis.\n",
        "\n",
        "> What we'd like to use to help make those predictions and put it on the x-axis.\n",
        "\n",
        "> The choice of these variables should follow from the question you're asking above!\n"
      ]
    },
    {
      "cell_type": "markdown",
      "metadata": {
        "id": "1RyfZwaKAFmq"
      },
      "source": [
        "<font color = \"darkred\"> (?) for the question mark below you should replace it with the column name that you'd like to predict (y=?) and what you'd like to use to help make those predictions (x=?). </font>"
      ]
    },
    {
      "cell_type": "code",
      "metadata": {
        "id": "YCT-75fRzjGX",
        "colab": {
          "base_uri": "https://localhost:8080/",
          "height": 437
        },
        "outputId": "051cca07-b056-4df7-ffab-63d17e7c5fe8"
      },
      "source": [
        "plot(x=factor(df_fate$Setting),y=df_fate$Response) "
      ],
      "execution_count": 25,
      "outputs": [
        {
          "output_type": "display_data",
          "data": {
            "image/png": "[encoded data removed]",
            "text/plain": [
              "plot without title"
            ]
          },
          "metadata": {
            "image/png": {
              "width": 420,
              "height": 420
            }
          }
        }
      ]
    },
    {
      "cell_type": "markdown",
      "metadata": {
        "id": "mzSMmggJDIdZ"
      },
      "source": [
        "Because the variable we are using to make the predictions is a categorical variable the plots are going to look a little different. The above plot is called a boxplot and it summarises how the response (on the y-axis) are spread out.\n",
        "\n",
        "> The middle line is the median.\n",
        "\n",
        "> The box itself is the region where the most common values lie.\n",
        "\n",
        "> Then the dashed line and horizontal lines (whiskers) is the region that covers almost all the data\n",
        "\n",
        "> For more info check out [this link](https://www.simplypsychology.org/boxplots.html)"
      ]
    },
    {
      "cell_type": "code",
      "metadata": {
        "colab": {
          "base_uri": "https://localhost:8080/",
          "height": 437
        },
        "id": "DfoWo2xOHcnP",
        "outputId": "b37a9aba-dc83-4ad4-92f6-c1f41d9b158f"
      },
      "source": [
        "plot(x=as.numeric(factor(df_fate$Question)),y=df_fate$Response) "
      ],
      "execution_count": 26,
      "outputs": [
        {
          "output_type": "display_data",
          "data": {
            "image/png": "[encoded data removed]",
            "text/plain": [
              "plot without title"
            ]
          },
          "metadata": {
            "image/png": {
              "width": 420,
              "height": 420
            }
          }
        }
      ]
    },
    {
      "cell_type": "markdown",
      "metadata": {
        "id": "K9X0c24QzjGX"
      },
      "source": [
        "### 3. Define and fit our model\n",
        "\n",
        "Now we can speficy the model we'd like to fit.\n",
        "> Remember, here we use the formula: \"what we'd like to predict\" ~ \"what we'd like to use to help make those predictions.\"\n",
        "  "
      ]
    },
    {
      "cell_type": "markdown",
      "metadata": {
        "id": "Er24y1fOAe03"
      },
      "source": [
        "<font color = \"darkred\"> (?) for the question mark below you should replace it with the formula that will help you answer your question. </font>"
      ]
    },
    {
      "cell_type": "code",
      "metadata": {
        "id": "g0-O08LrzjGY"
      },
      "source": [
        "#fit a linear model\n",
        "model_fate <- lm(?, data=df_fate)\n"
      ],
      "execution_count": 27,
      "outputs": []
    },
    {
      "cell_type": "markdown",
      "metadata": {
        "id": "svHTbyO12Guk"
      },
      "source": [
        "This bit of code then use our inputs to find the best fit linear equation for :\n",
        "> Response ~ Normal(mu, sd) \n",
        "\n",
        "> mu = a + b*Question\n"
      ]
    },
    {
      "cell_type": "markdown",
      "metadata": {
        "id": "lGtlgt5I0fJ4"
      },
      "source": [
        "Let's use the summ function to tell us what values of a and b it found for the best fit line. \n",
        "> Note: we'll also calculate our 95% confidence interval here too!"
      ]
    },
    {
      "cell_type": "code",
      "metadata": {
        "id": "32dy8P1A0fiu",
        "colab": {
          "base_uri": "https://localhost:8080/",
          "height": 306
        },
        "outputId": "59669e00-87b7-45a3-d9a5-ea10c41cd1af"
      },
      "source": [
        "#What does the best fit model look like?\n",
        "summ(model_fate, confint=TRUE)"
      ],
      "execution_count": 28,
      "outputs": [
        {
          "output_type": "display_data",
          "data": {
            "text/plain": [
              "\u001b[4mMODEL INFO:\u001b[24m\n",
              "\u001b[3mObservations:\u001b[23m 4599\n",
              "\u001b[3mDependent Variable:\u001b[23m Response\n",
              "\u001b[3mType:\u001b[23m OLS linear regression \n",
              "\n",
              "\u001b[4mMODEL FIT:\u001b[24m\n",
              "\u001b[3mF\u001b[23m(1,4597) = 8.93, \u001b[3mp\u001b[23m = 0.00\n",
              "\u001b[3mR² = \u001b[23m0.00\n",
              "\u001b[3mAdj. R² = \u001b[23m0.00 \n",
              "\n",
              "\u001b[3mStandard errors: OLS\u001b[23m\n",
              "----------------------------------------------------------\n",
              "                      Est.    2.5%   97.5%   t val.      p\n",
              "------------------ ------- ------- ------- -------- ------\n",
              "(Intercept)           4.43    4.34    4.52    94.54   0.00\n",
              "Onlineonline         -0.21   -0.35   -0.07    -2.99   0.00\n",
              "----------------------------------------------------------"
            ]
          },
          "metadata": {}
        }
      ]
    },
    {
      "cell_type": "markdown",
      "metadata": {
        "id": "4KCh21RJzjGZ"
      },
      "source": [
        "We can see from this output that the model is pretty certain that the if subjects are asked the uprepared questoin they are likely to response between 0.40 and 0.67 units higher than the prepared group.\n",
        "\n",
        "> Those are the range of population values that are compatible with our sample!\n",
        "  \n",
        "We can also get a sense of how much variation in responses our model is predicting using R2.\n",
        "\n",
        "> I.e., it is explaining very little in why some response are high and others low!"
      ]
    },
    {
      "cell_type": "markdown",
      "metadata": {
        "id": "odCSqr1BZv_u"
      },
      "source": [
        "### 4. Visualize the results"
      ]
    },
    {
      "cell_type": "markdown",
      "metadata": {
        "id": "XdjGuaFZ_jYT"
      },
      "source": [
        "Let's take a look at the estimates a little more visually"
      ]
    },
    {
      "cell_type": "code",
      "metadata": {
        "id": "r4fj57a7_mRa",
        "colab": {
          "base_uri": "https://localhost:8080/",
          "height": 471
        },
        "outputId": "4b967d2d-7047-400d-bdbb-6f42667ab7fd"
      },
      "source": [
        "#plot the estimates of the slopes\n",
        "plot_summs(model_fate)"
      ],
      "execution_count": 29,
      "outputs": [
        {
          "output_type": "stream",
          "name": "stderr",
          "text": [
            "Loading required namespace: broom.mixed\n",
            "\n"
          ]
        },
        {
          "output_type": "display_data",
          "data": {
            "image/png": "[encoded data removed]",
            "text/plain": [
              "plot without title"
            ]
          },
          "metadata": {
            "image/png": {
              "width": 420,
              "height": 420
            }
          }
        }
      ]
    },
    {
      "cell_type": "markdown",
      "metadata": {
        "id": "qhxESbN27BNZ"
      },
      "source": [
        "Let's take a look at the regression line a little more visually"
      ]
    },
    {
      "cell_type": "markdown",
      "metadata": {
        "id": "VPzC25sMA8uk"
      },
      "source": [
        "<font color = \"darkred\"> (?) for the question mark below you should replace it with the variable that you used to help make your predictions. </font>"
      ]
    },
    {
      "cell_type": "code",
      "metadata": {
        "id": "t68PheeXo7F9",
        "colab": {
          "base_uri": "https://localhost:8080/",
          "height": 437
        },
        "outputId": "e8fb4345-8ef8-45de-de39-981c3bb4ba89"
      },
      "source": [
        "#plot line on the data\n",
        "effect_plot(model_fate, pred = ?, interval = TRUE, plot.points = TRUE)"
      ],
      "execution_count": 31,
      "outputs": [
        {
          "output_type": "display_data",
          "data": {
            "image/png": "[encoded data removed]",
            "text/plain": [
              "plot without title"
            ]
          },
          "metadata": {
            "image/png": {
              "width": 420,
              "height": 420
            }
          }
        }
      ]
    },
    {
      "cell_type": "markdown",
      "metadata": {
        "id": "O7P2lMwuFONJ"
      },
      "source": [
        "The plot above shows us the estimated mean response for each of the questions. This mean is represented as a black point. Then the 95% confidence interval is shown as two black horizontal lines, above and below the estimated mean value."
      ]
    },
    {
      "cell_type": "markdown",
      "metadata": {
        "id": "ahoXU8HzYzlM"
      },
      "source": [
        "### 5. Checking assumptions"
      ]
    },
    {
      "cell_type": "markdown",
      "metadata": {
        "id": "FcO_XSKdfdyr"
      },
      "source": [
        "**Assumption 1**\n",
        "\n",
        "Let's check the assumption that the errors (residuals) are normally distributed."
      ]
    },
    {
      "cell_type": "code",
      "metadata": {
        "id": "ASugh5jufsY5",
        "colab": {
          "base_uri": "https://localhost:8080/",
          "height": 437
        },
        "outputId": "2037bd9c-85cf-4c0a-b933-1a2896972531"
      },
      "source": [
        "hist(model_fate$residuals)"
      ],
      "execution_count": 32,
      "outputs": [
        {
          "output_type": "display_data",
          "data": {
            "image/png": "[encoded data removed]",
            "text/plain": [
              "Plot with title “Histogram of model_fate$residuals”"
            ]
          },
          "metadata": {
            "image/png": {
              "width": 420,
              "height": 420
            }
          }
        }
      ]
    },
    {
      "cell_type": "markdown",
      "metadata": {
        "id": "EtBUci2VkxRS"
      },
      "source": [
        "The above plot is just like the histograms we've looked at in the past. Now we are looking at how errors are distributed.\n",
        "\n",
        "> If the errors do not look to have many small errors and few large errors (both positive and negative) then a normal distribution might not be the best model of the data. We might also be missing an important variable..."
      ]
    },
    {
      "cell_type": "markdown",
      "metadata": {
        "id": "58GItzyDhntE"
      },
      "source": [
        "**Assumption 2** - no patterns in the residuals\n",
        "  \n",
        "Let's check the assumption that the variance in the errors is constant."
      ]
    },
    {
      "cell_type": "code",
      "metadata": {
        "id": "2yUMbAxyhuy7",
        "colab": {
          "base_uri": "https://localhost:8080/",
          "height": 437
        },
        "outputId": "c3a0b5aa-6548-4bfb-f613-5de4cd9525a7"
      },
      "source": [
        "plot(y=model_fate$residuals, x=model_fate$fitted.values)\n",
        "abline(h = 0, lty=3)"
      ],
      "execution_count": 33,
      "outputs": [
        {
          "output_type": "display_data",
          "data": {
            "image/png": "[encoded data removed]",
            "text/plain": [
              "plot without title"
            ]
          },
          "metadata": {
            "image/png": {
              "width": 420,
              "height": 420
            }
          }
        }
      ]
    },
    {
      "cell_type": "markdown",
      "metadata": {
        "id": "nm3ciXHmj88J"
      },
      "source": [
        "The above plot shows you all the errors (residuals) for each value that the model predicts. Ideally, we'd like to see errors evenly distributed around 0 (i.e., the dashed line).\n",
        "\n",
        "> If there is more variance in the errors for some prediction values then this means the model is better at predicting some values than others. "
      ]
    },
    {
      "cell_type": "markdown",
      "metadata": {
        "id": "B7sq7l6wl4KZ"
      },
      "source": [
        "**Assumption 2** - no patterns in the residuals\n",
        "   \n",
        "Let's check the assumption that the relationship between your variables is linear (i.e., that a straight line and not a curvy line fit the data best). We can see this intuatively in the origianl scatter plot, or we can look at the residuals!"
      ]
    },
    {
      "cell_type": "code",
      "metadata": {
        "id": "U3V5fD6JmUg9",
        "colab": {
          "base_uri": "https://localhost:8080/",
          "height": 437
        },
        "outputId": "601793d0-ce0c-4404-ad0e-1f0ff2dc4109"
      },
      "source": [
        "plot(y=model_fate$residuals, x=model_fate$fitted.values)\n",
        "abline(h = 0, lty=3)"
      ],
      "execution_count": 34,
      "outputs": [
        {
          "output_type": "display_data",
          "data": {
            "image/png": "[encoded data removed]",
            "text/plain": [
              "plot without title"
            ]
          },
          "metadata": {
            "image/png": {
              "width": 420,
              "height": 420
            }
          }
        }
      ]
    },
    {
      "cell_type": "markdown",
      "metadata": {
        "id": "E-q2qacNmZdH"
      },
      "source": [
        "The plot above is just the line fit to the scatterplot we saw before. Intuatively you can check to see if the straight line fits the data, or if a curvy line might fit better."
      ]
    },
    {
      "cell_type": "markdown",
      "metadata": {
        "id": "6k_jpW3Em3Oq"
      },
      "source": [
        "There are two things to keep in mind when checking the assumptions of the linear regression.\n",
        "\n",
        "> The first is that the assumptions do not need to be perfect to give you a resonable estimate.\n",
        "\n",
        "> The second is that often the way the model fails can help you build a better model."
      ]
    },
    {
      "cell_type": "markdown",
      "metadata": {
        "id": "dVm_EGLicEd2"
      },
      "source": [
        "### 6. Interpret the results"
      ]
    },
    {
      "cell_type": "markdown",
      "metadata": {
        "id": "paxXBaCUcGbn"
      },
      "source": [
        "From the results above what can you answer the question you posed in section 1?  \n",
        "> What is the association between the two variables that you tested?\n",
        "\n",
        "> What does the confidence interval tell you about how certain you are in the sign and magnitude of that association?\n",
        "\n",
        "> How \"good\" are your model predictions?\n"
      ]
    }
  ]
}