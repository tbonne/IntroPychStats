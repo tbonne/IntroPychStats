{
  "nbformat": 4,
  "nbformat_minor": 0,
  "metadata": {
    "colab": {
      "name": "Intro_to_colab.ipynb",
      "provenance": [],
      "collapsed_sections": [],
      "authorship_tag": "ABX9TyPkqgEPPcxoCoaHzoyBdd3A",
      "include_colab_link": true
    },
    "kernelspec": {
      "name": "ir",
      "display_name": "R"
    },
    "language_info": {
      "name": "R"
    }
  },
  "cells": [
    {
      "cell_type": "markdown",
      "metadata": {
        "id": "view-in-github",
        "colab_type": "text"
      },
      "source": [
        "<a href=\"https://colab.research.google.com/github/tbonne/IntroPychStats/blob/main/Intro_to_colab.ipynb\" target=\"_parent\"><img src=\"https://colab.research.google.com/assets/colab-badge.svg\" alt=\"Open In Colab\"/></a>"
      ]
    },
    {
      "cell_type": "markdown",
      "metadata": {
        "id": "trouKhmEw-ii"
      },
      "source": [
        "<img src='http://drive.google.com/uc?export=view&id=1_zplE3GeQqAtwo5GzGOJIdN-EpkM1gxy' width=500>"
      ]
    },
    {
      "cell_type": "markdown",
      "metadata": {
        "id": "5Z2vKe5lxjuk"
      },
      "source": [
        "# Introducing R notebooks\n"
      ]
    },
    {
      "cell_type": "markdown",
      "metadata": {
        "id": "FqFEIuCj7Waq"
      },
      "source": [
        "Hi everyone, we'll be using R notebooks to help understand some of the statistical topics we're discusing in class. Let's take a quick look at how to use an R notebook. \n",
        "\n",
        "### Layout\n",
        "\n",
        "The first thing you might notice is that there are white and grey areas. In the white areas i'll write text giving you information or directions on what to do. While in the grey areas there will be some computer code. This code will be writen in R, but don't worry you won;t have to do much coding yourselves!! Generally, you can read these notebooks just like you would a blog, the only difference is that sometimes you'll interact with the note book by \"running\" code.\n",
        "\n",
        "\n",
        "### Running code\n",
        "\n",
        "Another thing you might notice is that by hovering over the grey areas you'll see a little play button appear on the top left of the grey area. If you click that button you'll run the code in the grey area. Generally, once you run the code you'll see some output underneath. Let's give that a try below, hover over the grey box below and press play."
      ]
    },
    {
      "cell_type": "code",
      "metadata": {
        "id": "H66PXGIp7U6s"
      },
      "source": [
        "#here we will store your name\n",
        "my_name <- \"tyler\"\n",
        "\n",
        "#here we will print your name \n",
        "print(my_name)\n",
        "\n"
      ],
      "execution_count": null,
      "outputs": []
    },
    {
      "cell_type": "markdown",
      "metadata": {
        "id": "U-JXkvJ3faek"
      },
      "source": [
        "After pressing play you should see \"tyler\" displayed directly below the grey area. If so, everything is working ok! Now if you change the name from \"tyler\" to \"yourName\" and press play again you'll see your name printed below. Sometimes, i'll get you to change parts of the code, but don't worry it will always be something small. You wont have to do very much coding yourselves, though by the end of class i'm hoping to have made coding a little less worriesome. \n",
        "\n",
        "*Note*: in the code area above did you notice that print is a function just like in google sheets. We give it some input and it will give us an output. In this case your name!"
      ]
    },
    {
      "cell_type": "markdown",
      "metadata": {
        "id": "adFyEt_Jgadv"
      },
      "source": [
        "### Working with data\n",
        "\n",
        "Sometimes we will want to bring in some data into our notebook. This can be done many ways but to make it easier for us i'll provide a code area that loads in the data from a file. Let's load in a dataset! Click play in the code block below."
      ]
    },
    {
      "cell_type": "code",
      "metadata": {
        "id": "p3XHaYFCh_JR"
      },
      "source": [
        "#here we will read in a csv file and place it into something called df\n",
        "df <- read.csv(\"https://raw.githubusercontent.com/tbonne/IntroPychStats/main/data/kidIQ.csv\", header = T)"
      ],
      "execution_count": null,
      "outputs": []
    },
    {
      "cell_type": "markdown",
      "metadata": {
        "id": "j8NxhTqrkYKs"
      },
      "source": [
        "The above code uses the function read.csv to grab the IQ data we've used in class and placed it into a variable called df. We can then ask to see what df looks like by running the code below."
      ]
    },
    {
      "cell_type": "code",
      "metadata": {
        "id": "3fOe5NGckq9Y"
      },
      "source": [
        "#take a look at our data in df\n",
        "df"
      ],
      "execution_count": null,
      "outputs": []
    },
    {
      "cell_type": "markdown",
      "metadata": {
        "id": "yBrsDNuJgh64"
      },
      "source": [
        "You should see the IQ data now! It is formatted just like in our spreadsheet, with rows being observations and columns being variables that describe each observation. "
      ]
    },
    {
      "cell_type": "markdown",
      "metadata": {
        "id": "uVDlxA4OlHpK"
      },
      "source": [
        "### Take-away-messages\n",
        "\n",
        "Remember if this seems like a lot to you, don't worry i won't ask you to do very much coding. We will primarily use these little notebooks to help learn topics we discuss in the class, so they are here to help! Also feel free to contact me on slack if anything is not working for you, or you have questions about colab! \n",
        "\n",
        "Happy coding :-)"
      ]
    }
  ]
}