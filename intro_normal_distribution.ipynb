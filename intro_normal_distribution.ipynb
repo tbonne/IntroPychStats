{
  "nbformat": 4,
  "nbformat_minor": 0,
  "metadata": {
    "colab": {
      "name": "intro_normal_distribution.ipynb",
      "provenance": [],
      "collapsed_sections": [],
      "authorship_tag": "ABX9TyOEHesaCTm2+hD2b5LWRME2",
      "include_colab_link": true
    },
    "kernelspec": {
      "name": "ir",
      "display_name": "R"
    },
    "language_info": {
      "name": "R"
    }
  },
  "cells": [
    {
      "cell_type": "markdown",
      "metadata": {
        "id": "view-in-github",
        "colab_type": "text"
      },
      "source": [
        "<a href=\"https://colab.research.google.com/github/tbonne/IntroPychStats/blob/main/intro_normal_distribution.ipynb\" target=\"_parent\"><img src=\"https://colab.research.google.com/assets/colab-badge.svg\" alt=\"Open In Colab\"/></a>"
      ]
    },
    {
      "cell_type": "markdown",
      "metadata": {
        "id": "trouKhmEw-ii"
      },
      "source": [
        "<img src='http://drive.google.com/uc?export=view&id=1Jr9LVU3XrsXvTum3iqRn3SWkClHyNvmt' width=1500>\n"
      ]
    },
    {
      "cell_type": "markdown",
      "metadata": {
        "id": "5Z2vKe5lxjuk"
      },
      "source": [
        "#<font color='darkorange'>Normal Distribution</font>"
      ]
    },
    {
      "cell_type": "markdown",
      "metadata": {
        "id": "FqFEIuCj7Waq"
      },
      "source": [
        "In this exercise we'll learn about the Normal Distribution. To do so we'll use heights of baseball players in the US. "
      ]
    },
    {
      "cell_type": "markdown",
      "metadata": {
        "id": "LxRVht2bHIb3"
      },
      "source": [
        "Let's use the mean and the standard deviation we calculated in the last exersise to create a normal distribution!"
      ]
    },
    {
      "cell_type": "code",
      "metadata": {
        "id": "H66PXGIp7U6s"
      },
      "source": [
        "#choose the parameters\n",
        "height_mean = ?\n",
        "height_sd = ?"
      ],
      "execution_count": null,
      "outputs": []
    },
    {
      "cell_type": "markdown",
      "metadata": {
        "id": "tmz5-vufMS6u"
      },
      "source": [
        "Now that we've set these parameters, let's use a normal distribution to help better understand how tall someone we see is likely to be.\n",
        " \n",
        " First let's use the normal distribution to predict one possible outcome given the mean height of all players (mean) and the standard deviation of those heights (sd), i.e., how tall will someone i see be?\n",
        "\n",
        "To do this we will use the **rnorm()** function. It takes three inputs: 1) *n* = the number of random samples to take, *mean* = the mean of the population, and *sd* = the standard deviation of the population."
      ]
    },
    {
      "cell_type": "code",
      "metadata": {
        "id": "1tvvmNoiMTt_"
      },
      "source": [
        "#Randomly visit with one of the players, how tall are they?\n",
        "rnorm(n=1, mean=height_mean, sd=height_sd )"
      ],
      "execution_count": null,
      "outputs": []
    },
    {
      "cell_type": "markdown",
      "metadata": {
        "id": "dzf3c48v8MnL"
      },
      "source": [
        "After running the code above you should see the height of a player. If you run this a few times it should give you a sense of what heights you are likely to see."
      ]
    },
    {
      "cell_type": "markdown",
      "metadata": {
        "id": "yu3_3jtcJ9yj"
      },
      "source": [
        "Let's ask the normal distribution to generate 1000 observations, and then let's look at how likely each value of height is. (i.e., if you randomly visited 1000 players!)."
      ]
    },
    {
      "cell_type": "code",
      "metadata": {
        "id": "sAXKVO08KOIs"
      },
      "source": [
        "#make predictions about heights\n",
        "height_predictions <- rnorm(1000, mean=height_mean,sd=height_sd)\n",
        "\n",
        "#take a look using a histogram\n",
        "hist(height_predictions)"
      ],
      "execution_count": null,
      "outputs": []
    },
    {
      "cell_type": "markdown",
      "metadata": {
        "id": "QwjKj1NHNFCU"
      },
      "source": [
        "Ok that is great! We can vizualize and see what outcomes happen more often! But what if we wanted to know not just the frequency that something happens, but also its probability. \n",
        "\n",
        "To calculate the probability we'll use the function **pnorm()**. This function takes three inputs: 1) *q* = the highest number of interest, 2) *mean* = the mean height in the population, and 3) *sd* = the standard devisation of the population.\n",
        "  \n",
        "In our example we want to know what the proability of seeing someone with a height between 75-76 inches. So if randomly visit players how likely is it that we will meet with someone who is 75-76 inches tall?\n",
        "  \n",
        "> note: with the binomial example we just use **dbinom()** to get the probability of a single value occuring. Unfortunately, in the case of continuous numeric values, the probability of any one value is zero. This is because there are an infinate number of values (height of 75.450040299). So we need to ask about the probability of a range of values.  \n",
        "\n",
        "To do so we will first calculate the probability of visiting someone with a hieght less than 75 inches."
      ]
    },
    {
      "cell_type": "code",
      "metadata": {
        "id": "vB1SfqiUKOI1"
      },
      "source": [
        "#calcualte the probability of seeing a player 75 inches tall or less? (e.g., x <= 75)\n",
        "prob_75_or_less <- pnorm(q=75, mean=height_mean, sd=height_sd)"
      ],
      "execution_count": null,
      "outputs": []
    },
    {
      "cell_type": "markdown",
      "metadata": {
        "id": "1P_ZzS4XZjO9"
      },
      "source": [
        "Then well calculate the probability of visiting someone with a height less than 76 inches."
      ]
    },
    {
      "cell_type": "code",
      "metadata": {
        "id": "HLdiJeUiaBuM"
      },
      "source": [
        "#calcualte the probability of seeing a player 76 inches tall or less? (e.g., x <= 76)\n",
        "prob_76_or_less <- pnorm(q=?, mean=?, sd=?)"
      ],
      "execution_count": null,
      "outputs": []
    },
    {
      "cell_type": "markdown",
      "metadata": {
        "id": "Y9ujH2yMZohP"
      },
      "source": [
        "Finally we'll calculate the difference to get the probability of visiting someone who is between the 75 and 76 inches. \n",
        "> remember that probability is a value between 0 and 1, so if you get a negative number here it might be because they way you are subtracting is in reverse. "
      ]
    },
    {
      "cell_type": "code",
      "metadata": {
        "id": "fBsdk80waAMP"
      },
      "source": [
        "#get the difference - this will tell us the probability of someone being between 75-76 inches tall!\n",
        "prob_76_or_less - prob_75_or_less"
      ],
      "execution_count": null,
      "outputs": []
    },
    {
      "cell_type": "markdown",
      "metadata": {
        "id": "qlWASnyraHXc"
      },
      "source": [
        "###<font color='darkorange'>Bonus</font>"
      ]
    },
    {
      "cell_type": "markdown",
      "metadata": {
        "id": "GmYaQ4NmTXhk"
      },
      "source": [
        "Ok if you would like to explore this further try to calculate the probability that you'll visit someone that is shorter than you!"
      ]
    },
    {
      "cell_type": "code",
      "metadata": {
        "id": "DAo-wyz2KOI1"
      },
      "source": [
        "#calculate the probability of seeing someone shorter than you (e.g., x <= 75)\n",
        "pnorm(?, mean=?, sd=?)"
      ],
      "execution_count": null,
      "outputs": []
    },
    {
      "cell_type": "markdown",
      "metadata": {
        "id": "l9WEmScxtrqw"
      },
      "source": [
        "After running the code above you should see the probability of seeing a baseball player shorter than you!"
      ]
    },
    {
      "cell_type": "markdown",
      "metadata": {
        "id": "Vv2K_vl0mjiL"
      },
      "source": [
        "Given you've calculated what the probability of seeing someone shorter than you, what's the probability of seeing someone taller?"
      ]
    },
    {
      "cell_type": "code",
      "metadata": {
        "id": "w1f6qLDbmtPx"
      },
      "source": [
        ""
      ],
      "execution_count": null,
      "outputs": []
    }
  ]
}